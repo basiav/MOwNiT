{
 "cells": [
  {
   "cell_type": "markdown",
   "metadata": {},
   "source": [
    "# Laboratorium 5"
   ]
  },
  {
   "cell_type": "markdown",
   "metadata": {},
   "source": [
    "## Zadania 1-5"
   ]
  },
  {
   "cell_type": "markdown",
   "metadata": {},
   "source": [
    "#### Analiza wyników funkcji mnożenia macierzy kwadratowych w języku C"
   ]
  },
  {
   "cell_type": "code",
   "execution_count": 13,
   "metadata": {},
   "outputs": [],
   "source": [
    "#library(\"ggplot2\")\n",
    "#library(\"ggpubr\")\n",
    "#library(\"lawstat\")\n",
    "#library(\"dplyr\")\n",
    "#library(\"rstatix\")\n",
    "#library(\"multcomp\")\n",
    "#library(\"sjmisc\")\n",
    "#library(\"GGally\")\n",
    "#library(\"emmeans\")\n",
    "#library(\"ggcorrplot\")\n",
    "#library(\"modeest\")\n",
    "#library(\"e1071\")\n",
    "#library(\"moments\")\n",
    "#library(\"psych\")\n",
    "#library(\"coefplot\")\n",
    "#library(\"janitor\")\n",
    "#library(\"googlesheets4\")\n",
    "#library(\"tidyverse\")\n",
    "#library(\"lubridate\")"
   ]
  },
  {
   "cell_type": "code",
   "execution_count": 297,
   "metadata": {},
   "outputs": [
    {
     "data": {
      "text/html": [
       "<table>\n",
       "<thead><tr><th scope=col>size</th><th scope=col>sample_nr</th><th scope=col>better_mult_time</th><th scope=col>BLAS_time</th></tr></thead>\n",
       "<tbody>\n",
       "\t<tr><td> 50</td><td> 1 </td><td>0  </td><td>0  </td></tr>\n",
       "\t<tr><td> 50</td><td> 2 </td><td>0  </td><td>0  </td></tr>\n",
       "\t<tr><td> 50</td><td> 3 </td><td>1  </td><td>0  </td></tr>\n",
       "\t<tr><td> 50</td><td> 4 </td><td>0  </td><td>0  </td></tr>\n",
       "\t<tr><td> 50</td><td> 5 </td><td>0  </td><td>0  </td></tr>\n",
       "\t<tr><td> 50</td><td> 6 </td><td>0  </td><td>0  </td></tr>\n",
       "\t<tr><td> 50</td><td> 7 </td><td>0  </td><td>0  </td></tr>\n",
       "\t<tr><td> 50</td><td> 8 </td><td>0  </td><td>0  </td></tr>\n",
       "\t<tr><td> 50</td><td> 9 </td><td>0  </td><td>0  </td></tr>\n",
       "\t<tr><td> 50</td><td>10 </td><td>0  </td><td>0  </td></tr>\n",
       "\t<tr><td>100</td><td> 1 </td><td>1  </td><td>0  </td></tr>\n",
       "\t<tr><td>100</td><td> 2 </td><td>0  </td><td>0  </td></tr>\n",
       "\t<tr><td>100</td><td> 3 </td><td>1  </td><td>0  </td></tr>\n",
       "\t<tr><td>100</td><td> 4 </td><td>1  </td><td>0  </td></tr>\n",
       "\t<tr><td>100</td><td> 5 </td><td>1  </td><td>0  </td></tr>\n",
       "\t<tr><td>100</td><td> 6 </td><td>1  </td><td>0  </td></tr>\n",
       "\t<tr><td>100</td><td> 7 </td><td>0  </td><td>0  </td></tr>\n",
       "\t<tr><td>100</td><td> 8 </td><td>0  </td><td>0  </td></tr>\n",
       "\t<tr><td>100</td><td> 9 </td><td>0  </td><td>0  </td></tr>\n",
       "\t<tr><td>100</td><td>10 </td><td>1  </td><td>0  </td></tr>\n",
       "\t<tr><td>150</td><td> 1 </td><td>1  </td><td>1  </td></tr>\n",
       "\t<tr><td>150</td><td> 2 </td><td>1  </td><td>0  </td></tr>\n",
       "\t<tr><td>150</td><td> 3 </td><td>1  </td><td>1  </td></tr>\n",
       "\t<tr><td>150</td><td> 4 </td><td>1  </td><td>0  </td></tr>\n",
       "\t<tr><td>150</td><td> 5 </td><td>1  </td><td>0  </td></tr>\n",
       "\t<tr><td>150</td><td> 6 </td><td>1  </td><td>0  </td></tr>\n",
       "\t<tr><td>150</td><td> 7 </td><td>1  </td><td>1  </td></tr>\n",
       "\t<tr><td>150</td><td> 8 </td><td>1  </td><td>0  </td></tr>\n",
       "\t<tr><td>150</td><td> 9 </td><td>1  </td><td>1  </td></tr>\n",
       "\t<tr><td>150</td><td>10 </td><td>2  </td><td>0  </td></tr>\n",
       "\t<tr><td>...</td><td>...</td><td>...</td><td>...</td></tr>\n",
       "\t<tr><td>400</td><td> 1 </td><td>22 </td><td> 4 </td></tr>\n",
       "\t<tr><td>400</td><td> 2 </td><td>22 </td><td> 3 </td></tr>\n",
       "\t<tr><td>400</td><td> 3 </td><td>22 </td><td> 3 </td></tr>\n",
       "\t<tr><td>400</td><td> 4 </td><td>22 </td><td> 3 </td></tr>\n",
       "\t<tr><td>400</td><td> 5 </td><td>21 </td><td> 4 </td></tr>\n",
       "\t<tr><td>400</td><td> 6 </td><td>22 </td><td> 4 </td></tr>\n",
       "\t<tr><td>400</td><td> 7 </td><td>26 </td><td> 5 </td></tr>\n",
       "\t<tr><td>400</td><td> 8 </td><td>21 </td><td> 4 </td></tr>\n",
       "\t<tr><td>400</td><td> 9 </td><td>23 </td><td> 4 </td></tr>\n",
       "\t<tr><td>400</td><td>10 </td><td>22 </td><td> 4 </td></tr>\n",
       "\t<tr><td>450</td><td> 1 </td><td>33 </td><td> 5 </td></tr>\n",
       "\t<tr><td>450</td><td> 2 </td><td>32 </td><td> 6 </td></tr>\n",
       "\t<tr><td>450</td><td> 3 </td><td>32 </td><td> 6 </td></tr>\n",
       "\t<tr><td>450</td><td> 4 </td><td>32 </td><td> 6 </td></tr>\n",
       "\t<tr><td>450</td><td> 5 </td><td>33 </td><td> 6 </td></tr>\n",
       "\t<tr><td>450</td><td> 6 </td><td>32 </td><td> 5 </td></tr>\n",
       "\t<tr><td>450</td><td> 7 </td><td>32 </td><td> 5 </td></tr>\n",
       "\t<tr><td>450</td><td> 8 </td><td>32 </td><td> 5 </td></tr>\n",
       "\t<tr><td>450</td><td> 9 </td><td>32 </td><td> 5 </td></tr>\n",
       "\t<tr><td>450</td><td>10 </td><td>32 </td><td> 5 </td></tr>\n",
       "\t<tr><td>500</td><td> 1 </td><td>44 </td><td> 8 </td></tr>\n",
       "\t<tr><td>500</td><td> 2 </td><td>44 </td><td> 8 </td></tr>\n",
       "\t<tr><td>500</td><td> 3 </td><td>44 </td><td> 8 </td></tr>\n",
       "\t<tr><td>500</td><td> 4 </td><td>45 </td><td> 8 </td></tr>\n",
       "\t<tr><td>500</td><td> 5 </td><td>50 </td><td>10 </td></tr>\n",
       "\t<tr><td>500</td><td> 6 </td><td>44 </td><td> 8 </td></tr>\n",
       "\t<tr><td>500</td><td> 7 </td><td>45 </td><td> 8 </td></tr>\n",
       "\t<tr><td>500</td><td> 8 </td><td>44 </td><td> 9 </td></tr>\n",
       "\t<tr><td>500</td><td> 9 </td><td>44 </td><td> 8 </td></tr>\n",
       "\t<tr><td>500</td><td>10 </td><td>49 </td><td> 9 </td></tr>\n",
       "</tbody>\n",
       "</table>\n"
      ],
      "text/latex": [
       "\\begin{tabular}{r|llll}\n",
       " size & sample\\_nr & better\\_mult\\_time & BLAS\\_time\\\\\n",
       "\\hline\n",
       "\t  50 &  1  & 0   & 0  \\\\\n",
       "\t  50 &  2  & 0   & 0  \\\\\n",
       "\t  50 &  3  & 1   & 0  \\\\\n",
       "\t  50 &  4  & 0   & 0  \\\\\n",
       "\t  50 &  5  & 0   & 0  \\\\\n",
       "\t  50 &  6  & 0   & 0  \\\\\n",
       "\t  50 &  7  & 0   & 0  \\\\\n",
       "\t  50 &  8  & 0   & 0  \\\\\n",
       "\t  50 &  9  & 0   & 0  \\\\\n",
       "\t  50 & 10  & 0   & 0  \\\\\n",
       "\t 100 &  1  & 1   & 0  \\\\\n",
       "\t 100 &  2  & 0   & 0  \\\\\n",
       "\t 100 &  3  & 1   & 0  \\\\\n",
       "\t 100 &  4  & 1   & 0  \\\\\n",
       "\t 100 &  5  & 1   & 0  \\\\\n",
       "\t 100 &  6  & 1   & 0  \\\\\n",
       "\t 100 &  7  & 0   & 0  \\\\\n",
       "\t 100 &  8  & 0   & 0  \\\\\n",
       "\t 100 &  9  & 0   & 0  \\\\\n",
       "\t 100 & 10  & 1   & 0  \\\\\n",
       "\t 150 &  1  & 1   & 1  \\\\\n",
       "\t 150 &  2  & 1   & 0  \\\\\n",
       "\t 150 &  3  & 1   & 1  \\\\\n",
       "\t 150 &  4  & 1   & 0  \\\\\n",
       "\t 150 &  5  & 1   & 0  \\\\\n",
       "\t 150 &  6  & 1   & 0  \\\\\n",
       "\t 150 &  7  & 1   & 1  \\\\\n",
       "\t 150 &  8  & 1   & 0  \\\\\n",
       "\t 150 &  9  & 1   & 1  \\\\\n",
       "\t 150 & 10  & 2   & 0  \\\\\n",
       "\t ... & ... & ... & ...\\\\\n",
       "\t 400 &  1  & 22  &  4 \\\\\n",
       "\t 400 &  2  & 22  &  3 \\\\\n",
       "\t 400 &  3  & 22  &  3 \\\\\n",
       "\t 400 &  4  & 22  &  3 \\\\\n",
       "\t 400 &  5  & 21  &  4 \\\\\n",
       "\t 400 &  6  & 22  &  4 \\\\\n",
       "\t 400 &  7  & 26  &  5 \\\\\n",
       "\t 400 &  8  & 21  &  4 \\\\\n",
       "\t 400 &  9  & 23  &  4 \\\\\n",
       "\t 400 & 10  & 22  &  4 \\\\\n",
       "\t 450 &  1  & 33  &  5 \\\\\n",
       "\t 450 &  2  & 32  &  6 \\\\\n",
       "\t 450 &  3  & 32  &  6 \\\\\n",
       "\t 450 &  4  & 32  &  6 \\\\\n",
       "\t 450 &  5  & 33  &  6 \\\\\n",
       "\t 450 &  6  & 32  &  5 \\\\\n",
       "\t 450 &  7  & 32  &  5 \\\\\n",
       "\t 450 &  8  & 32  &  5 \\\\\n",
       "\t 450 &  9  & 32  &  5 \\\\\n",
       "\t 450 & 10  & 32  &  5 \\\\\n",
       "\t 500 &  1  & 44  &  8 \\\\\n",
       "\t 500 &  2  & 44  &  8 \\\\\n",
       "\t 500 &  3  & 44  &  8 \\\\\n",
       "\t 500 &  4  & 45  &  8 \\\\\n",
       "\t 500 &  5  & 50  & 10 \\\\\n",
       "\t 500 &  6  & 44  &  8 \\\\\n",
       "\t 500 &  7  & 45  &  8 \\\\\n",
       "\t 500 &  8  & 44  &  9 \\\\\n",
       "\t 500 &  9  & 44  &  8 \\\\\n",
       "\t 500 & 10  & 49  &  9 \\\\\n",
       "\\end{tabular}\n"
      ],
      "text/markdown": [
       "\n",
       "| size | sample_nr | better_mult_time | BLAS_time |\n",
       "|---|---|---|---|\n",
       "|  50 |  1  | 0   | 0   |\n",
       "|  50 |  2  | 0   | 0   |\n",
       "|  50 |  3  | 1   | 0   |\n",
       "|  50 |  4  | 0   | 0   |\n",
       "|  50 |  5  | 0   | 0   |\n",
       "|  50 |  6  | 0   | 0   |\n",
       "|  50 |  7  | 0   | 0   |\n",
       "|  50 |  8  | 0   | 0   |\n",
       "|  50 |  9  | 0   | 0   |\n",
       "|  50 | 10  | 0   | 0   |\n",
       "| 100 |  1  | 1   | 0   |\n",
       "| 100 |  2  | 0   | 0   |\n",
       "| 100 |  3  | 1   | 0   |\n",
       "| 100 |  4  | 1   | 0   |\n",
       "| 100 |  5  | 1   | 0   |\n",
       "| 100 |  6  | 1   | 0   |\n",
       "| 100 |  7  | 0   | 0   |\n",
       "| 100 |  8  | 0   | 0   |\n",
       "| 100 |  9  | 0   | 0   |\n",
       "| 100 | 10  | 1   | 0   |\n",
       "| 150 |  1  | 1   | 1   |\n",
       "| 150 |  2  | 1   | 0   |\n",
       "| 150 |  3  | 1   | 1   |\n",
       "| 150 |  4  | 1   | 0   |\n",
       "| 150 |  5  | 1   | 0   |\n",
       "| 150 |  6  | 1   | 0   |\n",
       "| 150 |  7  | 1   | 1   |\n",
       "| 150 |  8  | 1   | 0   |\n",
       "| 150 |  9  | 1   | 1   |\n",
       "| 150 | 10  | 2   | 0   |\n",
       "| ... | ... | ... | ... |\n",
       "| 400 |  1  | 22  |  4  |\n",
       "| 400 |  2  | 22  |  3  |\n",
       "| 400 |  3  | 22  |  3  |\n",
       "| 400 |  4  | 22  |  3  |\n",
       "| 400 |  5  | 21  |  4  |\n",
       "| 400 |  6  | 22  |  4  |\n",
       "| 400 |  7  | 26  |  5  |\n",
       "| 400 |  8  | 21  |  4  |\n",
       "| 400 |  9  | 23  |  4  |\n",
       "| 400 | 10  | 22  |  4  |\n",
       "| 450 |  1  | 33  |  5  |\n",
       "| 450 |  2  | 32  |  6  |\n",
       "| 450 |  3  | 32  |  6  |\n",
       "| 450 |  4  | 32  |  6  |\n",
       "| 450 |  5  | 33  |  6  |\n",
       "| 450 |  6  | 32  |  5  |\n",
       "| 450 |  7  | 32  |  5  |\n",
       "| 450 |  8  | 32  |  5  |\n",
       "| 450 |  9  | 32  |  5  |\n",
       "| 450 | 10  | 32  |  5  |\n",
       "| 500 |  1  | 44  |  8  |\n",
       "| 500 |  2  | 44  |  8  |\n",
       "| 500 |  3  | 44  |  8  |\n",
       "| 500 |  4  | 45  |  8  |\n",
       "| 500 |  5  | 50  | 10  |\n",
       "| 500 |  6  | 44  |  8  |\n",
       "| 500 |  7  | 45  |  8  |\n",
       "| 500 |  8  | 44  |  9  |\n",
       "| 500 |  9  | 44  |  8  |\n",
       "| 500 | 10  | 49  |  9  |\n",
       "\n"
      ],
      "text/plain": [
       "    size sample_nr better_mult_time BLAS_time\n",
       "1    50   1        0                0        \n",
       "2    50   2        0                0        \n",
       "3    50   3        1                0        \n",
       "4    50   4        0                0        \n",
       "5    50   5        0                0        \n",
       "6    50   6        0                0        \n",
       "7    50   7        0                0        \n",
       "8    50   8        0                0        \n",
       "9    50   9        0                0        \n",
       "10   50  10        0                0        \n",
       "11  100   1        1                0        \n",
       "12  100   2        0                0        \n",
       "13  100   3        1                0        \n",
       "14  100   4        1                0        \n",
       "15  100   5        1                0        \n",
       "16  100   6        1                0        \n",
       "17  100   7        0                0        \n",
       "18  100   8        0                0        \n",
       "19  100   9        0                0        \n",
       "20  100  10        1                0        \n",
       "21  150   1        1                1        \n",
       "22  150   2        1                0        \n",
       "23  150   3        1                1        \n",
       "24  150   4        1                0        \n",
       "25  150   5        1                0        \n",
       "26  150   6        1                0        \n",
       "27  150   7        1                1        \n",
       "28  150   8        1                0        \n",
       "29  150   9        1                1        \n",
       "30  150  10        2                0        \n",
       "... ...  ...       ...              ...      \n",
       "71  400   1        22                4       \n",
       "72  400   2        22                3       \n",
       "73  400   3        22                3       \n",
       "74  400   4        22                3       \n",
       "75  400   5        21                4       \n",
       "76  400   6        22                4       \n",
       "77  400   7        26                5       \n",
       "78  400   8        21                4       \n",
       "79  400   9        23                4       \n",
       "80  400  10        22                4       \n",
       "81  450   1        33                5       \n",
       "82  450   2        32                6       \n",
       "83  450   3        32                6       \n",
       "84  450   4        32                6       \n",
       "85  450   5        33                6       \n",
       "86  450   6        32                5       \n",
       "87  450   7        32                5       \n",
       "88  450   8        32                5       \n",
       "89  450   9        32                5       \n",
       "90  450  10        32                5       \n",
       "91  500   1        44                8       \n",
       "92  500   2        44                8       \n",
       "93  500   3        44                8       \n",
       "94  500   4        45                8       \n",
       "95  500   5        50               10       \n",
       "96  500   6        44                8       \n",
       "97  500   7        45                8       \n",
       "98  500   8        44                9       \n",
       "99  500   9        44                8       \n",
       "100 500  10        49                9       "
      ]
     },
     "metadata": {},
     "output_type": "display_data"
    }
   ],
   "source": [
    "# Wczytanie wyników pomiarów mnożenia macierzy w języku C\n",
    "results = read.csv(\"results.csv\")\n",
    "\n",
    "# Porównywać będziemy better_multiplication oraz mnożenie macierzy z biblioteki CBLAS\n",
    "res <- results\n",
    "res[, c(\"size\", \"sample_nr\", \"better_mult_time\", \"BLAS_time\")]"
   ]
  },
  {
   "cell_type": "code",
   "execution_count": 298,
   "metadata": {},
   "outputs": [
    {
     "data": {
      "text/html": [
       "<table>\n",
       "<thead><tr><th scope=col>size</th><th scope=col>count</th><th scope=col>better_mult_mean</th><th scope=col>better_mult_sd</th><th scope=col>BLAS_mult_mean</th><th scope=col>BLAS_mult_sd</th></tr></thead>\n",
       "<tbody>\n",
       "\t<tr><td> 50      </td><td>10       </td><td> 0.1     </td><td>0.3162278</td><td>0.0      </td><td>0.0000000</td></tr>\n",
       "\t<tr><td>100      </td><td>10       </td><td> 0.6     </td><td>0.5163978</td><td>0.0      </td><td>0.0000000</td></tr>\n",
       "\t<tr><td>150      </td><td>10       </td><td> 1.1     </td><td>0.3162278</td><td>0.4      </td><td>0.5163978</td></tr>\n",
       "\t<tr><td>200      </td><td>10       </td><td> 3.0     </td><td>0.6666667</td><td>0.7      </td><td>0.4830459</td></tr>\n",
       "\t<tr><td>250      </td><td>10       </td><td> 6.2     </td><td>0.9189366</td><td>1.2      </td><td>0.6324555</td></tr>\n",
       "\t<tr><td>300      </td><td>10       </td><td>10.4     </td><td>0.8432740</td><td>1.9      </td><td>0.5676462</td></tr>\n",
       "\t<tr><td>350      </td><td>10       </td><td>15.6     </td><td>1.5776213</td><td>2.8      </td><td>0.6324555</td></tr>\n",
       "\t<tr><td>400      </td><td>10       </td><td>22.3     </td><td>1.4181365</td><td>3.8      </td><td>0.6324555</td></tr>\n",
       "\t<tr><td>450      </td><td>10       </td><td>32.2     </td><td>0.4216370</td><td>5.4      </td><td>0.5163978</td></tr>\n",
       "\t<tr><td>500      </td><td>10       </td><td>45.3     </td><td>2.2632327</td><td>8.4      </td><td>0.6992059</td></tr>\n",
       "</tbody>\n",
       "</table>\n"
      ],
      "text/latex": [
       "\\begin{tabular}{r|llllll}\n",
       " size & count & better\\_mult\\_mean & better\\_mult\\_sd & BLAS\\_mult\\_mean & BLAS\\_mult\\_sd\\\\\n",
       "\\hline\n",
       "\t  50       & 10        &  0.1      & 0.3162278 & 0.0       & 0.0000000\\\\\n",
       "\t 100       & 10        &  0.6      & 0.5163978 & 0.0       & 0.0000000\\\\\n",
       "\t 150       & 10        &  1.1      & 0.3162278 & 0.4       & 0.5163978\\\\\n",
       "\t 200       & 10        &  3.0      & 0.6666667 & 0.7       & 0.4830459\\\\\n",
       "\t 250       & 10        &  6.2      & 0.9189366 & 1.2       & 0.6324555\\\\\n",
       "\t 300       & 10        & 10.4      & 0.8432740 & 1.9       & 0.5676462\\\\\n",
       "\t 350       & 10        & 15.6      & 1.5776213 & 2.8       & 0.6324555\\\\\n",
       "\t 400       & 10        & 22.3      & 1.4181365 & 3.8       & 0.6324555\\\\\n",
       "\t 450       & 10        & 32.2      & 0.4216370 & 5.4       & 0.5163978\\\\\n",
       "\t 500       & 10        & 45.3      & 2.2632327 & 8.4       & 0.6992059\\\\\n",
       "\\end{tabular}\n"
      ],
      "text/markdown": [
       "\n",
       "| size | count | better_mult_mean | better_mult_sd | BLAS_mult_mean | BLAS_mult_sd |\n",
       "|---|---|---|---|---|---|\n",
       "|  50       | 10        |  0.1      | 0.3162278 | 0.0       | 0.0000000 |\n",
       "| 100       | 10        |  0.6      | 0.5163978 | 0.0       | 0.0000000 |\n",
       "| 150       | 10        |  1.1      | 0.3162278 | 0.4       | 0.5163978 |\n",
       "| 200       | 10        |  3.0      | 0.6666667 | 0.7       | 0.4830459 |\n",
       "| 250       | 10        |  6.2      | 0.9189366 | 1.2       | 0.6324555 |\n",
       "| 300       | 10        | 10.4      | 0.8432740 | 1.9       | 0.5676462 |\n",
       "| 350       | 10        | 15.6      | 1.5776213 | 2.8       | 0.6324555 |\n",
       "| 400       | 10        | 22.3      | 1.4181365 | 3.8       | 0.6324555 |\n",
       "| 450       | 10        | 32.2      | 0.4216370 | 5.4       | 0.5163978 |\n",
       "| 500       | 10        | 45.3      | 2.2632327 | 8.4       | 0.6992059 |\n",
       "\n"
      ],
      "text/plain": [
       "   size count better_mult_mean better_mult_sd BLAS_mult_mean BLAS_mult_sd\n",
       "1   50  10     0.1             0.3162278      0.0            0.0000000   \n",
       "2  100  10     0.6             0.5163978      0.0            0.0000000   \n",
       "3  150  10     1.1             0.3162278      0.4            0.5163978   \n",
       "4  200  10     3.0             0.6666667      0.7            0.4830459   \n",
       "5  250  10     6.2             0.9189366      1.2            0.6324555   \n",
       "6  300  10    10.4             0.8432740      1.9            0.5676462   \n",
       "7  350  10    15.6             1.5776213      2.8            0.6324555   \n",
       "8  400  10    22.3             1.4181365      3.8            0.6324555   \n",
       "9  450  10    32.2             0.4216370      5.4            0.5163978   \n",
       "10 500  10    45.3             2.2632327      8.4            0.6992059   "
      ]
     },
     "metadata": {},
     "output_type": "display_data"
    }
   ],
   "source": [
    "# Results gruped by matrix size, information about mean and sd\n",
    "res_grouped = group_by(res, size) %>%\n",
    "  summarise(\n",
    "    count = n(),\n",
    "    better_mult_mean = mean(better_mult_time, na.rm = TRUE),\n",
    "    better_mult_sd = sd(better_mult_time, na.rm = TRUE),\n",
    "    BLAS_mult_mean = mean(BLAS_time, na.rm = TRUE),\n",
    "    BLAS_mult_sd = sd(BLAS_time, na.rm = TRUE)\n",
    "  )\n",
    "\n",
    "res_grouped"
   ]
  },
  {
   "cell_type": "code",
   "execution_count": 299,
   "metadata": {},
   "outputs": [],
   "source": [
    "# DataFrames\n",
    "size_and_better_mult=data.frame(res_grouped$size, res_grouped$better_mult_mean, res_grouped$better_mult_sd)\n",
    "size_and_BLAS_mult=data.frame(res_grouped$size, res_grouped$BLAS_mult_mean, res_grouped$BLAS_mult_sd)"
   ]
  },
  {
   "cell_type": "code",
   "execution_count": 300,
   "metadata": {},
   "outputs": [
    {
     "data": {
      "image/png": "[encoded data removed]",
      "text/plain": [
       "plot without title"
      ]
     },
     "metadata": {},
     "output_type": "display_data"
    }
   ],
   "source": [
    "# Wykres średnich czasów dla better_mult\n",
    "ggplot(data=size_and_better_mult, aes(x=res_grouped$size, y=res_grouped$better_mult_mean)) + geom_point() + \n",
    "geom_errorbar(aes(x=res_grouped$size, ymin=res_grouped$better_mult_mean - res_grouped$better_mult_sd, ymax=res_grouped$better_mult_mean+res_grouped$better_mult_sd),\n",
    "             width=0.4, colour=\"orange\", alpha=0.5, size=1.3) + labs(x=\"matrix size\", y=\"mean time for better_mult\") +\n",
    "            ggtitle(\"Wykres średnich czasów better_mult w funkcji rozmiaru macierzy\") +\n",
    "            theme(plot.title=element_text(hjust=0.5))"
   ]
  },
  {
   "cell_type": "code",
   "execution_count": 301,
   "metadata": {},
   "outputs": [
    {
     "data": {
      "image/png": "[encoded data removed]",
      "text/plain": [
       "plot without title"
      ]
     },
     "metadata": {},
     "output_type": "display_data"
    }
   ],
   "source": [
    "# Wykres średnich czasów dla BLAS_mult\n",
    "ggplot(data=size_and_BLAS_mult, aes(x=res_grouped$size, y=res_grouped$BLAS_mult_mean)) + geom_point(colour=\"blue\") + \n",
    "geom_errorbar(aes(x=res_grouped$size, ymin=res_grouped$BLAS_mult_mean - res_grouped$BLAS_mult_sd, ymax=res_grouped$BLAS_mult_mean+res_grouped$BLAS_mult_sd),\n",
    "             width=0.4, colour=\"violet\", alpha=0.7, size=1.3) + labs(x=\"matrix size\", y=\"mean time for BLAS_mult\") +\n",
    "            ggtitle(\"Wykres średnich czasów BLAS_mult w funkcji rozmiaru macierzy\") +\n",
    "            theme(plot.title=element_text(hjust=0.5))"
   ]
  },
  {
   "cell_type": "code",
   "execution_count": 302,
   "metadata": {},
   "outputs": [
    {
     "data": {
      "image/png": "[encoded data removed]",
      "text/plain": [
       "plot without title"
      ]
     },
     "metadata": {},
     "output_type": "display_data"
    }
   ],
   "source": [
    "# Wykres wspólny dla obydwu metod mnożenia\n",
    "add_points <- function(df) {\n",
    "  if (identical(df,size_and_better_mult)){\n",
    "      geom_point(aes(x = res_grouped$size, y = res_grouped$better_mult_mean, colour=\"better_mult\"), data = df)\n",
    "  }\n",
    "    else {\n",
    "        geom_point(aes(x = res_grouped$size, y = res_grouped$BLAS_mult_mean, colour=\"BLAS_mult\"), data = df)\n",
    "    }\n",
    "}\n",
    "\n",
    "\n",
    "add_errorbars <- function(df) {\n",
    "    if (identical(df,size_and_better_mult)){\n",
    "        geom_errorbar(aes(x=res_grouped$size, ymin=res_grouped$better_mult_mean - res_grouped$better_mult_sd, ymax=res_grouped$better_mult_mean+res_grouped$better_mult_sd), data=df,\n",
    "    width=0.4, colour=\"orange\", alpha=0.5, size=1.3)\n",
    "    }\n",
    "    else {\n",
    "        geom_errorbar(aes(x=res_grouped$size, ymin=res_grouped$BLAS_mult_mean - res_grouped$BLAS_mult_sd, ymax=res_grouped$BLAS_mult_mean+res_grouped$BLAS_mult_sd), data=df,\n",
    "    width=0.4, colour=\"violet\", alpha=0.7, size=1.3)\n",
    "    }\n",
    "}\n",
    "\n",
    "common_plot <- ggplot() + list(add_points(size_and_better_mult)) + list(add_errorbars(size_and_better_mult)) + \n",
    "    list(add_points(size_and_BLAS_mult)) + list(add_errorbars(size_and_BLAS_mult)) +\n",
    "    labs(x=\"matrix size\", y=\"mean multiplication time\") +\n",
    "            ggtitle(\"Wykres średnich czasów mnożenia macierzy w funkcji rozmiaru macierzy\") +\n",
    "            theme(plot.title=element_text(hjust=0.5)) +\n",
    "    scale_colour_manual(\"\", \n",
    "                      breaks = c(\"BLAS_mult\", \"better_mult\"),\n",
    "                      values = c(\"blue\", \"black\"))\n",
    "\n",
    "common_plot"
   ]
  },
  {
   "cell_type": "markdown",
   "metadata": {},
   "source": [
    "#### Aproksymacja better_mult"
   ]
  },
  {
   "cell_type": "code",
   "execution_count": 303,
   "metadata": {},
   "outputs": [
    {
     "data": {
      "text/plain": [
       "\n",
       "Call:\n",
       "lm(formula = y ~ poly(x, 3, raw = TRUE), data = better_mult_data)\n",
       "\n",
       "Coefficients:\n",
       "            (Intercept)  poly(x, 3, raw = TRUE)1  poly(x, 3, raw = TRUE)2  \n",
       "             -7.033e-01                1.444e-02               -5.848e-05  \n",
       "poly(x, 3, raw = TRUE)3  \n",
       "              4.242e-07  \n"
      ]
     },
     "metadata": {},
     "output_type": "display_data"
    }
   ],
   "source": [
    "# Generujemy ciąg punktów, który będziemy aproksymować\n",
    "x=res_grouped$size\n",
    "y=res_grouped$better_mult_mean\n",
    "better_mult_data=data.frame(x,y)\n",
    "\n",
    "# Fitujemy zwykłym wielomianem stopnia 3\n",
    "fit1=lm(y ~ poly(x,3,raw=TRUE), data=better_mult_data)\n",
    "\n",
    "# Generujemy listę punktów dla wyliczania wartości wielomianu aproksymującego\n",
    "better_mult_app_data=data.frame(x=seq(0,500,length.out=10000))\n",
    "better_mult_app_data$y=predict(fit1,better_mult_app_data)\n",
    "\n",
    "# Wielomian aproksymujący\n",
    "fit1"
   ]
  },
  {
   "cell_type": "markdown",
   "metadata": {},
   "source": [
    "#### Aproksymacja BLAS_mult"
   ]
  },
  {
   "cell_type": "code",
   "execution_count": 304,
   "metadata": {},
   "outputs": [
    {
     "data": {
      "text/plain": [
       "\n",
       "Call:\n",
       "lm(formula = z ~ poly(w, 3, raw = TRUE), data = BLAS_mult_data)\n",
       "\n",
       "Coefficients:\n",
       "            (Intercept)  poly(w, 3, raw = TRUE)1  poly(w, 3, raw = TRUE)2  \n",
       "             -6.900e-01                1.328e-02               -5.692e-05  \n",
       "poly(w, 3, raw = TRUE)3  \n",
       "              1.316e-07  \n"
      ]
     },
     "metadata": {},
     "output_type": "display_data"
    }
   ],
   "source": [
    "# Generujemy ciąg punktów, który będziemy aproksymować\n",
    "w=res_grouped$size\n",
    "z=res_grouped$BLAS_mult_mean\n",
    "BLAS_mult_data=data.frame(w,z)\n",
    "\n",
    "# Fitujemy zwykłym wielomianem stopnia 3\n",
    "fit2=lm(z ~ poly(w,3,raw=TRUE), data=BLAS_mult_data)\n",
    "\n",
    "# Generujemy listę punktów dla wyliczania wartości wielomianu aproksymującego\n",
    "BLAS_mult_app_data=data.frame(w=seq(0,500,length.out=10000))\n",
    "BLAS_mult_app_data$z=predict(fit2,BLAS_mult_app_data)\n",
    "\n",
    "# Wielomian aproksymujący\n",
    "fit2"
   ]
  },
  {
   "cell_type": "markdown",
   "metadata": {},
   "source": [
    "#### Wykres średnich czasów wraz z wielomianami aproksymującymi"
   ]
  },
  {
   "cell_type": "code",
   "execution_count": 305,
   "metadata": {},
   "outputs": [
    {
     "data": {
      "image/png": "[encoded data removed]",
      "text/plain": [
       "plot without title"
      ]
     },
     "metadata": {},
     "output_type": "display_data"
    }
   ],
   "source": [
    "last_plot() + geom_line(data=better_mult_app_data, aes(x,y)) + geom_line(data=BLAS_mult_app_data, aes(w,z), colour=\"blue\")"
   ]
  },
  {
   "cell_type": "markdown",
   "metadata": {},
   "source": [
    "## Zadanie 6"
   ]
  },
  {
   "cell_type": "markdown",
   "metadata": {},
   "source": [
    "Dopasowanie krzywej wykładniczej do liczby wykrytych zakażeń koronawirusem. Wykorzystane dane pochodzą z:\n",
    "https://docs.google.com/spreadsheets/d/1ZIdpVF5AfbkFvGxey92RQLjRVWF8_oWN5-hSbFDL8g0/htmlview#."
   ]
  },
  {
   "cell_type": "code",
   "execution_count": 18,
   "metadata": {},
   "outputs": [
    {
     "name": "stderr",
     "output_type": "stream",
     "text": [
      "Reading from \"COVID-19 prognoza\"\n",
      "Range \"A:G\"\n",
      "New names:\n",
      "* `` -> ...1\n",
      "* `` -> ...4\n",
      "* `prognoza z ostatnich 7 dni [R2 = 0.9736]` -> `prognoza z ostatnich 7 dni [R2 = 0.9736]...5`\n",
      "* `prognoza z ostatnich 7 dni [R2 = 0.9736]` -> `prognoza z ostatnich 7 dni [R2 = 0.9736]...6`\n"
     ]
    }
   ],
   "source": [
    "# googlecheets4, tidyverse\n",
    "sheets_deauth()\n",
    "covid_Poland=read_sheet(\"https://docs.google.com/spreadsheets/d/1ZIdpVF5AfbkFvGxey92RQLjRVWF8_oWN5-hSbFDL8g0/htmlview#\", range=\"A:G\")"
   ]
  },
  {
   "cell_type": "code",
   "execution_count": 32,
   "metadata": {},
   "outputs": [
    {
     "data": {
      "text/html": [
       "<table>\n",
       "<thead><tr><th scope=col>Date</th><th scope=col>Day</th><th scope=col>Reported_all</th><th scope=col>Reported_delta</th></tr></thead>\n",
       "<tbody>\n",
       "\t<tr><td>2020-03-05</td><td> 1        </td><td>   1      </td><td>  0       </td></tr>\n",
       "\t<tr><td>2020-03-06</td><td> 2        </td><td>   5      </td><td>  4       </td></tr>\n",
       "\t<tr><td>2020-03-07</td><td> 3        </td><td>   6      </td><td>  1       </td></tr>\n",
       "\t<tr><td>2020-03-08</td><td> 4        </td><td>  11      </td><td>  5       </td></tr>\n",
       "\t<tr><td>2020-03-09</td><td> 5        </td><td>  17      </td><td>  6       </td></tr>\n",
       "\t<tr><td>2020-03-10</td><td> 6        </td><td>  22      </td><td>  5       </td></tr>\n",
       "\t<tr><td>2020-03-11</td><td> 7        </td><td>  31      </td><td>  9       </td></tr>\n",
       "\t<tr><td>2020-03-12</td><td> 8        </td><td>  51      </td><td> 20       </td></tr>\n",
       "\t<tr><td>2020-03-13</td><td> 9        </td><td>  68      </td><td> 17       </td></tr>\n",
       "\t<tr><td>2020-03-14</td><td>10        </td><td> 104      </td><td> 36       </td></tr>\n",
       "\t<tr><td>2020-03-15</td><td>11        </td><td> 125      </td><td> 21       </td></tr>\n",
       "\t<tr><td>2020-03-16</td><td>12        </td><td> 177      </td><td> 52       </td></tr>\n",
       "\t<tr><td>2020-03-17</td><td>13        </td><td> 238      </td><td> 61       </td></tr>\n",
       "\t<tr><td>2020-03-18</td><td>14        </td><td> 287      </td><td> 49       </td></tr>\n",
       "\t<tr><td>2020-03-19</td><td>15        </td><td> 355      </td><td> 68       </td></tr>\n",
       "\t<tr><td>2020-03-20</td><td>16        </td><td> 425      </td><td> 70       </td></tr>\n",
       "\t<tr><td>2020-03-21</td><td>17        </td><td> 536      </td><td>111       </td></tr>\n",
       "\t<tr><td>2020-03-22</td><td>18        </td><td> 634      </td><td> 98       </td></tr>\n",
       "\t<tr><td>2020-03-23</td><td>19        </td><td> 749      </td><td>115       </td></tr>\n",
       "\t<tr><td>2020-03-24</td><td>20        </td><td> 901      </td><td>152       </td></tr>\n",
       "\t<tr><td>2020-03-25</td><td>21        </td><td>1051      </td><td>150       </td></tr>\n",
       "\t<tr><td>2020-03-26</td><td>22        </td><td>1221      </td><td>170       </td></tr>\n",
       "\t<tr><td>2020-03-27</td><td>23        </td><td>1389      </td><td>168       </td></tr>\n",
       "\t<tr><td>2020-03-28</td><td>24        </td><td>1638      </td><td>249       </td></tr>\n",
       "\t<tr><td>2020-03-29</td><td>25        </td><td>1862      </td><td>224       </td></tr>\n",
       "\t<tr><td>2020-03-30</td><td>26        </td><td>2055      </td><td>193       </td></tr>\n",
       "\t<tr><td>2020-03-31</td><td>27        </td><td>2311      </td><td>256       </td></tr>\n",
       "\t<tr><td>2020-04-01</td><td>28        </td><td>2554      </td><td>243       </td></tr>\n",
       "\t<tr><td>2020-04-02</td><td>29        </td><td>2946      </td><td>392       </td></tr>\n",
       "\t<tr><td>2020-04-03</td><td>30        </td><td>3383      </td><td>437       </td></tr>\n",
       "\t<tr><td>...</td><td>...</td><td>...</td><td>...</td></tr>\n",
       "\t<tr><td>2021-03-15</td><td>376       </td><td>1918515   </td><td>10896     </td></tr>\n",
       "\t<tr><td>2021-03-16</td><td>377       </td><td>1932911   </td><td>14396     </td></tr>\n",
       "\t<tr><td>2021-03-17</td><td>378       </td><td>1957963   </td><td>25052     </td></tr>\n",
       "\t<tr><td>2021-03-18</td><td>379       </td><td>1985241   </td><td>27278     </td></tr>\n",
       "\t<tr><td>2021-03-19</td><td>380       </td><td>2011239   </td><td>25998     </td></tr>\n",
       "\t<tr><td>2021-03-20</td><td>381       </td><td>2037644   </td><td>26405     </td></tr>\n",
       "\t<tr><td>2021-03-21</td><td>382       </td><td>2059493   </td><td>21849     </td></tr>\n",
       "\t<tr><td>2021-03-22</td><td>383       </td><td>2074071   </td><td>14578     </td></tr>\n",
       "\t<tr><td>2021-03-23</td><td>384       </td><td>2090812   </td><td>16741     </td></tr>\n",
       "\t<tr><td>2021-03-24</td><td>385       </td><td>2120790   </td><td>29978     </td></tr>\n",
       "\t<tr><td>2021-03-25</td><td>386       </td><td>2154941   </td><td>34151     </td></tr>\n",
       "\t<tr><td>2021-03-26</td><td>387       </td><td>2190084   </td><td>35143     </td></tr>\n",
       "\t<tr><td>2021-03-27</td><td>388       </td><td>2221841   </td><td>31757     </td></tr>\n",
       "\t<tr><td>2021-03-28</td><td>389       </td><td>2251094   </td><td>29253     </td></tr>\n",
       "\t<tr><td>2021-03-29</td><td>390       </td><td>2268059   </td><td>16965     </td></tr>\n",
       "\t<tr><td>2021-03-30</td><td>391       </td><td>2288929   </td><td>20870     </td></tr>\n",
       "\t<tr><td>2021-03-31</td><td>392       </td><td>2321803   </td><td>32874     </td></tr>\n",
       "\t<tr><td>2021-04-01</td><td>393       </td><td>2357054   </td><td>35251     </td></tr>\n",
       "\t<tr><td>2021-04-02</td><td>394       </td><td>2387600   </td><td>30546     </td></tr>\n",
       "\t<tr><td>2021-04-03</td><td>395       </td><td>2415673   </td><td>28073     </td></tr>\n",
       "\t<tr><td>2021-04-04</td><td>396       </td><td>2438620   </td><td>22947     </td></tr>\n",
       "\t<tr><td>2021-04-05</td><td>397       </td><td>2448522   </td><td> 9902     </td></tr>\n",
       "\t<tr><td>2021-04-06</td><td>398       </td><td>2456767   </td><td> 8245     </td></tr>\n",
       "\t<tr><td>2021-04-07</td><td>399       </td><td>2471677   </td><td>14910     </td></tr>\n",
       "\t<tr><td>2021-04-08</td><td>400       </td><td>2499564   </td><td>27887     </td></tr>\n",
       "\t<tr><td>2021-04-09</td><td>401       </td><td>2528051   </td><td>28487     </td></tr>\n",
       "\t<tr><td>2021-04-10</td><td>402       </td><td>2552907   </td><td>24856     </td></tr>\n",
       "\t<tr><td>2021-04-11</td><td>403       </td><td>2574610   </td><td>21703     </td></tr>\n",
       "\t<tr><td>2021-04-12</td><td>404       </td><td>2586623   </td><td>12013     </td></tr>\n",
       "\t<tr><td>2021-04-13</td><td>405       </td><td>2599850   </td><td>13227     </td></tr>\n",
       "</tbody>\n",
       "</table>\n"
      ],
      "text/latex": [
       "\\begin{tabular}{r|llll}\n",
       " Date & Day & Reported\\_all & Reported\\_delta\\\\\n",
       "\\hline\n",
       "\t 2020-03-05 &  1         &    1       &   0       \\\\\n",
       "\t 2020-03-06 &  2         &    5       &   4       \\\\\n",
       "\t 2020-03-07 &  3         &    6       &   1       \\\\\n",
       "\t 2020-03-08 &  4         &   11       &   5       \\\\\n",
       "\t 2020-03-09 &  5         &   17       &   6       \\\\\n",
       "\t 2020-03-10 &  6         &   22       &   5       \\\\\n",
       "\t 2020-03-11 &  7         &   31       &   9       \\\\\n",
       "\t 2020-03-12 &  8         &   51       &  20       \\\\\n",
       "\t 2020-03-13 &  9         &   68       &  17       \\\\\n",
       "\t 2020-03-14 & 10         &  104       &  36       \\\\\n",
       "\t 2020-03-15 & 11         &  125       &  21       \\\\\n",
       "\t 2020-03-16 & 12         &  177       &  52       \\\\\n",
       "\t 2020-03-17 & 13         &  238       &  61       \\\\\n",
       "\t 2020-03-18 & 14         &  287       &  49       \\\\\n",
       "\t 2020-03-19 & 15         &  355       &  68       \\\\\n",
       "\t 2020-03-20 & 16         &  425       &  70       \\\\\n",
       "\t 2020-03-21 & 17         &  536       & 111       \\\\\n",
       "\t 2020-03-22 & 18         &  634       &  98       \\\\\n",
       "\t 2020-03-23 & 19         &  749       & 115       \\\\\n",
       "\t 2020-03-24 & 20         &  901       & 152       \\\\\n",
       "\t 2020-03-25 & 21         & 1051       & 150       \\\\\n",
       "\t 2020-03-26 & 22         & 1221       & 170       \\\\\n",
       "\t 2020-03-27 & 23         & 1389       & 168       \\\\\n",
       "\t 2020-03-28 & 24         & 1638       & 249       \\\\\n",
       "\t 2020-03-29 & 25         & 1862       & 224       \\\\\n",
       "\t 2020-03-30 & 26         & 2055       & 193       \\\\\n",
       "\t 2020-03-31 & 27         & 2311       & 256       \\\\\n",
       "\t 2020-04-01 & 28         & 2554       & 243       \\\\\n",
       "\t 2020-04-02 & 29         & 2946       & 392       \\\\\n",
       "\t 2020-04-03 & 30         & 3383       & 437       \\\\\n",
       "\t ... & ... & ... & ...\\\\\n",
       "\t 2021-03-15 & 376        & 1918515    & 10896     \\\\\n",
       "\t 2021-03-16 & 377        & 1932911    & 14396     \\\\\n",
       "\t 2021-03-17 & 378        & 1957963    & 25052     \\\\\n",
       "\t 2021-03-18 & 379        & 1985241    & 27278     \\\\\n",
       "\t 2021-03-19 & 380        & 2011239    & 25998     \\\\\n",
       "\t 2021-03-20 & 381        & 2037644    & 26405     \\\\\n",
       "\t 2021-03-21 & 382        & 2059493    & 21849     \\\\\n",
       "\t 2021-03-22 & 383        & 2074071    & 14578     \\\\\n",
       "\t 2021-03-23 & 384        & 2090812    & 16741     \\\\\n",
       "\t 2021-03-24 & 385        & 2120790    & 29978     \\\\\n",
       "\t 2021-03-25 & 386        & 2154941    & 34151     \\\\\n",
       "\t 2021-03-26 & 387        & 2190084    & 35143     \\\\\n",
       "\t 2021-03-27 & 388        & 2221841    & 31757     \\\\\n",
       "\t 2021-03-28 & 389        & 2251094    & 29253     \\\\\n",
       "\t 2021-03-29 & 390        & 2268059    & 16965     \\\\\n",
       "\t 2021-03-30 & 391        & 2288929    & 20870     \\\\\n",
       "\t 2021-03-31 & 392        & 2321803    & 32874     \\\\\n",
       "\t 2021-04-01 & 393        & 2357054    & 35251     \\\\\n",
       "\t 2021-04-02 & 394        & 2387600    & 30546     \\\\\n",
       "\t 2021-04-03 & 395        & 2415673    & 28073     \\\\\n",
       "\t 2021-04-04 & 396        & 2438620    & 22947     \\\\\n",
       "\t 2021-04-05 & 397        & 2448522    &  9902     \\\\\n",
       "\t 2021-04-06 & 398        & 2456767    &  8245     \\\\\n",
       "\t 2021-04-07 & 399        & 2471677    & 14910     \\\\\n",
       "\t 2021-04-08 & 400        & 2499564    & 27887     \\\\\n",
       "\t 2021-04-09 & 401        & 2528051    & 28487     \\\\\n",
       "\t 2021-04-10 & 402        & 2552907    & 24856     \\\\\n",
       "\t 2021-04-11 & 403        & 2574610    & 21703     \\\\\n",
       "\t 2021-04-12 & 404        & 2586623    & 12013     \\\\\n",
       "\t 2021-04-13 & 405        & 2599850    & 13227     \\\\\n",
       "\\end{tabular}\n"
      ],
      "text/markdown": [
       "\n",
       "| Date | Day | Reported_all | Reported_delta |\n",
       "|---|---|---|---|\n",
       "| 2020-03-05 |  1         |    1       |   0        |\n",
       "| 2020-03-06 |  2         |    5       |   4        |\n",
       "| 2020-03-07 |  3         |    6       |   1        |\n",
       "| 2020-03-08 |  4         |   11       |   5        |\n",
       "| 2020-03-09 |  5         |   17       |   6        |\n",
       "| 2020-03-10 |  6         |   22       |   5        |\n",
       "| 2020-03-11 |  7         |   31       |   9        |\n",
       "| 2020-03-12 |  8         |   51       |  20        |\n",
       "| 2020-03-13 |  9         |   68       |  17        |\n",
       "| 2020-03-14 | 10         |  104       |  36        |\n",
       "| 2020-03-15 | 11         |  125       |  21        |\n",
       "| 2020-03-16 | 12         |  177       |  52        |\n",
       "| 2020-03-17 | 13         |  238       |  61        |\n",
       "| 2020-03-18 | 14         |  287       |  49        |\n",
       "| 2020-03-19 | 15         |  355       |  68        |\n",
       "| 2020-03-20 | 16         |  425       |  70        |\n",
       "| 2020-03-21 | 17         |  536       | 111        |\n",
       "| 2020-03-22 | 18         |  634       |  98        |\n",
       "| 2020-03-23 | 19         |  749       | 115        |\n",
       "| 2020-03-24 | 20         |  901       | 152        |\n",
       "| 2020-03-25 | 21         | 1051       | 150        |\n",
       "| 2020-03-26 | 22         | 1221       | 170        |\n",
       "| 2020-03-27 | 23         | 1389       | 168        |\n",
       "| 2020-03-28 | 24         | 1638       | 249        |\n",
       "| 2020-03-29 | 25         | 1862       | 224        |\n",
       "| 2020-03-30 | 26         | 2055       | 193        |\n",
       "| 2020-03-31 | 27         | 2311       | 256        |\n",
       "| 2020-04-01 | 28         | 2554       | 243        |\n",
       "| 2020-04-02 | 29         | 2946       | 392        |\n",
       "| 2020-04-03 | 30         | 3383       | 437        |\n",
       "| ... | ... | ... | ... |\n",
       "| 2021-03-15 | 376        | 1918515    | 10896      |\n",
       "| 2021-03-16 | 377        | 1932911    | 14396      |\n",
       "| 2021-03-17 | 378        | 1957963    | 25052      |\n",
       "| 2021-03-18 | 379        | 1985241    | 27278      |\n",
       "| 2021-03-19 | 380        | 2011239    | 25998      |\n",
       "| 2021-03-20 | 381        | 2037644    | 26405      |\n",
       "| 2021-03-21 | 382        | 2059493    | 21849      |\n",
       "| 2021-03-22 | 383        | 2074071    | 14578      |\n",
       "| 2021-03-23 | 384        | 2090812    | 16741      |\n",
       "| 2021-03-24 | 385        | 2120790    | 29978      |\n",
       "| 2021-03-25 | 386        | 2154941    | 34151      |\n",
       "| 2021-03-26 | 387        | 2190084    | 35143      |\n",
       "| 2021-03-27 | 388        | 2221841    | 31757      |\n",
       "| 2021-03-28 | 389        | 2251094    | 29253      |\n",
       "| 2021-03-29 | 390        | 2268059    | 16965      |\n",
       "| 2021-03-30 | 391        | 2288929    | 20870      |\n",
       "| 2021-03-31 | 392        | 2321803    | 32874      |\n",
       "| 2021-04-01 | 393        | 2357054    | 35251      |\n",
       "| 2021-04-02 | 394        | 2387600    | 30546      |\n",
       "| 2021-04-03 | 395        | 2415673    | 28073      |\n",
       "| 2021-04-04 | 396        | 2438620    | 22947      |\n",
       "| 2021-04-05 | 397        | 2448522    |  9902      |\n",
       "| 2021-04-06 | 398        | 2456767    |  8245      |\n",
       "| 2021-04-07 | 399        | 2471677    | 14910      |\n",
       "| 2021-04-08 | 400        | 2499564    | 27887      |\n",
       "| 2021-04-09 | 401        | 2528051    | 28487      |\n",
       "| 2021-04-10 | 402        | 2552907    | 24856      |\n",
       "| 2021-04-11 | 403        | 2574610    | 21703      |\n",
       "| 2021-04-12 | 404        | 2586623    | 12013      |\n",
       "| 2021-04-13 | 405        | 2599850    | 13227      |\n",
       "\n"
      ],
      "text/plain": [
       "    Date       Day Reported_all Reported_delta\n",
       "1   2020-03-05  1     1           0           \n",
       "2   2020-03-06  2     5           4           \n",
       "3   2020-03-07  3     6           1           \n",
       "4   2020-03-08  4    11           5           \n",
       "5   2020-03-09  5    17           6           \n",
       "6   2020-03-10  6    22           5           \n",
       "7   2020-03-11  7    31           9           \n",
       "8   2020-03-12  8    51          20           \n",
       "9   2020-03-13  9    68          17           \n",
       "10  2020-03-14 10   104          36           \n",
       "11  2020-03-15 11   125          21           \n",
       "12  2020-03-16 12   177          52           \n",
       "13  2020-03-17 13   238          61           \n",
       "14  2020-03-18 14   287          49           \n",
       "15  2020-03-19 15   355          68           \n",
       "16  2020-03-20 16   425          70           \n",
       "17  2020-03-21 17   536         111           \n",
       "18  2020-03-22 18   634          98           \n",
       "19  2020-03-23 19   749         115           \n",
       "20  2020-03-24 20   901         152           \n",
       "21  2020-03-25 21  1051         150           \n",
       "22  2020-03-26 22  1221         170           \n",
       "23  2020-03-27 23  1389         168           \n",
       "24  2020-03-28 24  1638         249           \n",
       "25  2020-03-29 25  1862         224           \n",
       "26  2020-03-30 26  2055         193           \n",
       "27  2020-03-31 27  2311         256           \n",
       "28  2020-04-01 28  2554         243           \n",
       "29  2020-04-02 29  2946         392           \n",
       "30  2020-04-03 30  3383         437           \n",
       "... ...        ... ...          ...           \n",
       "376 2021-03-15 376 1918515      10896         \n",
       "377 2021-03-16 377 1932911      14396         \n",
       "378 2021-03-17 378 1957963      25052         \n",
       "379 2021-03-18 379 1985241      27278         \n",
       "380 2021-03-19 380 2011239      25998         \n",
       "381 2021-03-20 381 2037644      26405         \n",
       "382 2021-03-21 382 2059493      21849         \n",
       "383 2021-03-22 383 2074071      14578         \n",
       "384 2021-03-23 384 2090812      16741         \n",
       "385 2021-03-24 385 2120790      29978         \n",
       "386 2021-03-25 386 2154941      34151         \n",
       "387 2021-03-26 387 2190084      35143         \n",
       "388 2021-03-27 388 2221841      31757         \n",
       "389 2021-03-28 389 2251094      29253         \n",
       "390 2021-03-29 390 2268059      16965         \n",
       "391 2021-03-30 391 2288929      20870         \n",
       "392 2021-03-31 392 2321803      32874         \n",
       "393 2021-04-01 393 2357054      35251         \n",
       "394 2021-04-02 394 2387600      30546         \n",
       "395 2021-04-03 395 2415673      28073         \n",
       "396 2021-04-04 396 2438620      22947         \n",
       "397 2021-04-05 397 2448522       9902         \n",
       "398 2021-04-06 398 2456767       8245         \n",
       "399 2021-04-07 399 2471677      14910         \n",
       "400 2021-04-08 400 2499564      27887         \n",
       "401 2021-04-09 401 2528051      28487         \n",
       "402 2021-04-10 402 2552907      24856         \n",
       "403 2021-04-11 403 2574610      21703         \n",
       "404 2021-04-12 404 2586623      12013         \n",
       "405 2021-04-13 405 2599850      13227         "
      ]
     },
     "metadata": {},
     "output_type": "display_data"
    }
   ],
   "source": [
    "# Data extraction and filtering\n",
    "covid_Poland=covid_Poland %>% filter(!is.na(przyrost))\n",
    "\n",
    "covid_Poland=covid_Poland[c(1,2,3,7)]\n",
    "\n",
    "names(covid_Poland)[1] <- \"Date\"\n",
    "names(covid_Poland)[2] <- \"Day\"\n",
    "names(covid_Poland)[3] <- \"Reported_all\"\n",
    "names(covid_Poland)[4] <- \"Reported_delta\"\n",
    "\n",
    "covid_Poland"
   ]
  },
  {
   "cell_type": "markdown",
   "metadata": {},
   "source": [
    "### Aproksymacja w czasie od początku roku (01.01.2021 - 13.04.2021)"
   ]
  },
  {
   "cell_type": "code",
   "execution_count": 38,
   "metadata": {},
   "outputs": [
    {
     "data": {
      "text/plain": [
       "Time difference of 102 days"
      ]
     },
     "metadata": {},
     "output_type": "display_data"
    }
   ],
   "source": [
    "# How many days in this time interval\n",
    "as.Date(\"2021-04-13\")-as.Date(\"2021-01-01\")"
   ]
  },
  {
   "cell_type": "code",
   "execution_count": 44,
   "metadata": {},
   "outputs": [],
   "source": [
    "# Generuję ciąg punktów, który będę aproksymować - ciąg 102 dni\n",
    "covid_Poland_t102=tail(covid_Poland,102)\n",
    "\n",
    "# Dopasowanie modelu\n",
    "covid_Poland_t102_log=lm(log(Reported_delta) ~ Day, data=covid_Poland_t102)\n",
    "\n",
    "# Generuję listę punktów dla wyliczenia wartości funkcji aproksymującej\n",
    "generated_time=data.frame(Day=seq(302,405,by=0.01))\n",
    "generated_time$Reported_delta=exp(predict(covid_Poland_t102_log, generated_time))"
   ]
  },
  {
   "cell_type": "code",
   "execution_count": 129,
   "metadata": {},
   "outputs": [
    {
     "data": {
      "text/plain": [
       "\n",
       "Call:\n",
       "lm(formula = log(Reported_delta) ~ Day, data = covid_Poland_t102)\n",
       "\n",
       "Residuals:\n",
       "     Min       1Q   Median       3Q      Max \n",
       "-1.26987 -0.28308  0.04324  0.31960  1.10601 \n",
       "\n",
       "Coefficients:\n",
       "            Estimate Std. Error t value Pr(>|t|)    \n",
       "(Intercept) 3.373821   0.577448   5.843 6.44e-08 ***\n",
       "Day         0.016486   0.001623  10.156  < 2e-16 ***\n",
       "---\n",
       "Signif. codes:  0 '***' 0.001 '**' 0.01 '*' 0.05 '.' 0.1 ' ' 1\n",
       "\n",
       "Residual standard error: 0.4827 on 100 degrees of freedom\n",
       "Multiple R-squared:  0.5077,\tAdjusted R-squared:  0.5028 \n",
       "F-statistic: 103.1 on 1 and 100 DF,  p-value: < 2.2e-16\n"
      ]
     },
     "metadata": {},
     "output_type": "display_data"
    }
   ],
   "source": [
    "# Summary model info\n",
    "summary(covid_Poland_t102_log)"
   ]
  },
  {
   "cell_type": "markdown",
   "metadata": {},
   "source": [
    "##### Współczynnik R-kwadrat, świadczący o jakości dopasowania modelu, wyniósł ~ 51%."
   ]
  },
  {
   "cell_type": "code",
   "execution_count": 130,
   "metadata": {},
   "outputs": [
    {
     "data": {
      "image/png": "[encoded data removed]",
      "text/plain": [
       "plot without title"
      ]
     },
     "metadata": {},
     "output_type": "display_data"
    }
   ],
   "source": [
    "# Plot\n",
    "ggplot(covid_Poland_t102, aes(Day, Reported_delta)) + geom_point(colour=\"darkblue\") +\n",
    "    geom_line(data=generated_time, aes(Day, Reported_delta)) + xlab(\"Numer dnia od wykrycia przypadku 0 w Polsce\") + ylab(\"Dzienny przyrost liczby zakażonych\") +\n",
    "ggtitle(\"Wykres aproksymacji liczby zarażonych krzywą wykładniczą, 01.01.2021-13.04.2021\") +\n",
    "    theme(plot.title=element_text(size=12))"
   ]
  },
  {
   "cell_type": "markdown",
   "metadata": {},
   "source": [
    "### Aproksymacja w czasie ostatniego miesiąca (13.03.2021 - 13.04.2021)"
   ]
  },
  {
   "cell_type": "code",
   "execution_count": 55,
   "metadata": {},
   "outputs": [
    {
     "data": {
      "text/plain": [
       "Time difference of 31 days"
      ]
     },
     "metadata": {},
     "output_type": "display_data"
    }
   ],
   "source": [
    "# How many days in this time interval\n",
    "as.Date(\"2021-04-13\")-as.Date(\"2021-03-13\")"
   ]
  },
  {
   "cell_type": "code",
   "execution_count": 58,
   "metadata": {},
   "outputs": [],
   "source": [
    "# Generuję ciąg punktów, który będę aproksymować - ciąg 31 dni\n",
    "covid_Poland_t31=tail(covid_Poland,31)\n",
    "\n",
    "# Dopasowanie modelu\n",
    "covid_Poland_t31_log=lm(log(Reported_delta) ~ Day, data=covid_Poland_t31)\n",
    "\n",
    "# Generuję listę punktów dla wyliczenia wartości funkcji aproksymującej\n",
    "generated_time_2=data.frame(Day=seq(375,405,by=0.01))\n",
    "generated_time_2$Reported_delta=exp(predict(covid_Poland_t31_log, generated_time_2))"
   ]
  },
  {
   "cell_type": "code",
   "execution_count": 128,
   "metadata": {},
   "outputs": [
    {
     "data": {
      "text/plain": [
       "\n",
       "Call:\n",
       "lm(formula = log(Reported_delta) ~ Day, data = covid_Poland_t31)\n",
       "\n",
       "Residuals:\n",
       "    Min      1Q  Median      3Q     Max \n",
       "-0.9137 -0.2969  0.1090  0.3166  0.5170 \n",
       "\n",
       "Coefficients:\n",
       "             Estimate Std. Error t value Pr(>|t|)   \n",
       "(Intercept) 11.695320   3.214008   3.639  0.00106 **\n",
       "Day         -0.004433   0.008239  -0.538  0.59465   \n",
       "---\n",
       "Signif. codes:  0 '***' 0.001 '**' 0.01 '*' 0.05 '.' 0.1 ' ' 1\n",
       "\n",
       "Residual standard error: 0.4103 on 29 degrees of freedom\n",
       "Multiple R-squared:  0.009884,\tAdjusted R-squared:  -0.02426 \n",
       "F-statistic: 0.2895 on 1 and 29 DF,  p-value: 0.5947\n"
      ]
     },
     "metadata": {},
     "output_type": "display_data"
    }
   ],
   "source": [
    "# Summary model info\n",
    "summary(covid_Poland_t31_log)"
   ]
  },
  {
   "cell_type": "markdown",
   "metadata": {},
   "source": [
    "##### Współczynnik R-kwadrat wyniósł niespełna 1%. Świadczy to o bardzo złym dopasowaniu modelu. Danych z okresu 13.03.2021-13.04.2021 nie należy zatem aproksymować funkcją wykładniczą."
   ]
  },
  {
   "cell_type": "code",
   "execution_count": 131,
   "metadata": {},
   "outputs": [
    {
     "data": {
      "image/png": "[encoded data removed]",
      "text/plain": [
       "plot without title"
      ]
     },
     "metadata": {},
     "output_type": "display_data"
    }
   ],
   "source": [
    "# Plot\n",
    "ggplot(covid_Poland_t31, aes(Day, Reported_delta)) + geom_point(colour=\"darkblue\") + \n",
    "    geom_line(data=generated_time_2, aes(Day, Reported_delta)) + xlab(\"Numer dnia od wykrycia przypadku 0 w Polsce\") + ylab(\"Dzienny przyrost liczby zakażonych\") +\n",
    "ggtitle(\"Wykres aproksymacji liczby zarażonych krzywą wykładniczą, 13.03.2021-13.04.2021\") +\n",
    "    theme(plot.title=element_text(size=12))"
   ]
  },
  {
   "cell_type": "markdown",
   "metadata": {},
   "source": [
    "### Aproksymacja w czasie 01.07.2020 - 01.08.2020"
   ]
  },
  {
   "cell_type": "code",
   "execution_count": 62,
   "metadata": {},
   "outputs": [
    {
     "data": {
      "text/plain": [
       "Time difference of 31 days"
      ]
     },
     "metadata": {},
     "output_type": "display_data"
    }
   ],
   "source": [
    "# How many days in this time interval\n",
    "as.Date(\"2020-08-01\")-as.Date(\"2020-07-01\")"
   ]
  },
  {
   "cell_type": "code",
   "execution_count": 95,
   "metadata": {},
   "outputs": [],
   "source": [
    "# Defining July_2020 time interval\n",
    "july_2020=interval(ymd(\"2020-07-01\"), ymd(\"2020-08-01\"))\n",
    "\n",
    "# Selecting data within given time interval\n",
    "days=covid_Poland$Day[ymd(covid_Poland$Date) %within% july_2020]\n",
    "reported_deltas=covid_Poland$Reported_delta[ymd(covid_Poland$Date) %within% july_2020]\n",
    "\n",
    "# New data frame containing selected data\n",
    "covid_Poland_July_2020=data.frame(days,reported_deltas)\n",
    "names(covid_Poland_July_2020)[1] <- \"Day\"\n",
    "names(covid_Poland_July_2020)[2] <- \"Reported_delta\""
   ]
  },
  {
   "cell_type": "code",
   "execution_count": 96,
   "metadata": {},
   "outputs": [],
   "source": [
    "# Dopasowanie modelu\n",
    "covid_Poland_July_2020_log=lm(log(Reported_delta) ~ Day, data=covid_Poland_July_2020)\n",
    "\n",
    "# Generuję listę punktów dla wyliczenia wartości funkcji aproksymującej\n",
    "generated_time_3=data.frame(Day=seq(119,150,by=0.01))\n",
    "generated_time_3$Reported_delta=exp(predict(covid_Poland_July_2020_log, generated_time_3))"
   ]
  },
  {
   "cell_type": "code",
   "execution_count": 127,
   "metadata": {},
   "outputs": [
    {
     "data": {
      "text/plain": [
       "\n",
       "Call:\n",
       "lm(formula = log(Reported_delta) ~ Day, data = covid_Poland_July_2020)\n",
       "\n",
       "Residuals:\n",
       "     Min       1Q   Median       3Q      Max \n",
       "-0.33312 -0.09407 -0.02267  0.08363  0.46692 \n",
       "\n",
       "Coefficients:\n",
       "            Estimate Std. Error t value Pr(>|t|)    \n",
       "(Intercept) 2.435677   0.512018   4.757 4.62e-05 ***\n",
       "Day         0.025570   0.003798   6.733 1.84e-07 ***\n",
       "---\n",
       "Signif. codes:  0 '***' 0.001 '**' 0.01 '*' 0.05 '.' 0.1 ' ' 1\n",
       "\n",
       "Residual standard error: 0.1984 on 30 degrees of freedom\n",
       "Multiple R-squared:  0.6017,\tAdjusted R-squared:  0.5885 \n",
       "F-statistic: 45.33 on 1 and 30 DF,  p-value: 1.836e-07\n"
      ]
     },
     "metadata": {},
     "output_type": "display_data"
    }
   ],
   "source": [
    "summary(covid_Poland_July_2020_log)"
   ]
  },
  {
   "cell_type": "markdown",
   "metadata": {},
   "source": [
    "##### Obserwujemy współczynnik R-kwadrat na poziomie 60%. Jest to najwyższa wartość R-kwadrat spośród dopasowywanych w tym zadaniu modelów."
   ]
  },
  {
   "cell_type": "code",
   "execution_count": 132,
   "metadata": {},
   "outputs": [
    {
     "data": {
      "image/png": "[encoded data removed]",
      "text/plain": [
       "plot without title"
      ]
     },
     "metadata": {},
     "output_type": "display_data"
    }
   ],
   "source": [
    "# Plot\n",
    "ggplot(covid_Poland_July_2020, aes(Day, Reported_delta)) + geom_point(colour=\"darkblue\") +\n",
    "    geom_line(data=generated_time_3, aes(Day, Reported_delta)) + xlab(\"Numer dnia od wykrycia przypadku 0 w Polsce\") + ylab(\"Dzienny przyrost liczby zakażonych\") +\n",
    "ggtitle(\"Wykres aproksymacji liczby zarażonych krzywą wykładniczą, 01.07.2020-01.08.2020\") +\n",
    "    theme(plot.title=element_text(size=12))"
   ]
  },
  {
   "cell_type": "markdown",
   "metadata": {},
   "source": [
    "Treści zadań:\n",
    "\n",
    "Za pomocą języka R przeanalizować dowolne dane z poprzednich laboratoriów. Elementy obowiązkowe:\n",
    "1. W jednej tabeli języka R należy umieścić wyniki dwóch różnych eksperymentów (t.j. czas działania dwóch   różnych funkcji) dla różnych parametrów (t.j. rozmiarów wektora(macierzy)) (1p.)\n",
    "2. Tabela powinna zawierać dane z 10-krotnego uruchomienia tego samego eksperymentu dla tych samych  parametrów (dla każdego takiego zestawu)\n",
    "3. Należy przedstawić wykresy średnich czasów obliczenia wybranych funkcji w zależności od rozmiaru wektora (macierzy) (1p.)\n",
    "4. Wykresy powinny zawierać informację o odchyleniu standardowym dla uzyskanych wyników. Słupki błędów można narysować korzystając z funkcji geom_errorbar pakietu ggplot2 (1p.)\n",
    "5. Użyć aproksymacji wielomianowej dostępnej w języku R do znalezienia odpowiednich wielomianów, które najlepiej pasują do wyników każdego z algorytmów. Dodać wykresy uzyskanych wielomianow do wykresu. (1p.)\n",
    "6. Dopasować krzywą wykładniczą do liczby zakażonych koronawirusem. Przykładowe źródło danych w GoogleDoc lub https://ourworldindata.org/explorers/coronavirus-data-explorer. Jak zmieniają się krzywe w zależności od wybranego okresu czasu. Porównać na wykresach co najmniej 2 dopasowania (2p.)"
   ]
  }
 ],
 "metadata": {
  "kernelspec": {
   "display_name": "R",
   "language": "R",
   "name": "ir"
  },
  "language_info": {
   "codemirror_mode": "r",
   "file_extension": ".r",
   "mimetype": "text/x-r-source",
   "name": "R",
   "pygments_lexer": "r",
   "version": "3.6.1"
  }
 },
 "nbformat": 4,
 "nbformat_minor": 4
}
