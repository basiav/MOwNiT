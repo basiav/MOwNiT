{
 "cells": [
  {
   "cell_type": "markdown",
   "metadata": {},
   "source": [
    "# Laboratorium 8"
   ]
  },
  {
   "cell_type": "markdown",
   "metadata": {},
   "source": [
    "## Znajdywanie pierwiastków"
   ]
  },
  {
   "cell_type": "code",
   "execution_count": 7,
   "metadata": {},
   "outputs": [
    {
     "data": {
      "text/plain": [
       "f (generic function with 1 method)"
      ]
     },
     "execution_count": 7,
     "metadata": {},
     "output_type": "execute_result"
    }
   ],
   "source": [
    "# using Roots\n",
    "# using ForwardDiff\n",
    "# Sample function\n",
    "f(x) = cos(x) - x*2"
   ]
  },
  {
   "cell_type": "markdown",
   "metadata": {},
   "source": [
    "Zadanie:\n",
    "\n",
    "A. Wybrać trzy metody poszukiwania pierwiastków:\n",
    "\n",
    "- wykorzystującą przedział i zmianę znaku,\n",
    "- wykorzystującą pochodną,\n",
    "- wykorzystującą przybliżenie pochodnej\n",
    "\n",
    "1. Każdą z trzech wybranych metod przetestować (ilość iteracji, ilość wywołań funkcji) na sześciu wybranych funkcjach ze zbioru http://people.sc.fsu.edu/~jburkardt/py_src/test_zero/test_zero.html Wyniki przedstawić w formie tabelki. Pamiętać o sprawdzeniu czy wynik jest poprawny poprzez obliczenie wartości funkcji dla znalezionego pierwiastka ! (3 pkt)\n",
    "\n",
    "2. Zademonstrować wybrany, ciekawy przykład trudnej funkcji z p.1 i działania metod na niej. (1 pkt)\n",
    "\n",
    "3. Dla każdej z wybranych metod zademonstrować i wyjaśnić po jednym przykładzie, dla którego nie działają (można na podstawie p.1 lub wymyślić własny)(1 pkt)\n",
    "\n",
    "B. Narysować wstegę Newtona i objaśnić, w jaki sposób powstała i jaki jest jej związek z metodą Newtona do znajdowania pierwiastków. Sposób i język - dowolny. (1 pkt)"
   ]
  },
  {
   "cell_type": "markdown",
   "metadata": {},
   "source": [
    "### Zadanie A"
   ]
  },
  {
   "cell_type": "markdown",
   "metadata": {},
   "source": [
    "#### Metoda wykorzystująca przedział i zmianę znaku funkcji - Metoda Bisekcji"
   ]
  },
  {
   "cell_type": "markdown",
   "metadata": {},
   "source": [
    "Opiera się ona na twierdzeniu Darboux: Jeżeli funkcja ciągła f(x) ma na końcach przedziału domkniętego wartości różnych znaków, to wewnątrz tego przedziału, istnieje co najmniej jeden pierwiastek równania f(x) = 0."
   ]
  },
  {
   "cell_type": "markdown",
   "metadata": {},
   "source": [
    "Założenia:\n",
    "1. Funkcja f(x) jest ciągła w przedziale domkniętym [a; b]\n",
    "2. Funkcja przyjmuje różne znaki na końcach przedziału: f(a)*f(b) < 0"
   ]
  },
  {
   "cell_type": "markdown",
   "metadata": {},
   "source": [
    "Algorytm polega na połowieniu przedziałów, których znaki krańców się różnią - gwarantuje to znalezienie pierwiastka."
   ]
  },
  {
   "cell_type": "markdown",
   "metadata": {},
   "source": [
    "Gwarantuje ona znalezienie jednego pierwiastka funkcji spełniającej założenia. Jej rząd zbieżności jest liniowy, jest zatem wolno zbieżna."
   ]
  },
  {
   "cell_type": "code",
   "execution_count": 8,
   "metadata": {},
   "outputs": [
    {
     "data": {
      "text/plain": [
       "0.45018361129487355"
      ]
     },
     "execution_count": 8,
     "metadata": {},
     "output_type": "execute_result"
    }
   ],
   "source": [
    "find_zero(f, (0,1), Bisection())"
   ]
  },
  {
   "cell_type": "markdown",
   "metadata": {},
   "source": [
    "#### Metoda wykorzystująca pochodną - Metoda Newtona"
   ]
  },
  {
   "cell_type": "code",
   "execution_count": null,
   "metadata": {},
   "outputs": [],
   "source": []
  },
  {
   "cell_type": "markdown",
   "metadata": {},
   "source": [
    "### Zadanie B"
   ]
  },
  {
   "cell_type": "markdown",
   "metadata": {},
   "source": [
    "#### Wstęga Newtona"
   ]
  },
  {
   "cell_type": "markdown",
   "metadata": {},
   "source": [
    "Wstęga Newtona to fraktal tworzony w płaszczyźnie liczb zespolonych. Powstaje on przez kolejne iteracje metody Newtona stosowanej na pewnej funkcji o N pierwiastkach zespolonych. Każdy z N pierwiastków stanowi punkt startowy dla iteracji Newtona. Jeśli ciąg puntków generowanych iteracyjnie zbiega do jednego z N pierwiastków, ciąg ten kolorowany jest swoistym dla tego pierwiastka kolorem. Jednak każdy wielomian stopnia co najmniej drugiego, podlegający iteracji Newtona, posiada punkty niezbiegające do żadnego z pierwiastków, wyznaczany jest dla nich kolor N+1."
   ]
  },
  {
   "cell_type": "markdown",
   "metadata": {},
   "source": [
    "#### $f(z)=z^3-1$"
   ]
  },
  {
   "cell_type": "markdown",
   "metadata": {},
   "source": [
    "- Dzięki pakietowi Fatou wygenerować można wzory na wartości $z$ w kolejnych iteracjach:"
   ]
  },
  {
   "cell_type": "code",
   "execution_count": 53,
   "metadata": {},
   "outputs": [
    {
     "data": {
      "text/latex": [
       "$\\displaystyle D_1(\\epsilon) = \\left\\{z\\in\\mathbb{C}:\\left|\\,\\left(2 z^{3}+1\\right)/\\left(3 z^{2}\\right) - r_i\\,\\right|<\\epsilon,\\,\\forall r_i(\\,f(r_i)=0 )\\right\\}$"
      ],
      "text/plain": [
       "L\"$\\displaystyle D_1(\\epsilon) = \\left\\{z\\in\\mathbb{C}:\\left|\\,\\left(2 z^{3}+1\\right)/\\left(3 z^{2}\\right) - r_i\\,\\right|<\\epsilon,\\,\\forall r_i(\\,f(r_i)=0 )\\right\\}$\""
      ]
     },
     "metadata": {},
     "output_type": "display_data"
    },
    {
     "data": {
      "text/latex": [
       "$\\displaystyle D_2(\\epsilon) = \\left\\{z\\in\\mathbb{C}:\\left|\\,\\left(2 \\left(2 z^{3}+1\\right)^{3}+27 z^{6}\\right)/\\left(9 \\left(2 z^{3}+1\n",
       "\\right)^{2} z^{2}\\right) - r_i\\,\\right|<\\epsilon,\\,\\forall r_i(\\,f(r_i)=0 )\\right\\}$"
      ],
      "text/plain": [
       "L\"$\\displaystyle D_2(\\epsilon) = \\left\\{z\\in\\mathbb{C}:\\left|\\,\\left(2 \\left(2 z^{3}+1\\right)^{3}+27 z^{6}\\right)/\\left(9 \\left(2 z^{3}+1\n",
       "\\right)^{2} z^{2}\\right) - r_i\\,\\right|<\\epsilon,\\,\\forall r_i(\\,f(r_i)=0 )\\right\\}$\""
      ]
     },
     "metadata": {},
     "output_type": "display_data"
    },
    {
     "data": {
      "text/latex": [
       "$\\displaystyle D_3(\\epsilon) = \\left\\{z\\in\\mathbb{C}:\\left|\\,\\left(2 \\left(2 \\left(2 z^{3}+1\\right)^{3}+27 z^{6}\\right)^{3}+729 \\left(2 z^{\n",
       "3}+1\\right)^{6} z^{6}\\right)/\\left(27 \\left(2 \\left(2 z^{3}+1\\right)^{3}+27 z\n",
       "^{6}\\right)^{2} \\left(2 z^{3}+1\\right)^{2} z^{2}\\right) - r_i\\,\\right|<\\epsilon,\\,\\forall r_i(\\,f(r_i)=0 )\\right\\}$"
      ],
      "text/plain": [
       "L\"$\\displaystyle D_3(\\epsilon) = \\left\\{z\\in\\mathbb{C}:\\left|\\,\\left(2 \\left(2 \\left(2 z^{3}+1\\right)^{3}+27 z^{6}\\right)^{3}+729 \\left(2 z^{\n",
       "3}+1\\right)^{6} z^{6}\\right)/\\left(27 \\left(2 \\left(2 z^{3}+1\\right)^{3}+27 z\n",
       "^{6}\\right)^{2} \\left(2 z^{3}+1\\right)^{2} z^{2}\\right) - r_i\\,\\right|<\\epsilon,\\,\\forall r_i(\\,f(r_i)=0 )\\right\\}$\""
      ]
     },
     "metadata": {},
     "output_type": "display_data"
    },
    {
     "data": {
      "text/plain": [
       "3-element Vector{Nothing}:\n",
       " nothing\n",
       " nothing\n",
       " nothing"
      ]
     },
     "execution_count": 53,
     "metadata": {},
     "output_type": "execute_result"
    }
   ],
   "source": [
    "using Fatou\n",
    "map(display,[basin(newton(:(z^3-1)),i) for i ∈ 1:3])"
   ]
  },
  {
   "cell_type": "markdown",
   "metadata": {},
   "source": [
    "- Wstęgę wygenerowałam przy pomocy następującego kodu w MATLAB:"
   ]
  },
  {
   "cell_type": "raw",
   "metadata": {},
   "source": [
    "close all; clear all; clc;\n",
    "\n",
    "% Define function and its' derivative\n",
    "f = @(Z) Z.^3-1;\n",
    "fd = @(Z) 3*Z.^2;\n",
    "\n",
    "roots = [1, -1/2 + 1i*sqrt(3)/2, -1/2 - 1i*sqrt(3)/2];\n",
    "\n",
    "nx = 1000;\n",
    "ny = 1000;\n",
    "xmin = -2;\n",
    "xmax = 2;\n",
    "ymin= xmin;\n",
    "ymax = xmax;\n",
    "\n",
    "x = linspace(xmin,xmax,nx); y = linspace(ymin,ymax,ny);\n",
    "[X,Y] = meshgrid(x,y);\n",
    "Z = X + 1i*Y;\n",
    "\n",
    "% Number of iterations\n",
    "n_it = 40;\n",
    "for n=1:n_it\n",
    "    Z = Z - f(Z) ./ fd(Z);\n",
    "end\n",
    "\n",
    "eps = 0.001;\n",
    "% Colour points\n",
    "Z1 = abs(Z-roots(1)) < eps;\n",
    "Z2 = abs(Z-roots(2)) < eps;\n",
    "Z3 = abs(Z-roots(3)) < eps;\n",
    "Z4 = ~(Z1+Z2+Z3);\n",
    "\n",
    "figure;\n",
    "map = [1 0 0; 0 1 0; 0 0 1; 0 0 0]; colormap(map);\n",
    "Z=(Z1+2*Z2+3*Z3+4*Z4);\n",
    "image([xmin xmax], [ymin ymax], Z);\n",
    "set(gca,'YDir','normal');\n",
    "\n",
    "axis equal; axis tight;\n",
    "set(gca,'XTick',linspace(xmin,xmax,5),'YTick',linspace(ymin,ymax,5));\n",
    "xlabel('$x$','Interpreter','latex','FontSize',14);\n",
    "xlabel('$y$','Interpreter','latex','FontSize',14);\n",
    "title('Fractal from $f(z)=z^3-1$','Interpreter','latex','FontSize',16);"
   ]
  },
  {
   "attachments": {
    "12572602-806b-4f8d-a844-e4fcaf1bfaf2.jpg": {
     "image/jpeg": "[encoded data removed]"
    }
   },
   "cell_type": "markdown",
   "metadata": {},
   "source": [
    "![newton_fractal_1.jpg](attachment:12572602-806b-4f8d-a844-e4fcaf1bfaf2.jpg)"
   ]
  }
 ],
 "metadata": {
  "kernelspec": {
   "display_name": "Julia 1.6.0",
   "language": "julia",
   "name": "julia-1.6"
  },
  "language_info": {
   "file_extension": ".jl",
   "mimetype": "application/julia",
   "name": "julia",
   "version": "1.6.0"
  }
 },
 "nbformat": 4,
 "nbformat_minor": 4
}
