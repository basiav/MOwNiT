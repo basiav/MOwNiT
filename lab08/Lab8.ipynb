{
 "cells": [
  {
   "cell_type": "markdown",
   "metadata": {},
   "source": [
    "# Laboratorium 8"
   ]
  },
  {
   "cell_type": "markdown",
   "metadata": {},
   "source": [
    "## Znajdowanie pierwiastków"
   ]
  },
  {
   "cell_type": "code",
   "execution_count": 1,
   "metadata": {},
   "outputs": [
    {
     "data": {
      "text/plain": [
       "f (generic function with 1 method)"
      ]
     },
     "execution_count": 1,
     "metadata": {},
     "output_type": "execute_result"
    }
   ],
   "source": [
    "using Roots\n",
    "using ForwardDiff\n",
    "using Plots\n",
    "# Sample function\n",
    "f(x) = cos(x) - x*2"
   ]
  },
  {
   "cell_type": "markdown",
   "metadata": {},
   "source": [
    "Zadanie:\n",
    "\n",
    "A. Wybrać trzy metody poszukiwania pierwiastków:\n",
    "\n",
    "- wykorzystującą przedział i zmianę znaku,\n",
    "- wykorzystującą pochodną,\n",
    "- wykorzystującą przybliżenie pochodnej\n",
    "\n",
    "1. Każdą z trzech wybranych metod przetestować (ilość iteracji, ilość wywołań funkcji) na sześciu wybranych funkcjach ze zbioru http://people.sc.fsu.edu/~jburkardt/py_src/test_zero/test_zero.html Wyniki przedstawić w formie tabelki. Pamiętać o sprawdzeniu czy wynik jest poprawny poprzez obliczenie wartości funkcji dla znalezionego pierwiastka ! (3 pkt)\n",
    "\n",
    "2. Zademonstrować wybrany, ciekawy przykład trudnej funkcji z p.1 i działania metod na niej. (1 pkt)\n",
    "\n",
    "3. Dla każdej z wybranych metod zademonstrować i wyjaśnić po jednym przykładzie, dla którego nie działają (można na podstawie p.1 lub wymyślić własny)(1 pkt)\n",
    "\n",
    "B. Narysować wstegę Newtona i objaśnić, w jaki sposób powstała i jaki jest jej związek z metodą Newtona do znajdowania pierwiastków. Sposób i język - dowolny. (1 pkt)"
   ]
  },
  {
   "cell_type": "markdown",
   "metadata": {},
   "source": [
    "### Zadanie A"
   ]
  },
  {
   "cell_type": "markdown",
   "metadata": {},
   "source": [
    "#### Metoda wykorzystująca przedział i zmianę znaku funkcji - Metoda Bisekcji"
   ]
  },
  {
   "cell_type": "markdown",
   "metadata": {},
   "source": [
    "Opiera się ona na twierdzeniu Darboux: Jeżeli funkcja ciągła f(x) ma na końcach przedziału domkniętego wartości różnych znaków, to wewnątrz tego przedziału, istnieje co najmniej jeden pierwiastek równania f(x) = 0."
   ]
  },
  {
   "cell_type": "markdown",
   "metadata": {},
   "source": [
    "Założenia:\n",
    "1. Funkcja f(x) jest ciągła w przedziale domkniętym [a, b]\n",
    "2. Funkcja przyjmuje różne znaki na końcach przedziału: f(a)*f(b) < 0"
   ]
  },
  {
   "cell_type": "markdown",
   "metadata": {},
   "source": [
    "Algorytm polega na połowieniu przedziałów, których znaki krańców się różnią - gwarantuje to znalezienie pierwiastka."
   ]
  },
  {
   "cell_type": "markdown",
   "metadata": {},
   "source": [
    "Gwarantuje ona znalezienie jednego pierwiastka funkcji spełniającej założenia. Jej rząd zbieżności jest liniowy, jest zatem wolno zbieżna."
   ]
  },
  {
   "cell_type": "code",
   "execution_count": 17,
   "metadata": {},
   "outputs": [
    {
     "name": "stdout",
     "output_type": "stream",
     "text": [
      "Results of univariate zero finding:\n",
      "\n",
      "* Converged to: 0.4501836112948736\n",
      "* Algorithm: Roots.BisectionExact()\n",
      "* iterations: 61\n",
      "* function evaluations: 63\n",
      "* stopped as x_n ≈ x_{n-1} using atol=xatol, rtol=xrtol\n",
      "* stopped as |f(x_n)| ≤ max(δ, max(1,|x|)⋅ϵ) using δ = atol, ϵ = rtol\n",
      "\n",
      "Trace:\n",
      "(a_0, b_0) = ( 0.0000000000000000,  1.0000000000000000)\n",
      "(a_1, b_1) = ( 0.0000000000000000,  1.0000000000000000)\n",
      "(a_2, b_2) = ( 0.0000000000000000,  1.0000000000000000)\n",
      "(a_3, b_3) = ( 0.0000000000000000,  1.0000000000000000)\n",
      "(a_4, b_4) = ( 0.0000000000000000,  1.0000000000000000)\n",
      "(a_5, b_5) = ( 0.0000000002401066,  1.0000000000000000)\n",
      "(a_6, b_6) = ( 0.0000154972076416,  1.0000000000000000)\n",
      "(a_7, b_7) = ( 0.0039367675781250,  1.0000000000000000)\n",
      "(a_8, b_8) = ( 0.0627441406250000,  1.0000000000000000)\n",
      "(a_9, b_9) = ( 0.2504882812500000,  1.0000000000000000)\n",
      "(a_10, b_10) = ( 0.2504882812500000,  0.5004882812500000)\n",
      "(a_11, b_11) = ( 0.3753662109375000,  0.5004882812500000)\n",
      "(a_12, b_12) = ( 0.4378051757812500,  0.5004882812500000)\n",
      "(a_13, b_13) = ( 0.4378051757812500,  0.4690246582031250)\n",
      "(a_14, b_14) = ( 0.4378051757812500,  0.4534149169921875)\n",
      "(a_15, b_15) = ( 0.4456100463867188,  0.4534149169921875)\n",
      "(a_16, b_16) = ( 0.4495124816894531,  0.4534149169921875)\n",
      "(a_17, b_17) = ( 0.4495124816894531,  0.4514636993408203)\n",
      "(a_18, b_18) = ( 0.4495124816894531,  0.4504880905151367)\n",
      "(a_19, b_19) = ( 0.4500002861022949,  0.4504880905151367)\n",
      "(a_20, b_20) = ( 0.4500002861022949,  0.4502441883087158)\n",
      "(a_21, b_21) = ( 0.4501222372055054,  0.4502441883087158)\n",
      "(a_22, b_22) = ( 0.4501832127571106,  0.4502441883087158)\n",
      "(a_23, b_23) = ( 0.4501832127571106,  0.4502137005329132)\n",
      "(a_24, b_24) = ( 0.4501832127571106,  0.4501984566450119)\n",
      "(a_25, b_25) = ( 0.4501832127571106,  0.4501908347010612)\n",
      "(a_26, b_26) = ( 0.4501832127571106,  0.4501870237290859)\n",
      "(a_27, b_27) = ( 0.4501832127571106,  0.4501851182430983)\n",
      "(a_28, b_28) = ( 0.4501832127571106,  0.4501841655001044)\n",
      "(a_29, b_29) = ( 0.4501832127571106,  0.4501836891286075)\n",
      "(a_30, b_30) = ( 0.4501834509428591,  0.4501836891286075)\n",
      "(a_31, b_31) = ( 0.4501835700357333,  0.4501836891286075)\n",
      "(a_32, b_32) = ( 0.4501835700357333,  0.4501836295821704)\n",
      "(a_33, b_33) = ( 0.4501835998089518,  0.4501836295821704)\n",
      "(a_34, b_34) = ( 0.4501835998089518,  0.4501836146955611)\n",
      "(a_35, b_35) = ( 0.4501836072522565,  0.4501836146955611)\n",
      "(a_36, b_36) = ( 0.4501836109739088,  0.4501836146955611)\n",
      "(a_37, b_37) = ( 0.4501836109739088,  0.4501836128347350)\n",
      "(a_38, b_38) = ( 0.4501836109739088,  0.4501836119043219)\n",
      "(a_39, b_39) = ( 0.4501836109739088,  0.4501836114391153)\n",
      "(a_40, b_40) = ( 0.4501836112065121,  0.4501836114391153)\n",
      "(a_41, b_41) = ( 0.4501836112065121,  0.4501836113228137)\n",
      "(a_42, b_42) = ( 0.4501836112646629,  0.4501836113228137)\n",
      "(a_43, b_43) = ( 0.4501836112937383,  0.4501836113228137)\n",
      "(a_44, b_44) = ( 0.4501836112937383,  0.4501836113082760)\n",
      "(a_45, b_45) = ( 0.4501836112937383,  0.4501836113010071)\n",
      "(a_46, b_46) = ( 0.4501836112937383,  0.4501836112973727)\n",
      "(a_47, b_47) = ( 0.4501836112937383,  0.4501836112955555)\n",
      "(a_48, b_48) = ( 0.4501836112946469,  0.4501836112955555)\n",
      "(a_49, b_49) = ( 0.4501836112946469,  0.4501836112951012)\n",
      "(a_50, b_50) = ( 0.4501836112946469,  0.4501836112948741)\n",
      "(a_51, b_51) = ( 0.4501836112947605,  0.4501836112948741)\n",
      "(a_52, b_52) = ( 0.4501836112948173,  0.4501836112948741)\n",
      "(a_53, b_53) = ( 0.4501836112948456,  0.4501836112948741)\n",
      "(a_54, b_54) = ( 0.4501836112948598,  0.4501836112948741)\n",
      "(a_55, b_55) = ( 0.4501836112948669,  0.4501836112948741)\n",
      "(a_56, b_56) = ( 0.4501836112948705,  0.4501836112948741)\n",
      "(a_57, b_57) = ( 0.4501836112948723,  0.4501836112948741)\n",
      "(a_58, b_58) = ( 0.4501836112948732,  0.4501836112948741)\n",
      "(a_59, b_59) = ( 0.4501836112948732,  0.4501836112948736)\n",
      "(a_60, b_60) = ( 0.4501836112948734,  0.4501836112948736)\n",
      "(a_61, b_61) = ( 0.4501836112948735,  0.4501836112948736)\n",
      "\n"
     ]
    },
    {
     "data": {
      "text/plain": [
       "0.45018361129487355"
      ]
     },
     "execution_count": 17,
     "metadata": {},
     "output_type": "execute_result"
    }
   ],
   "source": [
    "find_zero(f, (0,1), Bisection(), verbose=true)"
   ]
  },
  {
   "cell_type": "markdown",
   "metadata": {},
   "source": [
    "#### Metoda wykorzystująca pochodną - Metoda Newtona-Raphsona"
   ]
  },
  {
   "cell_type": "markdown",
   "metadata": {},
   "source": [
    "W metodzie tej przyjmuje się założenia:\n",
    "- W przedziale [a, b] znajduje się dokładnie jeden pierwiastek.\n",
    "- Funkcja ma różne znaki na krańcach przedziału, tj. $f(a) * f (b) < 0$.\n",
    "- Pierwsza i druga pochodna funkcji mają stały znak w tym przedziale."
   ]
  },
  {
   "cell_type": "markdown",
   "metadata": {},
   "source": [
    "Algorytm polega na wybraniu punktu początkowego $x_{1}$ (initail guess, zazwyczaj jest to wartość a, b 0 lub 1), a następnie iteracyjnego wyznaczania kolejnych przybliżeń pierwiastka funkcji według wzoru:\n",
    "\n",
    "<center>$x_{k+1} = x_{k} - \\frac{f(x_{k})}{f(x_{k})}$<\\center>\n",
    "\n",
    "Kolejne przybliżenia pierwiastka funkcji są przecięciami stycznej do funkcji w punkcie poprzednim z osią OX."
   ]
  },
  {
   "cell_type": "code",
   "execution_count": 1,
   "metadata": {},
   "outputs": [
    {
     "data": {
      "text/plain": [
       "D (generic function with 1 method)"
      ]
     },
     "execution_count": 1,
     "metadata": {},
     "output_type": "execute_result"
    }
   ],
   "source": [
    "D(f) = x->ForwardDiff.derivative(f, float(x))"
   ]
  },
  {
   "cell_type": "code",
   "execution_count": 16,
   "metadata": {},
   "outputs": [
    {
     "name": "stdout",
     "output_type": "stream",
     "text": [
      "Results of univariate zero finding:\n",
      "\n",
      "* Converged to: 0.45018361129487383\n",
      "* Algorithm: Roots.Newton()\n",
      "* iterations: 4\n",
      "* function evaluations: 9\n",
      "* stopped as |f(x_n)| ≤ max(δ, max(1,|x|)⋅ϵ) using δ = atol, ϵ = rtol\n",
      "\n",
      "Trace:\n",
      "x_0 =  0.0000000000000000,\t fx_0 =  1.0000000000000000\n",
      "x_1 =  0.5000000000000000,\t fx_1 = -0.1224174381096272\n",
      "x_2 =  0.4506266930772431,\t fx_2 = -0.0010790504957215\n",
      "x_3 =  0.4501836475777747,\t fx_3 = -0.0000000883536129\n",
      "x_4 =  0.4501836112948738,\t fx_4 = -0.0000000000000007\n",
      "\n"
     ]
    },
    {
     "data": {
      "text/plain": [
       "0.45018361129487383"
      ]
     },
     "execution_count": 16,
     "metadata": {},
     "output_type": "execute_result"
    }
   ],
   "source": [
    "find_zero((f, D(f)), 0, Roots.Newton(), verbose=true)"
   ]
  },
  {
   "cell_type": "markdown",
   "metadata": {},
   "source": [
    "#### Metoda Steffensen'a"
   ]
  },
  {
   "cell_type": "markdown",
   "metadata": {},
   "source": [
    "Minusem metody Newtona-Raphsona jest konieczność znajomości jawnego wzoru pochodnej rozpatrywanej funkcji. Chcąc tego uniknąć, a jednocześnie zachowując większą szybkość niż w metodzie bisekcji, korzystne jest zastosowanie metody Steffensen'a."
   ]
  },
  {
   "cell_type": "markdown",
   "metadata": {},
   "source": [
    "Metoda ta łączy w sobie ideę metody siecznych, należącej do klasy metod quasi-Newtonowskich (przybliżanie pochodnej ilorazem różnicowym), z ideą akceleracji Aitkena. Korzysta się z niej z przewidywania, że przy rosnącym i:\n",
    "\n",
    "<center>$x_{i+1} - x_{i} = f(x_{i})$<\\center>\n",
    "\n",
    "wtedy kolejne ilorazy różnicowe możemy zapisać jako:\n",
    "\n",
    "<center>$\\frac{f(x_{i} + f(x_{i})) - f(x_{i})}{f(x_{i})}$<\\center>"
   ]
  },
  {
   "cell_type": "markdown",
   "metadata": {},
   "source": [
    "ostatecznie otrzymujemy:\n",
    "\n",
    "<center>$x_{i+1} =  x_{i} - \\frac{(f(x_{i}))^2}{f(x_{i} + f(x_{i})) - f(x_{i})}$<\\center>"
   ]
  },
  {
   "cell_type": "markdown",
   "metadata": {},
   "source": [
    "Rząd zbieżności tej metody wynosi 2, jest zatem lepszy od metody siecznych. Jednak każdy krok wymaga policzenia dwóch nowych wartości funkcji, zaś w metodzie siecznych począwszy od drugiego kroku liczymy tylko jedną nową wartość."
   ]
  },
  {
   "cell_type": "code",
   "execution_count": 15,
   "metadata": {},
   "outputs": [
    {
     "name": "stdout",
     "output_type": "stream",
     "text": [
      "Results of univariate zero finding:\n",
      "\n",
      "* Converged to: 0.4501836112948736\n",
      "* Algorithm: Order2()\n",
      "* iterations: 5\n",
      "* function evaluations: 9\n",
      "* stopped as |f(x_n)| ≤ max(δ, max(1,|x|)⋅ϵ) using δ = atol, ϵ = rtol\n",
      "\n",
      "Trace:\n",
      "x_0 =  0.0000000000000000,\t fx_0 =  1.0000000000000000\n",
      "x_1 =  0.4999992430730175,\t fx_1 = -0.1224155613657875\n",
      "x_2 =  0.4454671338168228,\t fx_2 =  0.0114752178560520\n",
      "x_3 =  0.4501408524814072,\t fx_3 =  0.0001041224830841\n",
      "x_4 =  0.4501836108098068,\t fx_4 =  0.0000000011812011\n",
      "x_5 =  0.4501836112948736,\t fx_5 = -0.0000000000000001\n",
      "\n"
     ]
    },
    {
     "data": {
      "text/plain": [
       "0.4501836112948736"
      ]
     },
     "execution_count": 15,
     "metadata": {},
     "output_type": "execute_result"
    }
   ],
   "source": [
    "find_zero(f, 0, Order2(), verbose=true)"
   ]
  },
  {
   "cell_type": "markdown",
   "metadata": {},
   "source": [
    "### Zadanie A.1 - Testowanie wybranych metod"
   ]
  },
  {
   "cell_type": "markdown",
   "metadata": {},
   "source": [
    "Wybrałam następujące funkcje:"
   ]
  },
  {
   "cell_type": "code",
   "execution_count": 2,
   "metadata": {},
   "outputs": [
    {
     "data": {
      "text/plain": [
       "6-element Vector{Function}:\n",
       " f1 (generic function with 1 method)\n",
       " f2 (generic function with 1 method)\n",
       " f3 (generic function with 1 method)\n",
       " f4 (generic function with 1 method)\n",
       " f5 (generic function with 1 method)\n",
       " f6 (generic function with 1 method)"
      ]
     },
     "execution_count": 2,
     "metadata": {},
     "output_type": "execute_result"
    }
   ],
   "source": [
    "f1(x)=sin(x)-x/2\n",
    "f2(x)=x*exp(-x)\n",
    "f3(x)=x^3\n",
    "f4(x)=cos(x)-x\n",
    "f5(x)=(x-1)^7\n",
    "f6(x)=cos(100*x)-4*erf(30*x-10)\n",
    "funcs=[f1, f2, f3, f4, f5, f6]"
   ]
  },
  {
   "cell_type": "markdown",
   "metadata": {},
   "source": [
    "Ostatnia (6.) z nich wydaje się być ciekawa z racji występowania w niej funkcji błędu Gaussa:"
   ]
  },
  {
   "cell_type": "markdown",
   "metadata": {},
   "source": [
    "<center>$erf(x) = \\frac{2}{\\sqrt{\\pi}} \\int_{0}^{x}e^{-t^{2}}\\, dt$<\\center>"
   ]
  },
  {
   "cell_type": "code",
   "execution_count": 3,
   "metadata": {},
   "outputs": [],
   "source": [
    "using SpecialFunctions\n",
    "using PrettyTables"
   ]
  },
  {
   "cell_type": "code",
   "execution_count": 4,
   "metadata": {},
   "outputs": [
    {
     "data": {
      "text/plain": [
       "check_zero (generic function with 1 method)"
      ]
     },
     "execution_count": 4,
     "metadata": {},
     "output_type": "execute_result"
    }
   ],
   "source": [
    "function check_zero(f, x)\n",
    "    return iszero(f(x)) || f(prevfloat(x))*f(x) < 0.0 || f(x)*f(nextfloat(x)) < 0.0\n",
    "end"
   ]
  },
  {
   "cell_type": "code",
   "execution_count": 6,
   "metadata": {},
   "outputs": [
    {
     "data": {
      "text/plain": [
       "getOutputOfFindZero (generic function with 1 method)"
      ]
     },
     "execution_count": 6,
     "metadata": {},
     "output_type": "execute_result"
    }
   ],
   "source": [
    "# Redirect output\n",
    "function getOutputOfFindZero(arg1, arg2, arg3)\n",
    "    output = \"\"\n",
    "    x = 0\n",
    "    let old_stdout = stdout\n",
    "        rd, = redirect_stdout()\n",
    "        \n",
    "        try\n",
    "            x = find_zero(arg1, arg2, arg3, verbose=true)  \n",
    "        catch\n",
    "            x = \"-1\" # Error handling\n",
    "        finally\n",
    "            redirect_stdout(old_stdout) # Back to original stdout\n",
    "        end\n",
    "        output = String(readavailable(rd))\n",
    "    \n",
    "    end\n",
    "    return x, output\n",
    "end"
   ]
  },
  {
   "cell_type": "code",
   "execution_count": 7,
   "metadata": {},
   "outputs": [
    {
     "data": {
      "text/plain": [
       "performTests (generic function with 1 method)"
      ]
     },
     "execution_count": 7,
     "metadata": {},
     "output_type": "execute_result"
    }
   ],
   "source": [
    "function performTests(funcs::Array{Function,1})\n",
    "    table = Array{Any}\n",
    "    for i in eachindex(funcs)\n",
    "        \n",
    "        # Bisection\n",
    "        funcTable = []\n",
    "        root, output = getOutputOfFindZero(funcs[i], (-5,5), Bisection())\n",
    "        iters = match(r\"(?<=iterations: )(\\d+)\", output).match\n",
    "        f_evals = match(r\"(?<=function evaluations: )(\\d+)\", output).match\n",
    "        \n",
    "        push!(funcTable, i)\n",
    "        push!(funcTable, 1)\n",
    "        push!(funcTable, check_zero(funcs[i], root))\n",
    "        push!(funcTable, round(root, digits=6))\n",
    "        push!(funcTable, parse(Int64, iters))\n",
    "        push!(funcTable, parse(Int64,f_evals))\n",
    "        \n",
    "        table = [table; funcTable']\n",
    "        \n",
    "        # Newton-Raphson\n",
    "        funcTable = []\n",
    "        D(f) = x->ForwardDiff.derivative(f, float(x))\n",
    "        root, output = getOutputOfFindZero((funcs[i], D(funcs[i])), 0, Roots.Newton())\n",
    "        iters = match(r\"(?<=iterations: )(\\d+)\", output).match\n",
    "        f_evals = match(r\"(?<=function evaluations: )(\\d+)\", output).match\n",
    "        \n",
    "        push!(funcTable, i)\n",
    "        push!(funcTable,  2)\n",
    "        push!(funcTable, check_zero(funcs[i], root))\n",
    "        push!(funcTable, round(root, digits=6))\n",
    "        push!(funcTable, parse(Int64, iters))\n",
    "        push!(funcTable, parse(Int64,f_evals))\n",
    "        \n",
    "        table = [table; funcTable']\n",
    "        \n",
    "        # Steffensen\n",
    "        funcTable = []\n",
    "        root, output = getOutputOfFindZero(funcs[i], 0, Order2())\n",
    "        try\n",
    "            iters = match(r\"(?<=iterations: )(\\d+)\", output).match\n",
    "        catch\n",
    "            iters = missing\n",
    "        end\n",
    "        try\n",
    "            f_evals = match(r\"(?<=function evaluations: )(\\d+)\", output).match\n",
    "        catch\n",
    "            f_evals = missing\n",
    "        end\n",
    "        \n",
    "        push!(funcTable, i)\n",
    "        push!(funcTable, 3)\n",
    "        \n",
    "        if ismissing(iters)\n",
    "            push!(funcTable, missing)\n",
    "            push!(funcTable, missing)\n",
    "            push!(funcTable, missing)\n",
    "            push!(funcTable, missing)\n",
    "        else\n",
    "            push!(funcTable, check_zero(funcs[i], root))\n",
    "            push!(funcTable, round(root, digits=6))\n",
    "            push!(funcTable, parse(Int64, iters))\n",
    "            push!(funcTable, parse(Int64,f_evals))\n",
    "        end\n",
    "\n",
    "        table = [table; funcTable']\n",
    "        \n",
    "    end\n",
    "    return table\n",
    "end"
   ]
  },
  {
   "cell_type": "code",
   "execution_count": 8,
   "metadata": {},
   "outputs": [
    {
     "data": {
      "text/plain": [
       "18×6 Matrix{Any}:\n",
       " 1  1   true         0.0          0          3\n",
       " 1  2   true         0.0          0          1\n",
       " 1  3   true         0.0          0          2\n",
       " 2  1   true         0.0          0          3\n",
       " 2  2   true         0.0          0          1\n",
       " 2  3   true         0.0          0          2\n",
       " 3  1   true         0.0          0          3\n",
       " 3  2   true         0.0          0          1\n",
       " 3  3   true         0.0          0          2\n",
       " 4  1   true         0.739085    61         63\n",
       " 4  2   true         0.739085     5         11\n",
       " 4  3   true         0.739085     6         10\n",
       " 5  1   true         1.0         58         60\n",
       " 5  2  false         0.993823    33         67\n",
       " 5  3  false         0.993303    35         63\n",
       " 6  1   true         0.331866    62         64\n",
       " 6  2  false         9.92617e41   1          3\n",
       " 6  3       missing   missing      missing    missing"
      ]
     },
     "execution_count": 8,
     "metadata": {},
     "output_type": "execute_result"
    }
   ],
   "source": [
    "table = performTests(funcs)\n",
    "table = table[2:end, 1:end]"
   ]
  },
  {
   "cell_type": "markdown",
   "metadata": {},
   "source": [
    "Metody ponumerowane są odpowiednio:\n",
    "1. metoda bisekcji,\n",
    "2. metoda Newtona-Raphson'a,\n",
    "3. metoda Steffensen'a.\n",
    "\n",
    "Funkcje ponumerowane są następująco:\n",
    "\n",
    "1. $f(x)=sin(x)-x/2$\n",
    "\n",
    "2. $f(x)=x*exp(-x)$\n",
    "\n",
    "3. $f(x)=x^3$\n",
    "\n",
    "4. $f(x)=cos(x)-x$\n",
    "\n",
    "5. $f(x)=(x-1)^7$\n",
    "\n",
    "6. $f(x)=cos(100*x)-4*erf(30*x-10)$"
   ]
  },
  {
   "cell_type": "code",
   "execution_count": 28,
   "metadata": {},
   "outputs": [
    {
     "name": "stdout",
     "output_type": "stream",
     "text": [
      "┌──────────┬────────┬────────────┬────────────┬──────────────┬─────────────────┐\n",
      "│\u001b[1m Function \u001b[0m│\u001b[1m Method \u001b[0m│\u001b[1m Check zero \u001b[0m│\u001b[1m Found zero \u001b[0m│\u001b[1m No. of iters \u001b[0m│\u001b[1m No. of f. evals \u001b[0m│\n",
      "├──────────┼────────┼────────────┼────────────┼──────────────┼─────────────────┤\n",
      "│        1 │      1 │       true │        0.0 │            0 │               3 │\n",
      "│        1 │      2 │       true │        0.0 │            0 │               1 │\n",
      "│        1 │      3 │       true │        0.0 │            0 │               2 │\n",
      "│        2 │      1 │       true │        0.0 │            0 │               3 │\n",
      "│        2 │      2 │       true │        0.0 │            0 │               1 │\n",
      "│        2 │      3 │       true │        0.0 │            0 │               2 │\n",
      "│        3 │      1 │       true │        0.0 │            0 │               3 │\n",
      "│        3 │      2 │       true │        0.0 │            0 │               1 │\n",
      "│        3 │      3 │       true │        0.0 │            0 │               2 │\n",
      "│        4 │      1 │       true │   0.739085 │           61 │              63 │\n",
      "│        4 │      2 │       true │   0.739085 │            5 │              11 │\n",
      "│        4 │      3 │       true │   0.739085 │            6 │              10 │\n",
      "│        5 │      1 │       true │        1.0 │           58 │              60 │\n",
      "│        5 │      2 │      false │   0.993823 │           33 │              67 │\n",
      "│        5 │      3 │      false │   0.993303 │           35 │              63 │\n",
      "│        6 │      1 │       true │   0.331866 │           62 │              64 │\n",
      "│        6 │      2 │      false │ 9.92617e41 │            1 │               3 │\n",
      "│        6 │      3 │    missing │    missing │      missing │         missing │\n",
      "└──────────┴────────┴────────────┴────────────┴──────────────┴─────────────────┘\n"
     ]
    }
   ],
   "source": [
    "pretty_table(table, [\"Function\" \"Method\" \"Check zero\" \"Found zero\" \"No. of iters\" \"No. of f. evals\"])"
   ]
  },
  {
   "cell_type": "markdown",
   "metadata": {},
   "source": [
    "Metoda Steffensona dla funkcji 6. rzuciła wyjątek - przerwano ją z powodu wykonania zbyt wielu kroków."
   ]
  },
  {
   "cell_type": "markdown",
   "metadata": {},
   "source": [
    "### Zadanie A.2 - Funkcja trudna obliczeniowo"
   ]
  },
  {
   "cell_type": "markdown",
   "metadata": {},
   "source": [
    "Z powyżej Pretty Table widać, że funkcja:\n",
    "\n",
    "<center>$f(x)=(x-1)^7$<\\center>\n",
    "\n",
    "\n",
    "wymagała znacznie większej liczby iteracji oraz wywołań niż pozostałe. Ponadto wyznaczone metodą Newtona-Raphsona oraz metodą Steffensen'a \"zera\" są niedokładne i nie można ich uznać za pierwiastki."
   ]
  },
  {
   "cell_type": "code",
   "execution_count": 29,
   "metadata": {},
   "outputs": [
    {
     "data": {
      "image/svg+xml": [
       "<?xml version=\"1.0\" encoding=\"utf-8\"?>\n",
       "<svg xmlns=\"http://www.w3.org/2000/svg\" xmlns:xlink=\"http://www.w3.org/1999/xlink\" width=\"600\" height=\"400\" viewBox=\"0 0 2400 1600\">\n",
       "<defs>\n",
       "  <clipPath id=\"clip990\">\n",
       "    <rect x=\"0\" y=\"0\" width=\"2400\" height=\"1600\"/>\n",
       "  </clipPath>\n",
       "</defs>\n",
       "<path clip-path=\"url(#clip990)\" d=\"\n",
       "M0 1600 L2400 1600 L2400 0 L0 0  Z\n",
       "  \" fill=\"#ffffff\" fill-rule=\"evenodd\" fill-opacity=\"1\"/>\n",
       "<defs>\n",
       "  <clipPath id=\"clip991\">\n",
       "    <rect x=\"480\" y=\"0\" width=\"1681\" height=\"1600\"/>\n",
       "  </clipPath>\n",
       "</defs>\n",
       "<path clip-path=\"url(#clip990)\" d=\"\n",
       "M336.6 1486.45 L2352.76 1486.45 L2352.76 47.2441 L336.6 47.2441  Z\n",
       "  \" fill=\"#ffffff\" fill-rule=\"evenodd\" fill-opacity=\"1\"/>\n",
       "<defs>\n",
       "  <clipPath id=\"clip992\">\n",
       "    <rect x=\"336\" y=\"47\" width=\"2017\" height=\"1440\"/>\n",
       "  </clipPath>\n",
       "</defs>\n",
       "<polyline clip-path=\"url(#clip992)\" style=\"stroke:#000000; stroke-width:2; stroke-opacity:0.1; fill:none\" points=\"\n",
       "  393.661,1486.45 393.661,47.2441 \n",
       "  \"/>\n",
       "<polyline clip-path=\"url(#clip992)\" style=\"stroke:#000000; stroke-width:2; stroke-opacity:0.1; fill:none\" points=\"\n",
       "  869.17,1486.45 869.17,47.2441 \n",
       "  \"/>\n",
       "<polyline clip-path=\"url(#clip992)\" style=\"stroke:#000000; stroke-width:2; stroke-opacity:0.1; fill:none\" points=\"\n",
       "  1344.68,1486.45 1344.68,47.2441 \n",
       "  \"/>\n",
       "<polyline clip-path=\"url(#clip992)\" style=\"stroke:#000000; stroke-width:2; stroke-opacity:0.1; fill:none\" points=\"\n",
       "  1820.19,1486.45 1820.19,47.2441 \n",
       "  \"/>\n",
       "<polyline clip-path=\"url(#clip992)\" style=\"stroke:#000000; stroke-width:2; stroke-opacity:0.1; fill:none\" points=\"\n",
       "  2295.69,1486.45 2295.69,47.2441 \n",
       "  \"/>\n",
       "<polyline clip-path=\"url(#clip990)\" style=\"stroke:#000000; stroke-width:4; stroke-opacity:1; fill:none\" points=\"\n",
       "  336.6,1486.45 2352.76,1486.45 \n",
       "  \"/>\n",
       "<polyline clip-path=\"url(#clip990)\" style=\"stroke:#000000; stroke-width:4; stroke-opacity:1; fill:none\" points=\"\n",
       "  393.661,1486.45 393.661,1469.18 \n",
       "  \"/>\n",
       "<polyline clip-path=\"url(#clip990)\" style=\"stroke:#000000; stroke-width:4; stroke-opacity:1; fill:none\" points=\"\n",
       "  869.17,1486.45 869.17,1469.18 \n",
       "  \"/>\n",
       "<polyline clip-path=\"url(#clip990)\" style=\"stroke:#000000; stroke-width:4; stroke-opacity:1; fill:none\" points=\"\n",
       "  1344.68,1486.45 1344.68,1469.18 \n",
       "  \"/>\n",
       "<polyline clip-path=\"url(#clip990)\" style=\"stroke:#000000; stroke-width:4; stroke-opacity:1; fill:none\" points=\"\n",
       "  1820.19,1486.45 1820.19,1469.18 \n",
       "  \"/>\n",
       "<polyline clip-path=\"url(#clip990)\" style=\"stroke:#000000; stroke-width:4; stroke-opacity:1; fill:none\" points=\"\n",
       "  2295.69,1486.45 2295.69,1469.18 \n",
       "  \"/>\n",
       "<path clip-path=\"url(#clip990)\" d=\"M 0 0 M332.643 1530.29 L362.319 1530.29 L362.319 1534.23 L332.643 1534.23 L332.643 1530.29 Z\" fill=\"#000000\" fill-rule=\"evenodd\" fill-opacity=\"1\" /><path clip-path=\"url(#clip990)\" d=\"M 0 0 M373.221 1543.18 L380.86 1543.18 L380.86 1516.82 L372.55 1518.49 L372.55 1514.23 L380.814 1512.56 L385.49 1512.56 L385.49 1543.18 L393.129 1543.18 L393.129 1547.12 L373.221 1547.12 L373.221 1543.18 Z\" fill=\"#000000\" fill-rule=\"evenodd\" fill-opacity=\"1\" /><path clip-path=\"url(#clip990)\" d=\"M 0 0 M412.573 1515.64 Q408.962 1515.64 407.133 1519.2 Q405.328 1522.75 405.328 1529.87 Q405.328 1536.98 407.133 1540.55 Q408.962 1544.09 412.573 1544.09 Q416.207 1544.09 418.013 1540.55 Q419.842 1536.98 419.842 1529.87 Q419.842 1522.75 418.013 1519.2 Q416.207 1515.64 412.573 1515.64 M412.573 1511.93 Q418.383 1511.93 421.439 1516.54 Q424.517 1521.12 424.517 1529.87 Q424.517 1538.6 421.439 1543.21 Q418.383 1547.79 412.573 1547.79 Q406.763 1547.79 403.684 1543.21 Q400.629 1538.6 400.629 1529.87 Q400.629 1521.12 403.684 1516.54 Q406.763 1511.93 412.573 1511.93 Z\" fill=\"#000000\" fill-rule=\"evenodd\" fill-opacity=\"1\" /><path clip-path=\"url(#clip990)\" d=\"M 0 0 M442.735 1515.64 Q439.124 1515.64 437.295 1519.2 Q435.49 1522.75 435.49 1529.87 Q435.49 1536.98 437.295 1540.55 Q439.124 1544.09 442.735 1544.09 Q446.369 1544.09 448.175 1540.55 Q450.003 1536.98 450.003 1529.87 Q450.003 1522.75 448.175 1519.2 Q446.369 1515.64 442.735 1515.64 M442.735 1511.93 Q448.545 1511.93 451.601 1516.54 Q454.679 1521.12 454.679 1529.87 Q454.679 1538.6 451.601 1543.21 Q448.545 1547.79 442.735 1547.79 Q436.925 1547.79 433.846 1543.21 Q430.791 1538.6 430.791 1529.87 Q430.791 1521.12 433.846 1516.54 Q436.925 1511.93 442.735 1511.93 Z\" fill=\"#000000\" fill-rule=\"evenodd\" fill-opacity=\"1\" /><path clip-path=\"url(#clip990)\" d=\"M 0 0 M823.232 1530.29 L852.908 1530.29 L852.908 1534.23 L823.232 1534.23 L823.232 1530.29 Z\" fill=\"#000000\" fill-rule=\"evenodd\" fill-opacity=\"1\" /><path clip-path=\"url(#clip990)\" d=\"M 0 0 M863.047 1512.56 L881.403 1512.56 L881.403 1516.5 L867.329 1516.5 L867.329 1524.97 Q868.348 1524.62 869.366 1524.46 Q870.385 1524.27 871.403 1524.27 Q877.19 1524.27 880.57 1527.44 Q883.95 1530.62 883.95 1536.03 Q883.95 1541.61 880.477 1544.71 Q877.005 1547.79 870.686 1547.79 Q868.51 1547.79 866.241 1547.42 Q863.996 1547.05 861.589 1546.31 L861.589 1541.61 Q863.672 1542.74 865.894 1543.3 Q868.116 1543.86 870.593 1543.86 Q874.598 1543.86 876.936 1541.75 Q879.274 1539.64 879.274 1536.03 Q879.274 1532.42 876.936 1530.31 Q874.598 1528.21 870.593 1528.21 Q868.718 1528.21 866.843 1528.62 Q864.991 1529.04 863.047 1529.92 L863.047 1512.56 Z\" fill=\"#000000\" fill-rule=\"evenodd\" fill-opacity=\"1\" /><path clip-path=\"url(#clip990)\" d=\"M 0 0 M903.162 1515.64 Q899.551 1515.64 897.723 1519.2 Q895.917 1522.75 895.917 1529.87 Q895.917 1536.98 897.723 1540.55 Q899.551 1544.09 903.162 1544.09 Q906.797 1544.09 908.602 1540.55 Q910.431 1536.98 910.431 1529.87 Q910.431 1522.75 908.602 1519.2 Q906.797 1515.64 903.162 1515.64 M903.162 1511.93 Q908.973 1511.93 912.028 1516.54 Q915.107 1521.12 915.107 1529.87 Q915.107 1538.6 912.028 1543.21 Q908.973 1547.79 903.162 1547.79 Q897.352 1547.79 894.274 1543.21 Q891.218 1538.6 891.218 1529.87 Q891.218 1521.12 894.274 1516.54 Q897.352 1511.93 903.162 1511.93 Z\" fill=\"#000000\" fill-rule=\"evenodd\" fill-opacity=\"1\" /><path clip-path=\"url(#clip990)\" d=\"M 0 0 M1344.68 1515.64 Q1341.07 1515.64 1339.24 1519.2 Q1337.43 1522.75 1337.43 1529.87 Q1337.43 1536.98 1339.24 1540.55 Q1341.07 1544.09 1344.68 1544.09 Q1348.31 1544.09 1350.12 1540.55 Q1351.95 1536.98 1351.95 1529.87 Q1351.95 1522.75 1350.12 1519.2 Q1348.31 1515.64 1344.68 1515.64 M1344.68 1511.93 Q1350.49 1511.93 1353.54 1516.54 Q1356.62 1521.12 1356.62 1529.87 Q1356.62 1538.6 1353.54 1543.21 Q1350.49 1547.79 1344.68 1547.79 Q1338.87 1547.79 1335.79 1543.21 Q1332.73 1538.6 1332.73 1529.87 Q1332.73 1521.12 1335.79 1516.54 Q1338.87 1511.93 1344.68 1511.93 Z\" fill=\"#000000\" fill-rule=\"evenodd\" fill-opacity=\"1\" /><path clip-path=\"url(#clip990)\" d=\"M 0 0 M1794.89 1512.56 L1813.24 1512.56 L1813.24 1516.5 L1799.17 1516.5 L1799.17 1524.97 Q1800.19 1524.62 1801.21 1524.46 Q1802.22 1524.27 1803.24 1524.27 Q1809.03 1524.27 1812.41 1527.44 Q1815.79 1530.62 1815.79 1536.03 Q1815.79 1541.61 1812.32 1544.71 Q1808.84 1547.79 1802.52 1547.79 Q1800.35 1547.79 1798.08 1547.42 Q1795.83 1547.05 1793.43 1546.31 L1793.43 1541.61 Q1795.51 1542.74 1797.73 1543.3 Q1799.96 1543.86 1802.43 1543.86 Q1806.44 1543.86 1808.77 1541.75 Q1811.11 1539.64 1811.11 1536.03 Q1811.11 1532.42 1808.77 1530.31 Q1806.44 1528.21 1802.43 1528.21 Q1800.56 1528.21 1798.68 1528.62 Q1796.83 1529.04 1794.89 1529.92 L1794.89 1512.56 Z\" fill=\"#000000\" fill-rule=\"evenodd\" fill-opacity=\"1\" /><path clip-path=\"url(#clip990)\" d=\"M 0 0 M1835 1515.64 Q1831.39 1515.64 1829.56 1519.2 Q1827.76 1522.75 1827.76 1529.87 Q1827.76 1536.98 1829.56 1540.55 Q1831.39 1544.09 1835 1544.09 Q1838.64 1544.09 1840.44 1540.55 Q1842.27 1536.98 1842.27 1529.87 Q1842.27 1522.75 1840.44 1519.2 Q1838.64 1515.64 1835 1515.64 M1835 1511.93 Q1840.81 1511.93 1843.87 1516.54 Q1846.95 1521.12 1846.95 1529.87 Q1846.95 1538.6 1843.87 1543.21 Q1840.81 1547.79 1835 1547.79 Q1829.19 1547.79 1826.11 1543.21 Q1823.06 1538.6 1823.06 1529.87 Q1823.06 1521.12 1826.11 1516.54 Q1829.19 1511.93 1835 1511.93 Z\" fill=\"#000000\" fill-rule=\"evenodd\" fill-opacity=\"1\" /><path clip-path=\"url(#clip990)\" d=\"M 0 0 M2255.3 1543.18 L2262.94 1543.18 L2262.94 1516.82 L2254.63 1518.49 L2254.63 1514.23 L2262.89 1512.56 L2267.57 1512.56 L2267.57 1543.18 L2275.21 1543.18 L2275.21 1547.12 L2255.3 1547.12 L2255.3 1543.18 Z\" fill=\"#000000\" fill-rule=\"evenodd\" fill-opacity=\"1\" /><path clip-path=\"url(#clip990)\" d=\"M 0 0 M2294.65 1515.64 Q2291.04 1515.64 2289.21 1519.2 Q2287.41 1522.75 2287.41 1529.87 Q2287.41 1536.98 2289.21 1540.55 Q2291.04 1544.09 2294.65 1544.09 Q2298.29 1544.09 2300.09 1540.55 Q2301.92 1536.98 2301.92 1529.87 Q2301.92 1522.75 2300.09 1519.2 Q2298.29 1515.64 2294.65 1515.64 M2294.65 1511.93 Q2300.46 1511.93 2303.52 1516.54 Q2306.6 1521.12 2306.6 1529.87 Q2306.6 1538.6 2303.52 1543.21 Q2300.46 1547.79 2294.65 1547.79 Q2288.84 1547.79 2285.76 1543.21 Q2282.71 1538.6 2282.71 1529.87 Q2282.71 1521.12 2285.76 1516.54 Q2288.84 1511.93 2294.65 1511.93 Z\" fill=\"#000000\" fill-rule=\"evenodd\" fill-opacity=\"1\" /><path clip-path=\"url(#clip990)\" d=\"M 0 0 M2324.82 1515.64 Q2321.2 1515.64 2319.38 1519.2 Q2317.57 1522.75 2317.57 1529.87 Q2317.57 1536.98 2319.38 1540.55 Q2321.2 1544.09 2324.82 1544.09 Q2328.45 1544.09 2330.25 1540.55 Q2332.08 1536.98 2332.08 1529.87 Q2332.08 1522.75 2330.25 1519.2 Q2328.45 1515.64 2324.82 1515.64 M2324.82 1511.93 Q2330.63 1511.93 2333.68 1516.54 Q2336.76 1521.12 2336.76 1529.87 Q2336.76 1538.6 2333.68 1543.21 Q2330.63 1547.79 2324.82 1547.79 Q2319 1547.79 2315.93 1543.21 Q2312.87 1538.6 2312.87 1529.87 Q2312.87 1521.12 2315.93 1516.54 Q2319 1511.93 2324.82 1511.93 Z\" fill=\"#000000\" fill-rule=\"evenodd\" fill-opacity=\"1\" /><polyline clip-path=\"url(#clip992)\" style=\"stroke:#000000; stroke-width:2; stroke-opacity:0.1; fill:none\" points=\"\n",
       "  336.6,1396.85 2352.76,1396.85 \n",
       "  \"/>\n",
       "<polyline clip-path=\"url(#clip992)\" style=\"stroke:#000000; stroke-width:2; stroke-opacity:0.1; fill:none\" points=\"\n",
       "  336.6,1058.12 2352.76,1058.12 \n",
       "  \"/>\n",
       "<polyline clip-path=\"url(#clip992)\" style=\"stroke:#000000; stroke-width:2; stroke-opacity:0.1; fill:none\" points=\"\n",
       "  336.6,719.401 2352.76,719.401 \n",
       "  \"/>\n",
       "<polyline clip-path=\"url(#clip992)\" style=\"stroke:#000000; stroke-width:2; stroke-opacity:0.1; fill:none\" points=\"\n",
       "  336.6,380.678 2352.76,380.678 \n",
       "  \"/>\n",
       "<polyline clip-path=\"url(#clip990)\" style=\"stroke:#000000; stroke-width:4; stroke-opacity:1; fill:none\" points=\"\n",
       "  336.6,1486.45 336.6,47.2441 \n",
       "  \"/>\n",
       "<polyline clip-path=\"url(#clip990)\" style=\"stroke:#000000; stroke-width:4; stroke-opacity:1; fill:none\" points=\"\n",
       "  336.6,1396.85 360.794,1396.85 \n",
       "  \"/>\n",
       "<polyline clip-path=\"url(#clip990)\" style=\"stroke:#000000; stroke-width:4; stroke-opacity:1; fill:none\" points=\"\n",
       "  336.6,1058.12 360.794,1058.12 \n",
       "  \"/>\n",
       "<polyline clip-path=\"url(#clip990)\" style=\"stroke:#000000; stroke-width:4; stroke-opacity:1; fill:none\" points=\"\n",
       "  336.6,719.401 360.794,719.401 \n",
       "  \"/>\n",
       "<polyline clip-path=\"url(#clip990)\" style=\"stroke:#000000; stroke-width:4; stroke-opacity:1; fill:none\" points=\"\n",
       "  336.6,380.678 360.794,380.678 \n",
       "  \"/>\n",
       "<path clip-path=\"url(#clip990)\" d=\"M 0 0 M50.9921 1403.75 L80.6679 1403.75 L80.6679 1407.68 L50.9921 1407.68 L50.9921 1403.75 Z\" fill=\"#000000\" fill-rule=\"evenodd\" fill-opacity=\"1\" /><path clip-path=\"url(#clip990)\" d=\"M 0 0 M91.5706 1416.64 L99.2095 1416.64 L99.2095 1390.27 L90.8993 1391.94 L90.8993 1387.68 L99.1632 1386.02 L103.839 1386.02 L103.839 1416.64 L111.478 1416.64 L111.478 1420.58 L91.5706 1420.58 L91.5706 1416.64 Z\" fill=\"#000000\" fill-rule=\"evenodd\" fill-opacity=\"1\" /><path clip-path=\"url(#clip990)\" d=\"M 0 0 M120.922 1414.7 L125.807 1414.7 L125.807 1420.58 L120.922 1420.58 L120.922 1414.7 Z\" fill=\"#000000\" fill-rule=\"evenodd\" fill-opacity=\"1\" /><path clip-path=\"url(#clip990)\" d=\"M 0 0 M145.992 1389.09 Q142.381 1389.09 140.552 1392.66 Q138.746 1396.2 138.746 1403.33 Q138.746 1410.44 140.552 1414 Q142.381 1417.54 145.992 1417.54 Q149.626 1417.54 151.431 1414 Q153.26 1410.44 153.26 1403.33 Q153.26 1396.2 151.431 1392.66 Q149.626 1389.09 145.992 1389.09 M145.992 1385.39 Q151.802 1385.39 154.857 1390 Q157.936 1394.58 157.936 1403.33 Q157.936 1412.06 154.857 1416.66 Q151.802 1421.25 145.992 1421.25 Q140.181 1421.25 137.103 1416.66 Q134.047 1412.06 134.047 1403.33 Q134.047 1394.58 137.103 1390 Q140.181 1385.39 145.992 1385.39 Z\" fill=\"#000000\" fill-rule=\"evenodd\" fill-opacity=\"1\" /><path clip-path=\"url(#clip990)\" d=\"M 0 0 M194.325 1395.11 L183.746 1405.74 L194.325 1416.32 L191.57 1419.12 L180.945 1408.49 L170.32 1419.12 L167.589 1416.32 L178.144 1405.74 L167.589 1395.11 L170.32 1392.31 L180.945 1402.94 L191.57 1392.31 L194.325 1395.11 Z\" fill=\"#000000\" fill-rule=\"evenodd\" fill-opacity=\"1\" /><path clip-path=\"url(#clip990)\" d=\"M 0 0 M206.686 1416.64 L214.325 1416.64 L214.325 1390.27 L206.014 1391.94 L206.014 1387.68 L214.278 1386.02 L218.954 1386.02 L218.954 1416.64 L226.593 1416.64 L226.593 1420.58 L206.686 1420.58 L206.686 1416.64 Z\" fill=\"#000000\" fill-rule=\"evenodd\" fill-opacity=\"1\" /><path clip-path=\"url(#clip990)\" d=\"M 0 0 M246.037 1389.09 Q242.426 1389.09 240.598 1392.66 Q238.792 1396.2 238.792 1403.33 Q238.792 1410.44 240.598 1414 Q242.426 1417.54 246.037 1417.54 Q249.672 1417.54 251.477 1414 Q253.306 1410.44 253.306 1403.33 Q253.306 1396.2 251.477 1392.66 Q249.672 1389.09 246.037 1389.09 M246.037 1385.39 Q251.848 1385.39 254.903 1390 Q257.982 1394.58 257.982 1403.33 Q257.982 1412.06 254.903 1416.66 Q251.848 1421.25 246.037 1421.25 Q240.227 1421.25 237.149 1416.66 Q234.093 1412.06 234.093 1403.33 Q234.093 1394.58 237.149 1390 Q240.227 1385.39 246.037 1385.39 Z\" fill=\"#000000\" fill-rule=\"evenodd\" fill-opacity=\"1\" /><path clip-path=\"url(#clip990)\" d=\"M 0 0 M258.527 1389.97 L264.734 1389.97 L264.734 1368.55 L257.982 1369.9 L257.982 1366.44 L264.696 1365.09 L268.495 1365.09 L268.495 1389.97 L274.702 1389.97 L274.702 1393.17 L258.527 1393.17 L258.527 1389.97 Z\" fill=\"#000000\" fill-rule=\"evenodd\" fill-opacity=\"1\" /><path clip-path=\"url(#clip990)\" d=\"M 0 0 M292.814 1368.4 L283.222 1383.38 L292.814 1383.38 L292.814 1368.4 M291.817 1365.09 L296.594 1365.09 L296.594 1383.38 L300.6 1383.38 L300.6 1386.54 L296.594 1386.54 L296.594 1393.17 L292.814 1393.17 L292.814 1386.54 L280.137 1386.54 L280.137 1382.88 L291.817 1365.09 Z\" fill=\"#000000\" fill-rule=\"evenodd\" fill-opacity=\"1\" /><path clip-path=\"url(#clip990)\" d=\"M 0 0 M51.9137 1065.02 L81.5895 1065.02 L81.5895 1068.96 L51.9137 1068.96 L51.9137 1065.02 Z\" fill=\"#000000\" fill-rule=\"evenodd\" fill-opacity=\"1\" /><path clip-path=\"url(#clip990)\" d=\"M 0 0 M91.7283 1047.29 L110.085 1047.29 L110.085 1051.23 L96.0107 1051.23 L96.0107 1059.7 Q97.0292 1059.35 98.0477 1059.19 Q99.0662 1059 100.085 1059 Q105.872 1059 109.251 1062.18 Q112.631 1065.35 112.631 1070.76 Q112.631 1076.34 109.159 1079.44 Q105.687 1082.52 99.3672 1082.52 Q97.1912 1082.52 94.9227 1082.15 Q92.6774 1081.78 90.27 1081.04 L90.27 1076.34 Q92.3533 1077.48 94.5755 1078.03 Q96.7977 1078.59 99.2746 1078.59 Q103.279 1078.59 105.617 1076.48 Q107.955 1074.38 107.955 1070.76 Q107.955 1067.15 105.617 1065.05 Q103.279 1062.94 99.2746 1062.94 Q97.3996 1062.94 95.5246 1063.36 Q93.6727 1063.77 91.7283 1064.65 L91.7283 1047.29 Z\" fill=\"#000000\" fill-rule=\"evenodd\" fill-opacity=\"1\" /><path clip-path=\"url(#clip990)\" d=\"M 0 0 M121.844 1075.97 L126.728 1075.97 L126.728 1081.85 L121.844 1081.85 L121.844 1075.97 Z\" fill=\"#000000\" fill-rule=\"evenodd\" fill-opacity=\"1\" /><path clip-path=\"url(#clip990)\" d=\"M 0 0 M146.913 1050.37 Q143.302 1050.37 141.473 1053.94 Q139.668 1057.48 139.668 1064.61 Q139.668 1071.71 141.473 1075.28 Q143.302 1078.82 146.913 1078.82 Q150.547 1078.82 152.353 1075.28 Q154.182 1071.71 154.182 1064.61 Q154.182 1057.48 152.353 1053.94 Q150.547 1050.37 146.913 1050.37 M146.913 1046.67 Q152.723 1046.67 155.779 1051.27 Q158.858 1055.86 158.858 1064.61 Q158.858 1073.33 155.779 1077.94 Q152.723 1082.52 146.913 1082.52 Q141.103 1082.52 138.024 1077.94 Q134.969 1073.33 134.969 1064.61 Q134.969 1055.86 138.024 1051.27 Q141.103 1046.67 146.913 1046.67 Z\" fill=\"#000000\" fill-rule=\"evenodd\" fill-opacity=\"1\" /><path clip-path=\"url(#clip990)\" d=\"M 0 0 M195.246 1056.39 L184.668 1067.01 L195.246 1077.59 L192.492 1080.39 L181.867 1069.77 L171.242 1080.39 L168.51 1077.59 L179.066 1067.01 L168.51 1056.39 L171.242 1053.59 L181.867 1064.21 L192.492 1053.59 L195.246 1056.39 Z\" fill=\"#000000\" fill-rule=\"evenodd\" fill-opacity=\"1\" /><path clip-path=\"url(#clip990)\" d=\"M 0 0 M207.607 1077.92 L215.246 1077.92 L215.246 1051.55 L206.936 1053.22 L206.936 1048.96 L215.2 1047.29 L219.876 1047.29 L219.876 1077.92 L227.515 1077.92 L227.515 1081.85 L207.607 1081.85 L207.607 1077.92 Z\" fill=\"#000000\" fill-rule=\"evenodd\" fill-opacity=\"1\" /><path clip-path=\"url(#clip990)\" d=\"M 0 0 M246.959 1050.37 Q243.348 1050.37 241.519 1053.94 Q239.714 1057.48 239.714 1064.61 Q239.714 1071.71 241.519 1075.28 Q243.348 1078.82 246.959 1078.82 Q250.593 1078.82 252.399 1075.28 Q254.227 1071.71 254.227 1064.61 Q254.227 1057.48 252.399 1053.94 Q250.593 1050.37 246.959 1050.37 M246.959 1046.67 Q252.769 1046.67 255.825 1051.27 Q258.903 1055.86 258.903 1064.61 Q258.903 1073.33 255.825 1077.94 Q252.769 1082.52 246.959 1082.52 Q241.149 1082.52 238.07 1077.94 Q235.015 1073.33 235.015 1064.61 Q235.015 1055.86 238.07 1051.27 Q241.149 1046.67 246.959 1046.67 Z\" fill=\"#000000\" fill-rule=\"evenodd\" fill-opacity=\"1\" /><path clip-path=\"url(#clip990)\" d=\"M 0 0 M259.449 1051.24 L265.655 1051.24 L265.655 1029.82 L258.903 1031.18 L258.903 1027.72 L265.618 1026.36 L269.417 1026.36 L269.417 1051.24 L275.623 1051.24 L275.623 1054.44 L259.449 1054.44 L259.449 1051.24 Z\" fill=\"#000000\" fill-rule=\"evenodd\" fill-opacity=\"1\" /><path clip-path=\"url(#clip990)\" d=\"M 0 0 M294.807 1039.3 Q297.534 1039.88 299.058 1041.73 Q300.6 1043.57 300.6 1046.28 Q300.6 1050.44 297.741 1052.71 Q294.883 1054.99 289.616 1054.99 Q287.848 1054.99 285.968 1054.63 Q284.106 1054.29 282.112 1053.6 L282.112 1049.93 Q283.692 1050.85 285.573 1051.32 Q287.454 1051.79 289.504 1051.79 Q293.077 1051.79 294.939 1050.38 Q296.82 1048.97 296.82 1046.28 Q296.82 1043.8 295.071 1042.4 Q293.34 1040.99 290.237 1040.99 L286.965 1040.99 L286.965 1037.87 L290.388 1037.87 Q293.19 1037.87 294.676 1036.76 Q296.162 1035.63 296.162 1033.53 Q296.162 1031.36 294.619 1030.22 Q293.096 1029.05 290.237 1029.05 Q288.676 1029.05 286.889 1029.39 Q285.103 1029.73 282.958 1030.44 L282.958 1027.06 Q285.121 1026.46 287.002 1026.15 Q288.902 1025.85 290.576 1025.85 Q294.901 1025.85 297.422 1027.83 Q299.942 1029.78 299.942 1033.13 Q299.942 1035.46 298.607 1037.08 Q297.271 1038.68 294.807 1039.3 Z\" fill=\"#000000\" fill-rule=\"evenodd\" fill-opacity=\"1\" /><path clip-path=\"url(#clip990)\" d=\"M 0 0 M288.656 705.2 Q285.045 705.2 283.216 708.764 Q281.41 712.306 281.41 719.436 Q281.41 726.542 283.216 730.107 Q285.045 733.649 288.656 733.649 Q292.29 733.649 294.096 730.107 Q295.924 726.542 295.924 719.436 Q295.924 712.306 294.096 708.764 Q292.29 705.2 288.656 705.2 M288.656 701.496 Q294.466 701.496 297.521 706.102 Q300.6 710.686 300.6 719.436 Q300.6 728.163 297.521 732.769 Q294.466 737.352 288.656 737.352 Q282.846 737.352 279.767 732.769 Q276.711 728.163 276.711 719.436 Q276.711 710.686 279.767 706.102 Q282.846 701.496 288.656 701.496 Z\" fill=\"#000000\" fill-rule=\"evenodd\" fill-opacity=\"1\" /><path clip-path=\"url(#clip990)\" d=\"M 0 0 M91.7283 369.845 L110.085 369.845 L110.085 373.78 L96.0107 373.78 L96.0107 382.253 Q97.0292 381.905 98.0477 381.743 Q99.0662 381.558 100.085 381.558 Q105.872 381.558 109.251 384.729 Q112.631 387.901 112.631 393.317 Q112.631 398.896 109.159 401.998 Q105.687 405.076 99.3672 405.076 Q97.1912 405.076 94.9227 404.706 Q92.6774 404.336 90.27 403.595 L90.27 398.896 Q92.3533 400.03 94.5755 400.586 Q96.7977 401.141 99.2746 401.141 Q103.279 401.141 105.617 399.035 Q107.955 396.928 107.955 393.317 Q107.955 389.706 105.617 387.6 Q103.279 385.493 99.2746 385.493 Q97.3996 385.493 95.5246 385.91 Q93.6727 386.327 91.7283 387.206 L91.7283 369.845 Z\" fill=\"#000000\" fill-rule=\"evenodd\" fill-opacity=\"1\" /><path clip-path=\"url(#clip990)\" d=\"M 0 0 M121.844 398.526 L126.728 398.526 L126.728 404.405 L121.844 404.405 L121.844 398.526 Z\" fill=\"#000000\" fill-rule=\"evenodd\" fill-opacity=\"1\" /><path clip-path=\"url(#clip990)\" d=\"M 0 0 M146.913 372.924 Q143.302 372.924 141.473 376.489 Q139.668 380.03 139.668 387.16 Q139.668 394.266 141.473 397.831 Q143.302 401.373 146.913 401.373 Q150.547 401.373 152.353 397.831 Q154.182 394.266 154.182 387.16 Q154.182 380.03 152.353 376.489 Q150.547 372.924 146.913 372.924 M146.913 369.22 Q152.723 369.22 155.779 373.827 Q158.858 378.41 158.858 387.16 Q158.858 395.887 155.779 400.493 Q152.723 405.076 146.913 405.076 Q141.103 405.076 138.024 400.493 Q134.969 395.887 134.969 387.16 Q134.969 378.41 138.024 373.827 Q141.103 369.22 146.913 369.22 Z\" fill=\"#000000\" fill-rule=\"evenodd\" fill-opacity=\"1\" /><path clip-path=\"url(#clip990)\" d=\"M 0 0 M195.246 378.942 L184.668 389.567 L195.246 400.146 L192.492 402.947 L181.867 392.322 L171.242 402.947 L168.51 400.146 L179.066 389.567 L168.51 378.942 L171.242 376.141 L181.867 386.766 L192.492 376.141 L195.246 378.942 Z\" fill=\"#000000\" fill-rule=\"evenodd\" fill-opacity=\"1\" /><path clip-path=\"url(#clip990)\" d=\"M 0 0 M207.607 400.47 L215.246 400.47 L215.246 374.104 L206.936 375.771 L206.936 371.512 L215.2 369.845 L219.876 369.845 L219.876 400.47 L227.515 400.47 L227.515 404.405 L207.607 404.405 L207.607 400.47 Z\" fill=\"#000000\" fill-rule=\"evenodd\" fill-opacity=\"1\" /><path clip-path=\"url(#clip990)\" d=\"M 0 0 M246.959 372.924 Q243.348 372.924 241.519 376.489 Q239.714 380.03 239.714 387.16 Q239.714 394.266 241.519 397.831 Q243.348 401.373 246.959 401.373 Q250.593 401.373 252.399 397.831 Q254.227 394.266 254.227 387.16 Q254.227 380.03 252.399 376.489 Q250.593 372.924 246.959 372.924 M246.959 369.22 Q252.769 369.22 255.825 373.827 Q258.903 378.41 258.903 387.16 Q258.903 395.887 255.825 400.493 Q252.769 405.076 246.959 405.076 Q241.149 405.076 238.07 400.493 Q235.015 395.887 235.015 387.16 Q235.015 378.41 238.07 373.827 Q241.149 369.22 246.959 369.22 Z\" fill=\"#000000\" fill-rule=\"evenodd\" fill-opacity=\"1\" /><path clip-path=\"url(#clip990)\" d=\"M 0 0 M259.449 373.797 L265.655 373.797 L265.655 352.375 L258.903 353.73 L258.903 350.269 L265.618 348.915 L269.417 348.915 L269.417 373.797 L275.623 373.797 L275.623 376.995 L259.449 376.995 L259.449 373.797 Z\" fill=\"#000000\" fill-rule=\"evenodd\" fill-opacity=\"1\" /><path clip-path=\"url(#clip990)\" d=\"M 0 0 M294.807 361.855 Q297.534 362.438 299.058 364.281 Q300.6 366.124 300.6 368.832 Q300.6 372.989 297.741 375.264 Q294.883 377.54 289.616 377.54 Q287.848 377.54 285.968 377.183 Q284.106 376.844 282.112 376.148 L282.112 372.481 Q283.692 373.402 285.573 373.873 Q287.454 374.343 289.504 374.343 Q293.077 374.343 294.939 372.932 Q296.82 371.522 296.82 368.832 Q296.82 366.35 295.071 364.958 Q293.34 363.547 290.237 363.547 L286.965 363.547 L286.965 360.425 L290.388 360.425 Q293.19 360.425 294.676 359.315 Q296.162 358.187 296.162 356.081 Q296.162 353.918 294.619 352.77 Q293.096 351.604 290.237 351.604 Q288.676 351.604 286.889 351.943 Q285.103 352.281 282.958 352.996 L282.958 349.611 Q285.121 349.009 287.002 348.708 Q288.902 348.407 290.576 348.407 Q294.901 348.407 297.422 350.382 Q299.942 352.338 299.942 355.686 Q299.942 358.018 298.607 359.635 Q297.271 361.234 294.807 361.855 Z\" fill=\"#000000\" fill-rule=\"evenodd\" fill-opacity=\"1\" /><polyline clip-path=\"url(#clip992)\" style=\"stroke:#009af9; stroke-width:4; stroke-opacity:1; fill:none\" points=\"\n",
       "  393.661,1445.72 398.305,1421.49 402.949,1397.96 407.592,1375.11 412.236,1352.92 433.705,1258.5 455.174,1176.41 476.643,1105.27 498.112,1043.85 519.581,991.003 \n",
       "  541.05,945.713 562.519,907.058 583.988,874.205 609.792,841.352 635.596,814.666 661.4,793.151 687.204,775.943 730.838,754.612 774.471,740.588 869.268,725.472 \n",
       "  956.663,720.911 1050.36,719.631 1158.92,719.411 1255.39,719.401 1339.98,719.401 1432.22,719.401 1525,719.397 1627.58,719.291 1725.19,718.47 1826.67,714.34 \n",
       "  1912.1,703.201 1964.25,689.119 2016.4,665.631 2040.91,650.053 2065.42,630.756 2089.94,607.029 2114.45,578.054 2134.08,550.434 2153.72,518.311 2173.35,481.09 \n",
       "  2192.98,438.113 2212.62,388.656 2232.25,331.927 2251.89,267.053 2271.52,193.083 2277.56,168.326 2283.61,142.579 2289.65,115.806 2295.69,87.9763 \n",
       "  \"/>\n",
       "<path clip-path=\"url(#clip990)\" d=\"\n",
       "M1817.02 216.178 L2285.55 216.178 L2285.55 95.2176 L1817.02 95.2176  Z\n",
       "  \" fill=\"#ffffff\" fill-rule=\"evenodd\" fill-opacity=\"1\"/>\n",
       "<polyline clip-path=\"url(#clip990)\" style=\"stroke:#000000; stroke-width:4; stroke-opacity:1; fill:none\" points=\"\n",
       "  1817.02,216.178 2285.55,216.178 2285.55,95.2176 1817.02,95.2176 1817.02,216.178 \n",
       "  \"/>\n",
       "<polyline clip-path=\"url(#clip990)\" style=\"stroke:#009af9; stroke-width:4; stroke-opacity:1; fill:none\" points=\"\n",
       "  1839.42,155.698 1973.83,155.698 \n",
       "  \"/>\n",
       "<path clip-path=\"url(#clip990)\" d=\"M 0 0 M2010.08 175.385 Q2008.27 180.015 2006.56 181.427 Q2004.85 182.839 2001.98 182.839 L1998.57 182.839 L1998.57 179.274 L2001.07 179.274 Q2002.83 179.274 2003.8 178.44 Q2004.78 177.607 2005.96 174.505 L2006.72 172.561 L1996.23 147.052 L2000.75 147.052 L2008.85 167.329 L2016.95 147.052 L2021.47 147.052 L2010.08 175.385 Z\" fill=\"#000000\" fill-rule=\"evenodd\" fill-opacity=\"1\" /><path clip-path=\"url(#clip990)\" d=\"M 0 0 M2027.9 151.45 L2057.58 151.45 L2057.58 155.339 L2027.9 155.339 L2027.9 151.45 M2027.9 160.894 L2057.58 160.894 L2057.58 164.829 L2027.9 164.829 L2027.9 160.894 Z\" fill=\"#000000\" fill-rule=\"evenodd\" fill-opacity=\"1\" /><path clip-path=\"url(#clip990)\" d=\"M 0 0 M2077.3 137.006 Q2074.2 142.33 2072.69 147.538 Q2071.19 152.746 2071.19 158.093 Q2071.19 163.441 2072.69 168.695 Q2074.22 173.927 2077.3 179.228 L2073.6 179.228 Q2070.12 173.788 2068.39 168.533 Q2066.67 163.279 2066.67 158.093 Q2066.67 152.931 2068.39 147.7 Q2070.1 142.468 2073.6 137.006 L2077.3 137.006 Z\" fill=\"#000000\" fill-rule=\"evenodd\" fill-opacity=\"1\" /><path clip-path=\"url(#clip990)\" d=\"M 0 0 M2107.11 147.052 L2097.74 159.667 L2107.6 172.978 L2102.58 172.978 L2095.03 162.792 L2087.48 172.978 L2082.46 172.978 L2092.53 159.413 L2083.32 147.052 L2088.34 147.052 L2095.22 156.288 L2102.09 147.052 L2107.11 147.052 Z\" fill=\"#000000\" fill-rule=\"evenodd\" fill-opacity=\"1\" /><path clip-path=\"url(#clip990)\" d=\"M 0 0 M2111.47 158.093 L2123.94 158.093 L2123.94 161.89 L2111.47 161.89 L2111.47 158.093 Z\" fill=\"#000000\" fill-rule=\"evenodd\" fill-opacity=\"1\" /><path clip-path=\"url(#clip990)\" d=\"M 0 0 M2132.14 169.042 L2139.78 169.042 L2139.78 142.677 L2131.47 144.343 L2131.47 140.084 L2139.73 138.418 L2144.41 138.418 L2144.41 169.042 L2152.04 169.042 L2152.04 172.978 L2132.14 172.978 L2132.14 169.042 Z\" fill=\"#000000\" fill-rule=\"evenodd\" fill-opacity=\"1\" /><path clip-path=\"url(#clip990)\" d=\"M 0 0 M2160.22 137.006 L2163.92 137.006 Q2167.39 142.468 2169.1 147.7 Q2170.84 152.931 2170.84 158.093 Q2170.84 163.279 2169.1 168.533 Q2167.39 173.788 2163.92 179.228 L2160.22 179.228 Q2163.29 173.927 2164.8 168.695 Q2166.33 163.441 2166.33 158.093 Q2166.33 152.746 2164.8 147.538 Q2163.29 142.33 2160.22 137.006 Z\" fill=\"#000000\" fill-rule=\"evenodd\" fill-opacity=\"1\" /><path clip-path=\"url(#clip990)\" d=\"M 0 0 M2197.04 138.418 L2209.61 151.311 L2204.96 151.311 L2194.78 142.168 L2184.59 151.311 L2179.94 151.311 L2192.51 138.418 L2197.04 138.418 Z\" fill=\"#000000\" fill-rule=\"evenodd\" fill-opacity=\"1\" /><path clip-path=\"url(#clip990)\" d=\"M 0 0 M2218.53 138.418 L2240.75 138.418 L2240.75 140.408 L2228.2 172.978 L2223.32 172.978 L2235.12 142.353 L2218.53 142.353 L2218.53 138.418 Z\" fill=\"#000000\" fill-rule=\"evenodd\" fill-opacity=\"1\" /></svg>\n"
      ]
     },
     "execution_count": 29,
     "metadata": {},
     "output_type": "execute_result"
    }
   ],
   "source": [
    "plot(x->f5(x), -100,100, label=\"y=(x-1)^7\")"
   ]
  },
  {
   "cell_type": "markdown",
   "metadata": {},
   "source": [
    "#### Metoda bisekcji"
   ]
  },
  {
   "cell_type": "code",
   "execution_count": 11,
   "metadata": {},
   "outputs": [
    {
     "name": "stdout",
     "output_type": "stream",
     "text": [
      "Results of univariate zero finding:\n",
      "\n",
      "* Converged to: 1.0000000000000018\n",
      "* Algorithm: Roots.BisectionExact()\n",
      "* iterations: 58\n",
      "* function evaluations: 60\n",
      "* stopped as x_n ≈ x_{n-1} using atol=xatol, rtol=xrtol\n",
      "* stopped as |f(x_n)| ≤ max(δ, max(1,|x|)⋅ϵ) using δ = atol, ϵ = rtol\n",
      "\n",
      "Trace:\n",
      "(a_0, b_0) = ( 0.0000000000000000,  5.0000000000000000)\n",
      "(a_1, b_1) = ( 0.0000000000000000,  5.0000000000000000)\n",
      "(a_2, b_2) = ( 0.0000000000000000,  5.0000000000000000)\n",
      "(a_3, b_3) = ( 0.0000000000000000,  5.0000000000000000)\n",
      "(a_4, b_4) = ( 0.0000000000000000,  5.0000000000000000)\n",
      "(a_5, b_5) = ( 0.0000000011277734,  5.0000000000000000)\n",
      "(a_6, b_6) = ( 0.0000751018524170,  5.0000000000000000)\n",
      "(a_7, b_7) = ( 0.0193786621093750,  5.0000000000000000)\n",
      "(a_8, b_8) = ( 0.3112792968750000,  5.0000000000000000)\n",
      "(a_9, b_9) = ( 0.3112792968750000,  1.2475585937500000)\n",
      "(a_10, b_10) = ( 0.6231689453125000,  1.2475585937500000)\n",
      "(a_11, b_11) = ( 0.8734741210937500,  1.2475585937500000)\n",
      "(a_12, b_12) = ( 0.9986267089843750,  1.2475585937500000)\n",
      "(a_13, b_13) = ( 0.9986267089843750,  1.1224060058593750)\n",
      "(a_14, b_14) = ( 0.9986267089843750,  1.0598297119140625)\n",
      "(a_15, b_15) = ( 0.9986267089843750,  1.0285415649414062)\n",
      "(a_16, b_16) = ( 0.9986267089843750,  1.0128974914550781)\n",
      "(a_17, b_17) = ( 0.9986267089843750,  1.0050754547119141)\n",
      "(a_18, b_18) = ( 0.9986267089843750,  1.0011644363403320)\n",
      "(a_19, b_19) = ( 0.9996044635772705,  1.0011644363403320)\n",
      "(a_20, b_20) = ( 0.9996044635772705,  1.0001866817474365)\n",
      "(a_21, b_21) = ( 0.9998489022254944,  1.0001866817474365)\n",
      "(a_22, b_22) = ( 0.9999711215496063,  1.0001866817474365)\n",
      "(a_23, b_23) = ( 0.9999711215496063,  1.0000644624233246)\n",
      "(a_24, b_24) = ( 0.9999711215496063,  1.0000033527612686)\n",
      "(a_25, b_25) = ( 0.9999863989651203,  1.0000033527612686)\n",
      "(a_26, b_26) = ( 0.9999940376728773,  1.0000033527612686)\n",
      "(a_27, b_27) = ( 0.9999978570267558,  1.0000033527612686)\n",
      "(a_28, b_28) = ( 0.9999997667036951,  1.0000033527612686)\n",
      "(a_29, b_29) = ( 0.9999997667036951,  1.0000014430843294)\n",
      "(a_30, b_30) = ( 0.9999997667036951,  1.0000004882458597)\n",
      "(a_31, b_31) = ( 0.9999997667036951,  1.0000000108266249)\n",
      "(a_32, b_32) = ( 0.9999998860585038,  1.0000000108266249)\n",
      "(a_33, b_33) = ( 0.9999999457359081,  1.0000000108266249)\n",
      "(a_34, b_34) = ( 0.9999999755746103,  1.0000000108266249)\n",
      "(a_35, b_35) = ( 0.9999999904939614,  1.0000000108266249)\n",
      "(a_36, b_36) = ( 0.9999999979536369,  1.0000000108266249)\n",
      "(a_37, b_37) = ( 0.9999999979536369,  1.0000000033669494)\n",
      "(a_38, b_38) = ( 0.9999999998185558,  1.0000000033669494)\n",
      "(a_39, b_39) = ( 0.9999999998185558,  1.0000000015020305)\n",
      "(a_40, b_40) = ( 0.9999999998185558,  1.0000000005695711)\n",
      "(a_41, b_41) = ( 0.9999999998185558,  1.0000000001033413)\n",
      "(a_42, b_42) = ( 0.9999999999351132,  1.0000000001033413)\n",
      "(a_43, b_43) = ( 0.9999999999933920,  1.0000000001033413)\n",
      "(a_44, b_44) = ( 0.9999999999933920,  1.0000000000450626)\n",
      "(a_45, b_45) = ( 0.9999999999933920,  1.0000000000159233)\n",
      "(a_46, b_46) = ( 0.9999999999933920,  1.0000000000013536)\n",
      "(a_47, b_47) = ( 0.9999999999970344,  1.0000000000013536)\n",
      "(a_48, b_48) = ( 0.9999999999988556,  1.0000000000013536)\n",
      "(a_49, b_49) = ( 0.9999999999997662,  1.0000000000013536)\n",
      "(a_50, b_50) = ( 0.9999999999997662,  1.0000000000004430)\n",
      "(a_51, b_51) = ( 0.9999999999999938,  1.0000000000004430)\n",
      "(a_52, b_52) = ( 0.9999999999999938,  1.0000000000002152)\n",
      "(a_53, b_53) = ( 0.9999999999999938,  1.0000000000001013)\n",
      "(a_54, b_54) = ( 0.9999999999999938,  1.0000000000000444)\n",
      "(a_55, b_55) = ( 0.9999999999999938,  1.0000000000000160)\n",
      "(a_56, b_56) = ( 0.9999999999999938,  1.0000000000000018)\n",
      "(a_57, b_57) = ( 0.9999999999999973,  1.0000000000000018)\n",
      "(a_58, b_58) = ( 0.9999999999999991,  1.0000000000000018)\n",
      "\n"
     ]
    },
    {
     "data": {
      "text/plain": [
       "1.0"
      ]
     },
     "execution_count": 11,
     "metadata": {},
     "output_type": "execute_result"
    }
   ],
   "source": [
    "root = find_zero(f5, (0,5), Bisection(), verbose=true)"
   ]
  },
  {
   "cell_type": "code",
   "execution_count": 19,
   "metadata": {},
   "outputs": [
    {
     "data": {
      "text/plain": [
       "true"
      ]
     },
     "execution_count": 19,
     "metadata": {},
     "output_type": "execute_result"
    }
   ],
   "source": [
    "check_zero(f5, root)"
   ]
  },
  {
   "cell_type": "markdown",
   "metadata": {},
   "source": [
    "#### Metoda Newtona-Raphsona"
   ]
  },
  {
   "cell_type": "code",
   "execution_count": 15,
   "metadata": {},
   "outputs": [
    {
     "name": "stdout",
     "output_type": "stream",
     "text": [
      "Results of univariate zero finding:\n",
      "\n",
      "* Converged to: 0.9938233080518548\n",
      "* Algorithm: Roots.Newton()\n",
      "* iterations: 33\n",
      "* function evaluations: 67\n",
      "* stopped as |f(x_n)| ≤ max(δ, max(1,|x|)⋅ϵ) using δ = atol, ϵ = rtol\n",
      "\n",
      "Trace:\n",
      "x_0 =  0.0000000000000000,\t fx_0 = -1.0000000000000000\n",
      "x_1 =  0.1428571428571428,\t fx_1 = -0.3399166770891139\n",
      "x_2 =  0.2653061224489796,\t fx_2 = -0.1155433473633047\n",
      "x_3 =  0.3702623906705539,\t fx_3 = -0.0392751106954878\n",
      "x_4 =  0.4602249062890462,\t fx_4 = -0.0133502651199173\n",
      "x_5 =  0.5373356339620396,\t fx_5 = -0.0045379777578210\n",
      "x_6 =  0.6034305433960340,\t fx_6 = -0.0015425343201428\n",
      "x_7 =  0.6600833229108862,\t fx_7 = -0.0005243331403989\n",
      "x_8 =  0.7086428482093311,\t fx_8 = -0.0001782295787721\n",
      "x_9 =  0.7502652984651409,\t fx_9 = -0.0000605832061752\n",
      "x_10 =  0.7859416843986922,\t fx_10 = -0.0000205932421305\n",
      "x_11 =  0.8165214437703076,\t fx_11 = -0.0000069999864355\n",
      "x_12 =  0.8427326660888350,\t fx_12 = -0.0000023794121288\n",
      "x_13 =  0.8651994280761443,\t fx_13 = -0.0000008088018643\n",
      "x_14 =  0.8844566526366950,\t fx_14 = -0.0000002749252421\n",
      "x_15 =  0.9009628451171672,\t fx_15 = -0.0000000934516747\n",
      "x_16 =  0.9151110101004291,\t fx_16 = -0.0000000317657827\n",
      "x_17 =  0.9272380086575106,\t fx_17 = -0.0000000107977193\n",
      "x_18 =  0.9376325788492949,\t fx_18 = -0.0000000036703249\n",
      "x_19 =  0.9465422104422527,\t fx_19 = -0.0000000012476046\n",
      "x_20 =  0.9541790375219309,\t fx_20 = -0.0000000004240816\n",
      "x_21 =  0.9607248893045122,\t fx_21 = -0.0000000001441524\n",
      "x_22 =  0.9663356194038676,\t fx_22 = -0.0000000000489998\n",
      "x_23 =  0.9711448166318865,\t fx_23 = -0.0000000000166559\n",
      "x_24 =  0.9752669856844741,\t fx_24 = -0.0000000000056616\n",
      "x_25 =  0.9788002734438349,\t fx_25 = -0.0000000000019245\n",
      "x_26 =  0.9818288058090013,\t fx_26 = -0.0000000000006542\n",
      "x_27 =  0.9844246906934297,\t fx_27 = -0.0000000000002224\n",
      "x_28 =  0.9866497348800827,\t fx_28 = -0.0000000000000756\n",
      "x_29 =  0.9885569156114994,\t fx_29 = -0.0000000000000257\n",
      "x_30 =  0.9901916419527138,\t fx_30 = -0.0000000000000087\n",
      "x_31 =  0.9915928359594690,\t fx_31 = -0.0000000000000030\n",
      "x_32 =  0.9927938593938306,\t fx_32 = -0.0000000000000010\n",
      "x_33 =  0.9938233080518548,\t fx_33 = -0.0000000000000003\n",
      "\n"
     ]
    },
    {
     "data": {
      "text/plain": [
       "0.9938233080518548"
      ]
     },
     "execution_count": 15,
     "metadata": {},
     "output_type": "execute_result"
    }
   ],
   "source": [
    "D(f) = x->ForwardDiff.derivative(f, float(x))\n",
    "root2 = find_zero((f5, D(f5)), 0, Roots.Newton(), verbose = true)"
   ]
  },
  {
   "cell_type": "code",
   "execution_count": 20,
   "metadata": {},
   "outputs": [
    {
     "data": {
      "text/plain": [
       "false"
      ]
     },
     "execution_count": 20,
     "metadata": {},
     "output_type": "execute_result"
    }
   ],
   "source": [
    "check_zero(f5, root2)"
   ]
  },
  {
   "cell_type": "markdown",
   "metadata": {},
   "source": [
    "#### Metoda Steffensona"
   ]
  },
  {
   "cell_type": "code",
   "execution_count": 22,
   "metadata": {},
   "outputs": [
    {
     "name": "stdout",
     "output_type": "stream",
     "text": [
      "Results of univariate zero finding:\n",
      "\n",
      "* Converged to: 0.993303448486348\n",
      "* Algorithm: Order2()\n",
      "* iterations: 35\n",
      "* function evaluations: 63\n",
      "* stopped as |f(x_n)| ≤ max(δ, max(1,|x|)⋅ϵ) using δ = atol, ϵ = rtol\n",
      "\n",
      "Trace:\n",
      "x_0 =  0.0000000000000000,\t fx_0 = -1.0000000000000000\n",
      "x_1 =  0.1428597380722589,\t fx_1 = -0.3399094728732135\n",
      "x_2 =  0.2164244633142859,\t fx_2 = -0.1813702625538253\n",
      "x_3 =  0.3005831613736946,\t fx_3 = -0.0818752401598620\n",
      "x_4 =  0.3698380190475942,\t fx_4 = -0.0394607544128561\n",
      "x_5 =  0.4342699903997396,\t fx_5 = -0.0185466090720156\n",
      "x_6 =  0.4914080931016461,\t fx_6 = -0.0088020962960889\n",
      "x_7 =  0.5430202253572963,\t fx_7 = -0.0041617774635777\n",
      "x_8 =  0.5893097620511607,\t fx_8 = -0.0019706098941454\n",
      "x_9 =  0.6309399049379361,\t fx_9 = -0.0009325661014505\n",
      "x_10 =  0.6840637950994354,\t fx_10 = -0.0003141924747254\n",
      "x_11 =  0.7293323712107269,\t fx_11 = -0.0001064275900187\n",
      "x_12 =  0.7680448110654621,\t fx_12 = -0.0000361267294072\n",
      "x_13 =  0.8011967527270829,\t fx_13 = -0.0000122733838649\n",
      "x_14 =  0.8296024770777772,\t fx_14 = -0.0000041710264109\n",
      "x_15 =  0.8539467679933405,\t fx_15 = -0.0000014176799698\n",
      "x_16 =  0.8748121230086496,\t fx_16 = -0.0000004818766931\n",
      "x_17 =  0.8926963119561823,\t fx_17 = -0.0000001637957176\n",
      "x_18 =  0.9080254804471145,\t fx_18 = -0.0000000556765986\n",
      "x_19 =  0.9211647213907853,\t fx_19 = -0.0000000189253643\n",
      "x_20 =  0.9324269121578270,\t fx_20 = -0.0000000064330415\n",
      "x_21 =  0.9420802131623157,\t fx_21 = -0.0000000021866974\n",
      "x_22 =  0.9503544693581619,\t fx_22 = -0.0000000007432948\n",
      "x_23 =  0.9574466888035225,\t fx_23 = -0.0000000002526583\n",
      "x_24 =  0.9635257343564368,\t fx_24 = -0.0000000000858827\n",
      "x_25 =  0.9687363435030062,\t fx_25 = -0.0000000000291930\n",
      "x_26 =  0.9732025795339725,\t fx_26 = -0.0000000000099232\n",
      "x_27 =  0.9770307855638407,\t fx_27 = -0.0000000000033731\n",
      "x_28 =  0.9803120751123646,\t fx_28 = -0.0000000000011466\n",
      "x_29 =  0.9831247348965566,\t fx_29 = -0.0000000000003897\n",
      "x_30 =  0.9855356931034118,\t fx_30 = -0.0000000000001325\n",
      "x_31 =  0.9876021801798177,\t fx_31 = -0.0000000000000450\n",
      "x_32 =  0.9893711836086677,\t fx_32 = -0.0000000000000153\n",
      "x_33 =  0.9908899390587924,\t fx_33 = -0.0000000000000052\n",
      "x_34 =  0.9921887920020398,\t fx_34 = -0.0000000000000018\n",
      "x_35 =  0.9933034484863480,\t fx_35 = -0.0000000000000006\n",
      "\n"
     ]
    },
    {
     "data": {
      "text/plain": [
       "0.993303448486348"
      ]
     },
     "execution_count": 22,
     "metadata": {},
     "output_type": "execute_result"
    }
   ],
   "source": [
    "root3 = find_zero(f5, 0, Order2(), verbose=true)"
   ]
  },
  {
   "cell_type": "code",
   "execution_count": 30,
   "metadata": {},
   "outputs": [
    {
     "data": {
      "text/plain": [
       "false"
      ]
     },
     "execution_count": 30,
     "metadata": {},
     "output_type": "execute_result"
    }
   ],
   "source": [
    "check_zero(f5, root3)"
   ]
  },
  {
   "cell_type": "markdown",
   "metadata": {},
   "source": [
    "### Zadanie A.3 - Słabe punkty przedstawionych metod"
   ]
  },
  {
   "cell_type": "markdown",
   "metadata": {},
   "source": [
    "#### Metoda bisekcji"
   ]
  },
  {
   "cell_type": "markdown",
   "metadata": {},
   "source": [
    "Metoda bisekcji może napotkać na problem, gdy niedokładność obliczeń komputerowych sprawia, że funkcja interpretowana jest jako nieciągła. Wtedy komputer może uznać, że funkcja zmienia znak, gdy w rzeczywistości tego nie robi."
   ]
  },
  {
   "cell_type": "markdown",
   "metadata": {},
   "source": [
    "#### Metoda Newtona-Raphsona"
   ]
  },
  {
   "cell_type": "markdown",
   "metadata": {},
   "source": [
    "Jeśli dla pewnych funkcji wybierzemy niefortunne punkty startowe, metoda ta może wejść w nieskończony, rozbieżny cykl."
   ]
  },
  {
   "cell_type": "code",
   "execution_count": 50,
   "metadata": {},
   "outputs": [
    {
     "data": {
      "image/svg+xml": [
       "<?xml version=\"1.0\" encoding=\"utf-8\"?>\n",
       "<svg xmlns=\"http://www.w3.org/2000/svg\" xmlns:xlink=\"http://www.w3.org/1999/xlink\" width=\"600\" height=\"400\" viewBox=\"0 0 2400 1600\">\n",
       "<defs>\n",
       "  <clipPath id=\"clip390\">\n",
       "    <rect x=\"0\" y=\"0\" width=\"2400\" height=\"1600\"/>\n",
       "  </clipPath>\n",
       "</defs>\n",
       "<path clip-path=\"url(#clip390)\" d=\"\n",
       "M0 1600 L2400 1600 L2400 0 L0 0  Z\n",
       "  \" fill=\"#ffffff\" fill-rule=\"evenodd\" fill-opacity=\"1\"/>\n",
       "<defs>\n",
       "  <clipPath id=\"clip391\">\n",
       "    <rect x=\"480\" y=\"0\" width=\"1681\" height=\"1600\"/>\n",
       "  </clipPath>\n",
       "</defs>\n",
       "<path clip-path=\"url(#clip390)\" d=\"\n",
       "M156.274 1486.45 L2352.76 1486.45 L2352.76 47.2441 L156.274 47.2441  Z\n",
       "  \" fill=\"#ffffff\" fill-rule=\"evenodd\" fill-opacity=\"1\"/>\n",
       "<defs>\n",
       "  <clipPath id=\"clip392\">\n",
       "    <rect x=\"156\" y=\"47\" width=\"2197\" height=\"1440\"/>\n",
       "  </clipPath>\n",
       "</defs>\n",
       "<polyline clip-path=\"url(#clip392)\" style=\"stroke:#000000; stroke-width:2; stroke-opacity:0.1; fill:none\" points=\"\n",
       "  218.439,1486.45 218.439,47.2441 \n",
       "  \"/>\n",
       "<polyline clip-path=\"url(#clip392)\" style=\"stroke:#000000; stroke-width:2; stroke-opacity:0.1; fill:none\" points=\"\n",
       "  736.477,1486.45 736.477,47.2441 \n",
       "  \"/>\n",
       "<polyline clip-path=\"url(#clip392)\" style=\"stroke:#000000; stroke-width:2; stroke-opacity:0.1; fill:none\" points=\"\n",
       "  1254.52,1486.45 1254.52,47.2441 \n",
       "  \"/>\n",
       "<polyline clip-path=\"url(#clip392)\" style=\"stroke:#000000; stroke-width:2; stroke-opacity:0.1; fill:none\" points=\"\n",
       "  1772.55,1486.45 1772.55,47.2441 \n",
       "  \"/>\n",
       "<polyline clip-path=\"url(#clip392)\" style=\"stroke:#000000; stroke-width:2; stroke-opacity:0.1; fill:none\" points=\"\n",
       "  2290.59,1486.45 2290.59,47.2441 \n",
       "  \"/>\n",
       "<polyline clip-path=\"url(#clip390)\" style=\"stroke:#000000; stroke-width:4; stroke-opacity:1; fill:none\" points=\"\n",
       "  156.274,1486.45 2352.76,1486.45 \n",
       "  \"/>\n",
       "<polyline clip-path=\"url(#clip390)\" style=\"stroke:#000000; stroke-width:4; stroke-opacity:1; fill:none\" points=\"\n",
       "  218.439,1486.45 218.439,1469.18 \n",
       "  \"/>\n",
       "<polyline clip-path=\"url(#clip390)\" style=\"stroke:#000000; stroke-width:4; stroke-opacity:1; fill:none\" points=\"\n",
       "  736.477,1486.45 736.477,1469.18 \n",
       "  \"/>\n",
       "<polyline clip-path=\"url(#clip390)\" style=\"stroke:#000000; stroke-width:4; stroke-opacity:1; fill:none\" points=\"\n",
       "  1254.52,1486.45 1254.52,1469.18 \n",
       "  \"/>\n",
       "<polyline clip-path=\"url(#clip390)\" style=\"stroke:#000000; stroke-width:4; stroke-opacity:1; fill:none\" points=\"\n",
       "  1772.55,1486.45 1772.55,1469.18 \n",
       "  \"/>\n",
       "<polyline clip-path=\"url(#clip390)\" style=\"stroke:#000000; stroke-width:4; stroke-opacity:1; fill:none\" points=\"\n",
       "  2290.59,1486.45 2290.59,1469.18 \n",
       "  \"/>\n",
       "<path clip-path=\"url(#clip390)\" d=\"M 0 0 M187.339 1530.29 L217.015 1530.29 L217.015 1534.23 L187.339 1534.23 L187.339 1530.29 Z\" fill=\"#000000\" fill-rule=\"evenodd\" fill-opacity=\"1\" /><path clip-path=\"url(#clip390)\" d=\"M 0 0 M239.955 1516.63 L228.149 1535.08 L239.955 1535.08 L239.955 1516.63 M238.728 1512.56 L244.608 1512.56 L244.608 1535.08 L249.538 1535.08 L249.538 1538.97 L244.608 1538.97 L244.608 1547.12 L239.955 1547.12 L239.955 1538.97 L224.353 1538.97 L224.353 1534.46 L238.728 1512.56 Z\" fill=\"#000000\" fill-rule=\"evenodd\" fill-opacity=\"1\" /><path clip-path=\"url(#clip390)\" d=\"M 0 0 M706.419 1530.29 L736.095 1530.29 L736.095 1534.23 L706.419 1534.23 L706.419 1530.29 Z\" fill=\"#000000\" fill-rule=\"evenodd\" fill-opacity=\"1\" /><path clip-path=\"url(#clip390)\" d=\"M 0 0 M750.215 1543.18 L766.535 1543.18 L766.535 1547.12 L744.59 1547.12 L744.59 1543.18 Q747.252 1540.43 751.836 1535.8 Q756.442 1531.15 757.623 1529.81 Q759.868 1527.28 760.748 1525.55 Q761.65 1523.79 761.65 1522.1 Q761.65 1519.34 759.706 1517.61 Q757.785 1515.87 754.683 1515.87 Q752.484 1515.87 750.03 1516.63 Q747.6 1517.4 744.822 1518.95 L744.822 1514.23 Q747.646 1513.09 750.099 1512.51 Q752.553 1511.93 754.59 1511.93 Q759.961 1511.93 763.155 1514.62 Q766.349 1517.31 766.349 1521.8 Q766.349 1523.93 765.539 1525.85 Q764.752 1527.74 762.646 1530.34 Q762.067 1531.01 758.965 1534.23 Q755.863 1537.42 750.215 1543.18 Z\" fill=\"#000000\" fill-rule=\"evenodd\" fill-opacity=\"1\" /><path clip-path=\"url(#clip390)\" d=\"M 0 0 M1254.52 1515.64 Q1250.9 1515.64 1249.08 1519.2 Q1247.27 1522.75 1247.27 1529.87 Q1247.27 1536.98 1249.08 1540.55 Q1250.9 1544.09 1254.52 1544.09 Q1258.15 1544.09 1259.95 1540.55 Q1261.78 1536.98 1261.78 1529.87 Q1261.78 1522.75 1259.95 1519.2 Q1258.15 1515.64 1254.52 1515.64 M1254.52 1511.93 Q1260.33 1511.93 1263.38 1516.54 Q1266.46 1521.12 1266.46 1529.87 Q1266.46 1538.6 1263.38 1543.21 Q1260.33 1547.79 1254.52 1547.79 Q1248.7 1547.79 1245.63 1543.21 Q1242.57 1538.6 1242.57 1529.87 Q1242.57 1521.12 1245.63 1516.54 Q1248.7 1511.93 1254.52 1511.93 Z\" fill=\"#000000\" fill-rule=\"evenodd\" fill-opacity=\"1\" /><path clip-path=\"url(#clip390)\" d=\"M 0 0 M1767.21 1543.18 L1783.53 1543.18 L1783.53 1547.12 L1761.58 1547.12 L1761.58 1543.18 Q1764.24 1540.43 1768.83 1535.8 Q1773.43 1531.15 1774.61 1529.81 Q1776.86 1527.28 1777.74 1525.55 Q1778.64 1523.79 1778.64 1522.1 Q1778.64 1519.34 1776.7 1517.61 Q1774.78 1515.87 1771.67 1515.87 Q1769.47 1515.87 1767.02 1516.63 Q1764.59 1517.4 1761.81 1518.95 L1761.81 1514.23 Q1764.64 1513.09 1767.09 1512.51 Q1769.54 1511.93 1771.58 1511.93 Q1776.95 1511.93 1780.15 1514.62 Q1783.34 1517.31 1783.34 1521.8 Q1783.34 1523.93 1782.53 1525.85 Q1781.74 1527.74 1779.64 1530.34 Q1779.06 1531.01 1775.96 1534.23 Q1772.85 1537.42 1767.21 1543.18 Z\" fill=\"#000000\" fill-rule=\"evenodd\" fill-opacity=\"1\" /><path clip-path=\"url(#clip390)\" d=\"M 0 0 M2293.6 1516.63 L2281.8 1535.08 L2293.6 1535.08 L2293.6 1516.63 M2292.37 1512.56 L2298.25 1512.56 L2298.25 1535.08 L2303.18 1535.08 L2303.18 1538.97 L2298.25 1538.97 L2298.25 1547.12 L2293.6 1547.12 L2293.6 1538.97 L2278 1538.97 L2278 1534.46 L2292.37 1512.56 Z\" fill=\"#000000\" fill-rule=\"evenodd\" fill-opacity=\"1\" /><polyline clip-path=\"url(#clip392)\" style=\"stroke:#000000; stroke-width:2; stroke-opacity:0.1; fill:none\" points=\"\n",
       "  156.274,1274.16 2352.76,1274.16 \n",
       "  \"/>\n",
       "<polyline clip-path=\"url(#clip392)\" style=\"stroke:#000000; stroke-width:2; stroke-opacity:0.1; fill:none\" points=\"\n",
       "  156.274,997.747 2352.76,997.747 \n",
       "  \"/>\n",
       "<polyline clip-path=\"url(#clip392)\" style=\"stroke:#000000; stroke-width:2; stroke-opacity:0.1; fill:none\" points=\"\n",
       "  156.274,721.333 2352.76,721.333 \n",
       "  \"/>\n",
       "<polyline clip-path=\"url(#clip392)\" style=\"stroke:#000000; stroke-width:2; stroke-opacity:0.1; fill:none\" points=\"\n",
       "  156.274,444.919 2352.76,444.919 \n",
       "  \"/>\n",
       "<polyline clip-path=\"url(#clip392)\" style=\"stroke:#000000; stroke-width:2; stroke-opacity:0.1; fill:none\" points=\"\n",
       "  156.274,168.506 2352.76,168.506 \n",
       "  \"/>\n",
       "<polyline clip-path=\"url(#clip390)\" style=\"stroke:#000000; stroke-width:4; stroke-opacity:1; fill:none\" points=\"\n",
       "  156.274,1486.45 156.274,47.2441 \n",
       "  \"/>\n",
       "<polyline clip-path=\"url(#clip390)\" style=\"stroke:#000000; stroke-width:4; stroke-opacity:1; fill:none\" points=\"\n",
       "  156.274,1274.16 182.632,1274.16 \n",
       "  \"/>\n",
       "<polyline clip-path=\"url(#clip390)\" style=\"stroke:#000000; stroke-width:4; stroke-opacity:1; fill:none\" points=\"\n",
       "  156.274,997.747 182.632,997.747 \n",
       "  \"/>\n",
       "<polyline clip-path=\"url(#clip390)\" style=\"stroke:#000000; stroke-width:4; stroke-opacity:1; fill:none\" points=\"\n",
       "  156.274,721.333 182.632,721.333 \n",
       "  \"/>\n",
       "<polyline clip-path=\"url(#clip390)\" style=\"stroke:#000000; stroke-width:4; stroke-opacity:1; fill:none\" points=\"\n",
       "  156.274,444.919 182.632,444.919 \n",
       "  \"/>\n",
       "<polyline clip-path=\"url(#clip390)\" style=\"stroke:#000000; stroke-width:4; stroke-opacity:1; fill:none\" points=\"\n",
       "  156.274,168.506 182.632,168.506 \n",
       "  \"/>\n",
       "<path clip-path=\"url(#clip390)\" d=\"M 0 0 M63.7467 1259.96 Q60.1356 1259.96 58.3069 1263.52 Q56.5014 1267.07 56.5014 1274.2 Q56.5014 1281.3 58.3069 1284.87 Q60.1356 1288.41 63.7467 1288.41 Q67.3809 1288.41 69.1865 1284.87 Q71.0152 1281.3 71.0152 1274.2 Q71.0152 1267.07 69.1865 1263.52 Q67.3809 1259.96 63.7467 1259.96 M63.7467 1256.26 Q69.5568 1256.26 72.6124 1260.86 Q75.6911 1265.45 75.6911 1274.2 Q75.6911 1282.92 72.6124 1287.53 Q69.5568 1292.11 63.7467 1292.11 Q57.9365 1292.11 54.8578 1287.53 Q51.8023 1282.92 51.8023 1274.2 Q51.8023 1265.45 54.8578 1260.86 Q57.9365 1256.26 63.7467 1256.26 Z\" fill=\"#000000\" fill-rule=\"evenodd\" fill-opacity=\"1\" /><path clip-path=\"url(#clip390)\" d=\"M 0 0 M83.9086 1285.56 L88.7928 1285.56 L88.7928 1291.44 L83.9086 1291.44 L83.9086 1285.56 Z\" fill=\"#000000\" fill-rule=\"evenodd\" fill-opacity=\"1\" /><path clip-path=\"url(#clip390)\" d=\"M 0 0 M113.145 1272.81 Q116.501 1273.52 118.376 1275.79 Q120.274 1278.06 120.274 1281.39 Q120.274 1286.51 116.756 1289.31 Q113.237 1292.11 106.756 1292.11 Q104.58 1292.11 102.265 1291.67 Q99.9733 1291.26 97.5197 1290.4 L97.5197 1285.88 Q99.4641 1287.02 101.779 1287.6 Q104.094 1288.18 106.617 1288.18 Q111.015 1288.18 113.307 1286.44 Q115.621 1284.7 115.621 1281.39 Q115.621 1278.34 113.469 1276.63 Q111.339 1274.89 107.52 1274.89 L103.492 1274.89 L103.492 1271.05 L107.705 1271.05 Q111.154 1271.05 112.983 1269.68 Q114.811 1268.29 114.811 1265.7 Q114.811 1263.04 112.913 1261.63 Q111.038 1260.19 107.52 1260.19 Q105.598 1260.19 103.399 1260.61 Q101.2 1261.02 98.5613 1261.9 L98.5613 1257.74 Q101.223 1257 103.538 1256.63 Q105.876 1256.26 107.936 1256.26 Q113.26 1256.26 116.362 1258.69 Q119.464 1261.09 119.464 1265.21 Q119.464 1268.08 117.82 1270.07 Q116.177 1272.04 113.145 1272.81 Z\" fill=\"#000000\" fill-rule=\"evenodd\" fill-opacity=\"1\" /><path clip-path=\"url(#clip390)\" d=\"M 0 0 M62.9365 983.546 Q59.3254 983.546 57.4967 987.11 Q55.6912 990.652 55.6912 997.782 Q55.6912 1004.89 57.4967 1008.45 Q59.3254 1011.99 62.9365 1011.99 Q66.5707 1011.99 68.3763 1008.45 Q70.205 1004.89 70.205 997.782 Q70.205 990.652 68.3763 987.11 Q66.5707 983.546 62.9365 983.546 M62.9365 979.842 Q68.7467 979.842 71.8022 984.448 Q74.8809 989.032 74.8809 997.782 Q74.8809 1006.51 71.8022 1011.11 Q68.7467 1015.7 62.9365 1015.7 Q57.1264 1015.7 54.0477 1011.11 Q50.9921 1006.51 50.9921 997.782 Q50.9921 989.032 54.0477 984.448 Q57.1264 979.842 62.9365 979.842 Z\" fill=\"#000000\" fill-rule=\"evenodd\" fill-opacity=\"1\" /><path clip-path=\"url(#clip390)\" d=\"M 0 0 M83.0984 1009.15 L87.9827 1009.15 L87.9827 1015.03 L83.0984 1015.03 L83.0984 1009.15 Z\" fill=\"#000000\" fill-rule=\"evenodd\" fill-opacity=\"1\" /><path clip-path=\"url(#clip390)\" d=\"M 0 0 M108.746 995.883 Q105.598 995.883 103.746 998.036 Q101.918 1000.19 101.918 1003.94 Q101.918 1007.67 103.746 1009.84 Q105.598 1011.99 108.746 1011.99 Q111.895 1011.99 113.723 1009.84 Q115.575 1007.67 115.575 1003.94 Q115.575 1000.19 113.723 998.036 Q111.895 995.883 108.746 995.883 M118.029 981.231 L118.029 985.49 Q116.27 984.657 114.464 984.217 Q112.682 983.777 110.922 983.777 Q106.293 983.777 103.839 986.902 Q101.409 990.027 101.061 996.346 Q102.427 994.332 104.487 993.268 Q106.547 992.18 109.024 992.18 Q114.233 992.18 117.242 995.351 Q120.274 998.499 120.274 1003.94 Q120.274 1009.26 117.126 1012.48 Q113.978 1015.7 108.746 1015.7 Q102.751 1015.7 99.5798 1011.11 Q96.4085 1006.51 96.4085 997.782 Q96.4085 989.587 100.297 984.726 Q104.186 979.842 110.737 979.842 Q112.496 979.842 114.279 980.189 Q116.084 980.536 118.029 981.231 Z\" fill=\"#000000\" fill-rule=\"evenodd\" fill-opacity=\"1\" /><path clip-path=\"url(#clip390)\" d=\"M 0 0 M63.2837 707.132 Q59.6726 707.132 57.8439 710.697 Q56.0384 714.238 56.0384 721.368 Q56.0384 728.474 57.8439 732.039 Q59.6726 735.581 63.2837 735.581 Q66.918 735.581 68.7235 732.039 Q70.5522 728.474 70.5522 721.368 Q70.5522 714.238 68.7235 710.697 Q66.918 707.132 63.2837 707.132 M63.2837 703.428 Q69.0939 703.428 72.1494 708.035 Q75.2281 712.618 75.2281 721.368 Q75.2281 730.095 72.1494 734.701 Q69.0939 739.284 63.2837 739.284 Q57.4736 739.284 54.3949 734.701 Q51.3393 730.095 51.3393 721.368 Q51.3393 712.618 54.3949 708.035 Q57.4736 703.428 63.2837 703.428 Z\" fill=\"#000000\" fill-rule=\"evenodd\" fill-opacity=\"1\" /><path clip-path=\"url(#clip390)\" d=\"M 0 0 M83.4457 732.734 L88.3299 732.734 L88.3299 738.613 L83.4457 738.613 L83.4457 732.734 Z\" fill=\"#000000\" fill-rule=\"evenodd\" fill-opacity=\"1\" /><path clip-path=\"url(#clip390)\" d=\"M 0 0 M98.6539 737.896 L98.6539 733.636 Q100.413 734.47 102.219 734.909 Q104.024 735.349 105.76 735.349 Q110.39 735.349 112.82 732.247 Q115.274 729.122 115.621 722.78 Q114.279 724.771 112.219 725.835 Q110.158 726.9 107.658 726.9 Q102.473 726.9 99.4409 723.775 Q96.4317 720.627 96.4317 715.187 Q96.4317 709.863 99.5798 706.646 Q102.728 703.428 107.959 703.428 Q113.955 703.428 117.103 708.035 Q120.274 712.618 120.274 721.368 Q120.274 729.539 116.385 734.423 Q112.52 739.284 105.969 739.284 Q104.209 739.284 102.404 738.937 Q100.598 738.59 98.6539 737.896 M107.959 723.243 Q111.108 723.243 112.936 721.09 Q114.788 718.937 114.788 715.187 Q114.788 711.461 112.936 709.308 Q111.108 707.132 107.959 707.132 Q104.811 707.132 102.959 709.308 Q101.131 711.461 101.131 715.187 Q101.131 718.937 102.959 721.09 Q104.811 723.243 107.959 723.243 Z\" fill=\"#000000\" fill-rule=\"evenodd\" fill-opacity=\"1\" /><path clip-path=\"url(#clip390)\" d=\"M 0 0 M55.506 458.264 L63.1448 458.264 L63.1448 431.899 L54.8347 433.565 L54.8347 429.306 L63.0985 427.639 L67.7744 427.639 L67.7744 458.264 L75.4133 458.264 L75.4133 462.199 L55.506 462.199 L55.506 458.264 Z\" fill=\"#000000\" fill-rule=\"evenodd\" fill-opacity=\"1\" /><path clip-path=\"url(#clip390)\" d=\"M 0 0 M84.8577 456.32 L89.7419 456.32 L89.7419 462.199 L84.8577 462.199 L84.8577 456.32 Z\" fill=\"#000000\" fill-rule=\"evenodd\" fill-opacity=\"1\" /><path clip-path=\"url(#clip390)\" d=\"M 0 0 M103.955 458.264 L120.274 458.264 L120.274 462.199 L98.3298 462.199 L98.3298 458.264 Q100.992 455.51 105.575 450.88 Q110.182 446.227 111.362 444.885 Q113.608 442.362 114.487 440.625 Q115.39 438.866 115.39 437.176 Q115.39 434.422 113.445 432.686 Q111.524 430.95 108.422 430.95 Q106.223 430.95 103.77 431.714 Q101.339 432.477 98.5613 434.028 L98.5613 429.306 Q101.385 428.172 103.839 427.593 Q106.293 427.014 108.33 427.014 Q113.7 427.014 116.895 429.7 Q120.089 432.385 120.089 436.876 Q120.089 439.005 119.279 440.926 Q118.492 442.825 116.385 445.417 Q115.807 446.088 112.705 449.306 Q109.603 452.5 103.955 458.264 Z\" fill=\"#000000\" fill-rule=\"evenodd\" fill-opacity=\"1\" /><path clip-path=\"url(#clip390)\" d=\"M 0 0 M54.9041 181.851 L62.543 181.851 L62.543 155.485 L54.2328 157.152 L54.2328 152.892 L62.4967 151.226 L67.1726 151.226 L67.1726 181.851 L74.8114 181.851 L74.8114 185.786 L54.9041 185.786 L54.9041 181.851 Z\" fill=\"#000000\" fill-rule=\"evenodd\" fill-opacity=\"1\" /><path clip-path=\"url(#clip390)\" d=\"M 0 0 M84.2558 179.906 L89.1401 179.906 L89.1401 185.786 L84.2558 185.786 L84.2558 179.906 Z\" fill=\"#000000\" fill-rule=\"evenodd\" fill-opacity=\"1\" /><path clip-path=\"url(#clip390)\" d=\"M 0 0 M99.3715 151.226 L117.728 151.226 L117.728 155.161 L103.654 155.161 L103.654 163.633 Q104.672 163.286 105.691 163.124 Q106.709 162.939 107.728 162.939 Q113.515 162.939 116.895 166.11 Q120.274 169.281 120.274 174.698 Q120.274 180.277 116.802 183.378 Q113.33 186.457 107.01 186.457 Q104.834 186.457 102.566 186.087 Q100.321 185.716 97.9132 184.976 L97.9132 180.277 Q99.9965 181.411 102.219 181.966 Q104.441 182.522 106.918 182.522 Q110.922 182.522 113.26 180.415 Q115.598 178.309 115.598 174.698 Q115.598 171.087 113.26 168.98 Q110.922 166.874 106.918 166.874 Q105.043 166.874 103.168 167.29 Q101.316 167.707 99.3715 168.587 L99.3715 151.226 Z\" fill=\"#000000\" fill-rule=\"evenodd\" fill-opacity=\"1\" /><polyline clip-path=\"url(#clip392)\" style=\"stroke:#009af9; stroke-width:4; stroke-opacity:1; fill:none\" points=\"\n",
       "  1254.9,1445.72 1255.68,1398.4 1256.47,1369.94 1257.25,1348.39 1258.04,1330.66 1258.82,1315.4 1260.39,1289.73 1261.96,1268.31 1265.1,1233.19 1268.24,1204.48 \n",
       "  1271.38,1179.89 1274.52,1158.18 1280.8,1120.8 1287.08,1088.98 1293.36,1061.04 1299.64,1035.97 1312.2,992.073 1324.76,954.17 1337.32,920.555 1349.88,890.188 \n",
       "  1375.15,836.366 1400.42,789.625 1425.69,748.012 1450.97,710.318 1506.84,637.198 1562.72,574.217 1615.89,521.026 1669.06,472.827 1724.34,426.904 1779.62,384.455 \n",
       "  1826.15,350.978 1872.69,319.272 1986.32,248.03 2093.13,187.512 2264.26,100.475 2290.59,87.9763 \n",
       "  \"/>\n",
       "<path clip-path=\"url(#clip390)\" d=\"\n",
       "M1859.86 216.178 L2279.54 216.178 L2279.54 95.2176 L1859.86 95.2176  Z\n",
       "  \" fill=\"#ffffff\" fill-rule=\"evenodd\" fill-opacity=\"1\"/>\n",
       "<polyline clip-path=\"url(#clip390)\" style=\"stroke:#000000; stroke-width:4; stroke-opacity:1; fill:none\" points=\"\n",
       "  1859.86,216.178 2279.54,216.178 2279.54,95.2176 1859.86,95.2176 1859.86,216.178 \n",
       "  \"/>\n",
       "<polyline clip-path=\"url(#clip390)\" style=\"stroke:#009af9; stroke-width:4; stroke-opacity:1; fill:none\" points=\"\n",
       "  1884.27,155.698 2030.7,155.698 \n",
       "  \"/>\n",
       "<path clip-path=\"url(#clip390)\" d=\"M 0 0 M2079.76 147.052 L2070.38 159.667 L2080.24 172.978 L2075.22 172.978 L2067.67 162.792 L2060.13 172.978 L2055.11 172.978 L2065.17 159.413 L2055.96 147.052 L2060.98 147.052 L2067.86 156.288 L2074.73 147.052 L2079.76 147.052 Z\" fill=\"#000000\" fill-rule=\"evenodd\" fill-opacity=\"1\" /><path clip-path=\"url(#clip390)\" d=\"M 0 0 M2103.92 138.418 L2116.49 151.311 L2111.84 151.311 L2101.66 142.168 L2091.47 151.311 L2086.82 151.311 L2099.39 138.418 L2103.92 138.418 Z\" fill=\"#000000\" fill-rule=\"evenodd\" fill-opacity=\"1\" /><path clip-path=\"url(#clip390)\" d=\"M 0 0 M2136.22 137.006 Q2133.11 142.33 2131.61 147.538 Q2130.1 152.746 2130.1 158.093 Q2130.1 163.441 2131.61 168.695 Q2133.14 173.927 2136.22 179.228 L2132.51 179.228 Q2129.04 173.788 2127.3 168.533 Q2125.59 163.279 2125.59 158.093 Q2125.59 152.931 2127.3 147.7 Q2129.02 142.468 2132.51 137.006 L2136.22 137.006 Z\" fill=\"#000000\" fill-rule=\"evenodd\" fill-opacity=\"1\" /><path clip-path=\"url(#clip390)\" d=\"M 0 0 M2145.89 169.042 L2153.53 169.042 L2153.53 142.677 L2145.22 144.343 L2145.22 140.084 L2153.48 138.418 L2158.16 138.418 L2158.16 169.042 L2165.8 169.042 L2165.8 172.978 L2145.89 172.978 L2145.89 169.042 Z\" fill=\"#000000\" fill-rule=\"evenodd\" fill-opacity=\"1\" /><path clip-path=\"url(#clip390)\" d=\"M 0 0 M2182.21 138.418 L2186.15 138.418 L2174.11 177.376 L2170.17 177.376 L2182.21 138.418 Z\" fill=\"#000000\" fill-rule=\"evenodd\" fill-opacity=\"1\" /><path clip-path=\"url(#clip390)\" d=\"M 0 0 M2205.38 154.343 Q2208.74 155.061 2210.61 157.329 Q2212.51 159.598 2212.51 162.931 Q2212.51 168.047 2208.99 170.848 Q2205.47 173.649 2198.99 173.649 Q2196.82 173.649 2194.5 173.209 Q2192.21 172.792 2189.76 171.936 L2189.76 167.422 Q2191.7 168.556 2194.02 169.135 Q2196.33 169.714 2198.85 169.714 Q2203.25 169.714 2205.54 167.978 Q2207.86 166.241 2207.86 162.931 Q2207.86 159.876 2205.71 158.163 Q2203.58 156.427 2199.76 156.427 L2195.73 156.427 L2195.73 152.584 L2199.94 152.584 Q2203.39 152.584 2205.22 151.218 Q2207.05 149.83 2207.05 147.237 Q2207.05 144.575 2205.15 143.163 Q2203.28 141.728 2199.76 141.728 Q2197.84 141.728 2195.64 142.144 Q2193.44 142.561 2190.8 143.441 L2190.8 139.274 Q2193.46 138.533 2195.78 138.163 Q2198.11 137.793 2200.17 137.793 Q2205.5 137.793 2208.6 140.223 Q2211.7 142.63 2211.7 146.751 Q2211.7 149.621 2210.06 151.612 Q2208.41 153.58 2205.38 154.343 Z\" fill=\"#000000\" fill-rule=\"evenodd\" fill-opacity=\"1\" /><path clip-path=\"url(#clip390)\" d=\"M 0 0 M2220.1 137.006 L2223.81 137.006 Q2227.28 142.468 2228.99 147.7 Q2230.73 152.931 2230.73 158.093 Q2230.73 163.279 2228.99 168.533 Q2227.28 173.788 2223.81 179.228 L2220.1 179.228 Q2223.18 173.927 2224.69 168.695 Q2226.22 163.441 2226.22 158.093 Q2226.22 152.746 2224.69 147.538 Q2223.18 142.33 2220.1 137.006 Z\" fill=\"#000000\" fill-rule=\"evenodd\" fill-opacity=\"1\" /></svg>\n"
      ]
     },
     "execution_count": 50,
     "metadata": {},
     "output_type": "execute_result"
    }
   ],
   "source": [
    "fail_fun(x) = x^(1/3)\n",
    "plot(fail_fun, -4, 4, label=\"x^(1/3)\")"
   ]
  },
  {
   "cell_type": "code",
   "execution_count": 54,
   "metadata": {},
   "outputs": [
    {
     "ename": "LoadError",
     "evalue": "DomainError with -2.0:\nExponentiation yielding a complex result requires a complex argument.\nReplace x^y with (x+0im)^y, Complex(x)^y, or similar.",
     "output_type": "error",
     "traceback": [
      "DomainError with -2.0:\nExponentiation yielding a complex result requires a complex argument.\nReplace x^y with (x+0im)^y, Complex(x)^y, or similar.",
      "",
      "Stacktrace:",
      "  [1] throw_exp_domainerror(x::Float64)",
      "    @ Base.Math .\\math.jl:37",
      "  [2] ^",
      "    @ .\\math.jl:901 [inlined]",
      "  [3] fail_fun",
      "    @ .\\In[50]:1 [inlined]",
      "  [4] fΔx(F::Roots.FirstDerivative{typeof(fail_fun), var\"#28#29\"{typeof(fail_fun)}}, x::Float64)",
      "    @ Roots ~\\.julia\\packages\\Roots\\AV3zx\\src\\find_zero.jl:303",
      "  [5] update_state(method::Roots.Newton, fs::Roots.FirstDerivative{typeof(fail_fun), var\"#28#29\"{typeof(fail_fun)}}, o::Roots.UnivariateZeroState{Float64, Float64}, options::Roots.UnivariateZeroOptions{Float64, Float64, Float64, Float64})",
      "    @ Roots ~\\.julia\\packages\\Roots\\AV3zx\\src\\newton.jl:88",
      "  [6] find_zero(M::Roots.Newton, F::Roots.FirstDerivative{typeof(fail_fun), var\"#28#29\"{typeof(fail_fun)}}, state::Roots.UnivariateZeroState{Float64, Float64}, options::Roots.UnivariateZeroOptions{Float64, Float64, Float64, Float64}, l::Roots.Tracks{Float64, Float64})",
      "    @ Roots ~\\.julia\\packages\\Roots\\AV3zx\\src\\find_zero.jl:773",
      "  [7] find_zero(fs::Tuple{typeof(fail_fun), var\"#28#29\"{typeof(fail_fun)}}, x0::Int64, method::Roots.Newton, N::Nothing; tracks::Roots.NullTracks, verbose::Bool, p::Nothing, kwargs::Base.Iterators.Pairs{Union{}, Union{}, Tuple{}, NamedTuple{(), Tuple{}}})",
      "    @ Roots ~\\.julia\\packages\\Roots\\AV3zx\\src\\find_zero.jl:705",
      "  [8] top-level scope",
      "    @ In[54]:2",
      "  [9] eval",
      "    @ .\\boot.jl:360 [inlined]",
      " [10] include_string(mapexpr::typeof(REPL.softscope), mod::Module, code::String, filename::String)",
      "    @ Base .\\loading.jl:1094"
     ]
    }
   ],
   "source": [
    "D(f) = x->ForwardDiff.derivative(f, float(x))\n",
    "find_zero((fail_fun, D(fail_fun)), 1, Roots.Newton(), verbose=true)"
   ]
  },
  {
   "cell_type": "markdown",
   "metadata": {},
   "source": [
    "Metoda przestała działać, gdyż w pierwszym kroku otrzymana pochodna wynosi:\n",
    "\n",
    "<center>$f'(x) = \\frac{1}{3}x^{\\frac{-2}{3}}$<\\center>\n",
    "    \n",
    "wtedy:\n",
    "\n",
    "<center>$x_{n} = (-1)^{n}2^{n-1}$<\\center>\n",
    "    \n",
    "co jest generuje ciąg rozbieżny i algorytm zakończy działanie."
   ]
  },
  {
   "cell_type": "markdown",
   "metadata": {},
   "source": [
    "#### Metoda Steffensona"
   ]
  },
  {
   "cell_type": "markdown",
   "metadata": {},
   "source": [
    "Przykładowo można posłużyć się funkcją z zadania A.1:\n",
    "\n",
    "<center>$f(x)=cos(100x)-4erf(30x-10)$<\\center>"
   ]
  },
  {
   "cell_type": "code",
   "execution_count": 61,
   "metadata": {},
   "outputs": [
    {
     "data": {
      "image/svg+xml": [
       "<?xml version=\"1.0\" encoding=\"utf-8\"?>\n",
       "<svg xmlns=\"http://www.w3.org/2000/svg\" xmlns:xlink=\"http://www.w3.org/1999/xlink\" width=\"600\" height=\"400\" viewBox=\"0 0 2400 1600\">\n",
       "<defs>\n",
       "  <clipPath id=\"clip510\">\n",
       "    <rect x=\"0\" y=\"0\" width=\"2400\" height=\"1600\"/>\n",
       "  </clipPath>\n",
       "</defs>\n",
       "<path clip-path=\"url(#clip510)\" d=\"\n",
       "M0 1600 L2400 1600 L2400 0 L0 0  Z\n",
       "  \" fill=\"#ffffff\" fill-rule=\"evenodd\" fill-opacity=\"1\"/>\n",
       "<defs>\n",
       "  <clipPath id=\"clip511\">\n",
       "    <rect x=\"480\" y=\"0\" width=\"1681\" height=\"1600\"/>\n",
       "  </clipPath>\n",
       "</defs>\n",
       "<path clip-path=\"url(#clip510)\" d=\"\n",
       "M149.191 1486.45 L2352.76 1486.45 L2352.76 47.2441 L149.191 47.2441  Z\n",
       "  \" fill=\"#ffffff\" fill-rule=\"evenodd\" fill-opacity=\"1\"/>\n",
       "<defs>\n",
       "  <clipPath id=\"clip512\">\n",
       "    <rect x=\"149\" y=\"47\" width=\"2205\" height=\"1440\"/>\n",
       "  </clipPath>\n",
       "</defs>\n",
       "<polyline clip-path=\"url(#clip512)\" style=\"stroke:#000000; stroke-width:2; stroke-opacity:0.1; fill:none\" points=\"\n",
       "  211.556,1486.45 211.556,47.2441 \n",
       "  \"/>\n",
       "<polyline clip-path=\"url(#clip512)\" style=\"stroke:#000000; stroke-width:2; stroke-opacity:0.1; fill:none\" points=\"\n",
       "  731.265,1486.45 731.265,47.2441 \n",
       "  \"/>\n",
       "<polyline clip-path=\"url(#clip512)\" style=\"stroke:#000000; stroke-width:2; stroke-opacity:0.1; fill:none\" points=\"\n",
       "  1250.97,1486.45 1250.97,47.2441 \n",
       "  \"/>\n",
       "<polyline clip-path=\"url(#clip512)\" style=\"stroke:#000000; stroke-width:2; stroke-opacity:0.1; fill:none\" points=\"\n",
       "  1770.68,1486.45 1770.68,47.2441 \n",
       "  \"/>\n",
       "<polyline clip-path=\"url(#clip512)\" style=\"stroke:#000000; stroke-width:2; stroke-opacity:0.1; fill:none\" points=\"\n",
       "  2290.39,1486.45 2290.39,47.2441 \n",
       "  \"/>\n",
       "<polyline clip-path=\"url(#clip510)\" style=\"stroke:#000000; stroke-width:4; stroke-opacity:1; fill:none\" points=\"\n",
       "  149.191,1486.45 2352.76,1486.45 \n",
       "  \"/>\n",
       "<polyline clip-path=\"url(#clip510)\" style=\"stroke:#000000; stroke-width:4; stroke-opacity:1; fill:none\" points=\"\n",
       "  211.556,1486.45 211.556,1469.18 \n",
       "  \"/>\n",
       "<polyline clip-path=\"url(#clip510)\" style=\"stroke:#000000; stroke-width:4; stroke-opacity:1; fill:none\" points=\"\n",
       "  731.265,1486.45 731.265,1469.18 \n",
       "  \"/>\n",
       "<polyline clip-path=\"url(#clip510)\" style=\"stroke:#000000; stroke-width:4; stroke-opacity:1; fill:none\" points=\"\n",
       "  1250.97,1486.45 1250.97,1469.18 \n",
       "  \"/>\n",
       "<polyline clip-path=\"url(#clip510)\" style=\"stroke:#000000; stroke-width:4; stroke-opacity:1; fill:none\" points=\"\n",
       "  1770.68,1486.45 1770.68,1469.18 \n",
       "  \"/>\n",
       "<polyline clip-path=\"url(#clip510)\" style=\"stroke:#000000; stroke-width:4; stroke-opacity:1; fill:none\" points=\"\n",
       "  2290.39,1486.45 2290.39,1469.18 \n",
       "  \"/>\n",
       "<path clip-path=\"url(#clip510)\" d=\"M 0 0 M158.084 1530.29 L187.76 1530.29 L187.76 1534.23 L158.084 1534.23 L158.084 1530.29 Z\" fill=\"#000000\" fill-rule=\"evenodd\" fill-opacity=\"1\" /><path clip-path=\"url(#clip510)\" d=\"M 0 0 M198.662 1543.18 L206.301 1543.18 L206.301 1516.82 L197.991 1518.49 L197.991 1514.23 L206.255 1512.56 L210.931 1512.56 L210.931 1543.18 L218.57 1543.18 L218.57 1547.12 L198.662 1547.12 L198.662 1543.18 Z\" fill=\"#000000\" fill-rule=\"evenodd\" fill-opacity=\"1\" /><path clip-path=\"url(#clip510)\" d=\"M 0 0 M228.014 1541.24 L232.898 1541.24 L232.898 1547.12 L228.014 1547.12 L228.014 1541.24 Z\" fill=\"#000000\" fill-rule=\"evenodd\" fill-opacity=\"1\" /><path clip-path=\"url(#clip510)\" d=\"M 0 0 M253.083 1515.64 Q249.472 1515.64 247.644 1519.2 Q245.838 1522.75 245.838 1529.87 Q245.838 1536.98 247.644 1540.55 Q249.472 1544.09 253.083 1544.09 Q256.718 1544.09 258.523 1540.55 Q260.352 1536.98 260.352 1529.87 Q260.352 1522.75 258.523 1519.2 Q256.718 1515.64 253.083 1515.64 M253.083 1511.93 Q258.894 1511.93 261.949 1516.54 Q265.028 1521.12 265.028 1529.87 Q265.028 1538.6 261.949 1543.21 Q258.894 1547.79 253.083 1547.79 Q247.273 1547.79 244.195 1543.21 Q241.139 1538.6 241.139 1529.87 Q241.139 1521.12 244.195 1516.54 Q247.273 1511.93 253.083 1511.93 Z\" fill=\"#000000\" fill-rule=\"evenodd\" fill-opacity=\"1\" /><path clip-path=\"url(#clip510)\" d=\"M 0 0 M678.29 1530.29 L707.966 1530.29 L707.966 1534.23 L678.29 1534.23 L678.29 1530.29 Z\" fill=\"#000000\" fill-rule=\"evenodd\" fill-opacity=\"1\" /><path clip-path=\"url(#clip510)\" d=\"M 0 0 M728.059 1515.64 Q724.448 1515.64 722.619 1519.2 Q720.813 1522.75 720.813 1529.87 Q720.813 1536.98 722.619 1540.55 Q724.448 1544.09 728.059 1544.09 Q731.693 1544.09 733.498 1540.55 Q735.327 1536.98 735.327 1529.87 Q735.327 1522.75 733.498 1519.2 Q731.693 1515.64 728.059 1515.64 M728.059 1511.93 Q733.869 1511.93 736.924 1516.54 Q740.003 1521.12 740.003 1529.87 Q740.003 1538.6 736.924 1543.21 Q733.869 1547.79 728.059 1547.79 Q722.248 1547.79 719.17 1543.21 Q716.114 1538.6 716.114 1529.87 Q716.114 1521.12 719.17 1516.54 Q722.248 1511.93 728.059 1511.93 Z\" fill=\"#000000\" fill-rule=\"evenodd\" fill-opacity=\"1\" /><path clip-path=\"url(#clip510)\" d=\"M 0 0 M748.221 1541.24 L753.105 1541.24 L753.105 1547.12 L748.221 1547.12 L748.221 1541.24 Z\" fill=\"#000000\" fill-rule=\"evenodd\" fill-opacity=\"1\" /><path clip-path=\"url(#clip510)\" d=\"M 0 0 M763.336 1512.56 L781.693 1512.56 L781.693 1516.5 L767.619 1516.5 L767.619 1524.97 Q768.637 1524.62 769.656 1524.46 Q770.674 1524.27 771.693 1524.27 Q777.48 1524.27 780.859 1527.44 Q784.239 1530.62 784.239 1536.03 Q784.239 1541.61 780.767 1544.71 Q777.294 1547.79 770.975 1547.79 Q768.799 1547.79 766.531 1547.42 Q764.285 1547.05 761.878 1546.31 L761.878 1541.61 Q763.961 1542.74 766.183 1543.3 Q768.406 1543.86 770.882 1543.86 Q774.887 1543.86 777.225 1541.75 Q779.563 1539.64 779.563 1536.03 Q779.563 1532.42 777.225 1530.31 Q774.887 1528.21 770.882 1528.21 Q769.008 1528.21 767.133 1528.62 Q765.281 1529.04 763.336 1529.92 L763.336 1512.56 Z\" fill=\"#000000\" fill-rule=\"evenodd\" fill-opacity=\"1\" /><path clip-path=\"url(#clip510)\" d=\"M 0 0 M1228.36 1515.64 Q1224.75 1515.64 1222.92 1519.2 Q1221.11 1522.75 1221.11 1529.87 Q1221.11 1536.98 1222.92 1540.55 Q1224.75 1544.09 1228.36 1544.09 Q1231.99 1544.09 1233.8 1540.55 Q1235.63 1536.98 1235.63 1529.87 Q1235.63 1522.75 1233.8 1519.2 Q1231.99 1515.64 1228.36 1515.64 M1228.36 1511.93 Q1234.17 1511.93 1237.22 1516.54 Q1240.3 1521.12 1240.3 1529.87 Q1240.3 1538.6 1237.22 1543.21 Q1234.17 1547.79 1228.36 1547.79 Q1222.55 1547.79 1219.47 1543.21 Q1216.41 1538.6 1216.41 1529.87 Q1216.41 1521.12 1219.47 1516.54 Q1222.55 1511.93 1228.36 1511.93 Z\" fill=\"#000000\" fill-rule=\"evenodd\" fill-opacity=\"1\" /><path clip-path=\"url(#clip510)\" d=\"M 0 0 M1248.52 1541.24 L1253.4 1541.24 L1253.4 1547.12 L1248.52 1547.12 L1248.52 1541.24 Z\" fill=\"#000000\" fill-rule=\"evenodd\" fill-opacity=\"1\" /><path clip-path=\"url(#clip510)\" d=\"M 0 0 M1273.59 1515.64 Q1269.98 1515.64 1268.15 1519.2 Q1266.34 1522.75 1266.34 1529.87 Q1266.34 1536.98 1268.15 1540.55 Q1269.98 1544.09 1273.59 1544.09 Q1277.22 1544.09 1279.03 1540.55 Q1280.86 1536.98 1280.86 1529.87 Q1280.86 1522.75 1279.03 1519.2 Q1277.22 1515.64 1273.59 1515.64 M1273.59 1511.93 Q1279.4 1511.93 1282.45 1516.54 Q1285.53 1521.12 1285.53 1529.87 Q1285.53 1538.6 1282.45 1543.21 Q1279.4 1547.79 1273.59 1547.79 Q1267.78 1547.79 1264.7 1543.21 Q1261.64 1538.6 1261.64 1529.87 Q1261.64 1521.12 1264.7 1516.54 Q1267.78 1511.93 1273.59 1511.93 Z\" fill=\"#000000\" fill-rule=\"evenodd\" fill-opacity=\"1\" /><path clip-path=\"url(#clip510)\" d=\"M 0 0 M1748.56 1515.64 Q1744.95 1515.64 1743.12 1519.2 Q1741.32 1522.75 1741.32 1529.87 Q1741.32 1536.98 1743.12 1540.55 Q1744.95 1544.09 1748.56 1544.09 Q1752.2 1544.09 1754 1540.55 Q1755.83 1536.98 1755.83 1529.87 Q1755.83 1522.75 1754 1519.2 Q1752.2 1515.64 1748.56 1515.64 M1748.56 1511.93 Q1754.37 1511.93 1757.43 1516.54 Q1760.51 1521.12 1760.51 1529.87 Q1760.51 1538.6 1757.43 1543.21 Q1754.37 1547.79 1748.56 1547.79 Q1742.75 1547.79 1739.68 1543.21 Q1736.62 1538.6 1736.62 1529.87 Q1736.62 1521.12 1739.68 1516.54 Q1742.75 1511.93 1748.56 1511.93 Z\" fill=\"#000000\" fill-rule=\"evenodd\" fill-opacity=\"1\" /><path clip-path=\"url(#clip510)\" d=\"M 0 0 M1768.73 1541.24 L1773.61 1541.24 L1773.61 1547.12 L1768.73 1547.12 L1768.73 1541.24 Z\" fill=\"#000000\" fill-rule=\"evenodd\" fill-opacity=\"1\" /><path clip-path=\"url(#clip510)\" d=\"M 0 0 M1783.84 1512.56 L1802.2 1512.56 L1802.2 1516.5 L1788.12 1516.5 L1788.12 1524.97 Q1789.14 1524.62 1790.16 1524.46 Q1791.18 1524.27 1792.2 1524.27 Q1797.99 1524.27 1801.36 1527.44 Q1804.74 1530.62 1804.74 1536.03 Q1804.74 1541.61 1801.27 1544.71 Q1797.8 1547.79 1791.48 1547.79 Q1789.3 1547.79 1787.04 1547.42 Q1784.79 1547.05 1782.38 1546.31 L1782.38 1541.61 Q1784.47 1542.74 1786.69 1543.3 Q1788.91 1543.86 1791.39 1543.86 Q1795.39 1543.86 1797.73 1541.75 Q1800.07 1539.64 1800.07 1536.03 Q1800.07 1532.42 1797.73 1530.31 Q1795.39 1528.21 1791.39 1528.21 Q1789.51 1528.21 1787.64 1528.62 Q1785.79 1529.04 1783.84 1529.92 L1783.84 1512.56 Z\" fill=\"#000000\" fill-rule=\"evenodd\" fill-opacity=\"1\" /><path clip-path=\"url(#clip510)\" d=\"M 0 0 M2257.54 1543.18 L2265.18 1543.18 L2265.18 1516.82 L2256.87 1518.49 L2256.87 1514.23 L2265.14 1512.56 L2269.81 1512.56 L2269.81 1543.18 L2277.45 1543.18 L2277.45 1547.12 L2257.54 1547.12 L2257.54 1543.18 Z\" fill=\"#000000\" fill-rule=\"evenodd\" fill-opacity=\"1\" /><path clip-path=\"url(#clip510)\" d=\"M 0 0 M2286.9 1541.24 L2291.78 1541.24 L2291.78 1547.12 L2286.9 1547.12 L2286.9 1541.24 Z\" fill=\"#000000\" fill-rule=\"evenodd\" fill-opacity=\"1\" /><path clip-path=\"url(#clip510)\" d=\"M 0 0 M2311.96 1515.64 Q2308.35 1515.64 2306.53 1519.2 Q2304.72 1522.75 2304.72 1529.87 Q2304.72 1536.98 2306.53 1540.55 Q2308.35 1544.09 2311.96 1544.09 Q2315.6 1544.09 2317.4 1540.55 Q2319.23 1536.98 2319.23 1529.87 Q2319.23 1522.75 2317.4 1519.2 Q2315.6 1515.64 2311.96 1515.64 M2311.96 1511.93 Q2317.77 1511.93 2320.83 1516.54 Q2323.91 1521.12 2323.91 1529.87 Q2323.91 1538.6 2320.83 1543.21 Q2317.77 1547.79 2311.96 1547.79 Q2306.15 1547.79 2303.08 1543.21 Q2300.02 1538.6 2300.02 1529.87 Q2300.02 1521.12 2303.08 1516.54 Q2306.15 1511.93 2311.96 1511.93 Z\" fill=\"#000000\" fill-rule=\"evenodd\" fill-opacity=\"1\" /><polyline clip-path=\"url(#clip512)\" style=\"stroke:#000000; stroke-width:2; stroke-opacity:0.1; fill:none\" points=\"\n",
       "  149.191,1309.95 2352.76,1309.95 \n",
       "  \"/>\n",
       "<polyline clip-path=\"url(#clip512)\" style=\"stroke:#000000; stroke-width:2; stroke-opacity:0.1; fill:none\" points=\"\n",
       "  149.191,1038.4 2352.76,1038.4 \n",
       "  \"/>\n",
       "<polyline clip-path=\"url(#clip512)\" style=\"stroke:#000000; stroke-width:2; stroke-opacity:0.1; fill:none\" points=\"\n",
       "  149.191,766.85 2352.76,766.85 \n",
       "  \"/>\n",
       "<polyline clip-path=\"url(#clip512)\" style=\"stroke:#000000; stroke-width:2; stroke-opacity:0.1; fill:none\" points=\"\n",
       "  149.191,495.3 2352.76,495.3 \n",
       "  \"/>\n",
       "<polyline clip-path=\"url(#clip512)\" style=\"stroke:#000000; stroke-width:2; stroke-opacity:0.1; fill:none\" points=\"\n",
       "  149.191,223.751 2352.76,223.751 \n",
       "  \"/>\n",
       "<polyline clip-path=\"url(#clip510)\" style=\"stroke:#000000; stroke-width:4; stroke-opacity:1; fill:none\" points=\"\n",
       "  149.191,1486.45 149.191,47.2441 \n",
       "  \"/>\n",
       "<polyline clip-path=\"url(#clip510)\" style=\"stroke:#000000; stroke-width:4; stroke-opacity:1; fill:none\" points=\"\n",
       "  149.191,1309.95 175.634,1309.95 \n",
       "  \"/>\n",
       "<polyline clip-path=\"url(#clip510)\" style=\"stroke:#000000; stroke-width:4; stroke-opacity:1; fill:none\" points=\"\n",
       "  149.191,1038.4 175.634,1038.4 \n",
       "  \"/>\n",
       "<polyline clip-path=\"url(#clip510)\" style=\"stroke:#000000; stroke-width:4; stroke-opacity:1; fill:none\" points=\"\n",
       "  149.191,766.85 175.634,766.85 \n",
       "  \"/>\n",
       "<polyline clip-path=\"url(#clip510)\" style=\"stroke:#000000; stroke-width:4; stroke-opacity:1; fill:none\" points=\"\n",
       "  149.191,495.3 175.634,495.3 \n",
       "  \"/>\n",
       "<polyline clip-path=\"url(#clip510)\" style=\"stroke:#000000; stroke-width:4; stroke-opacity:1; fill:none\" points=\"\n",
       "  149.191,223.751 175.634,223.751 \n",
       "  \"/>\n",
       "<path clip-path=\"url(#clip510)\" d=\"M 0 0 M50.9921 1310.4 L80.6679 1310.4 L80.6679 1314.33 L50.9921 1314.33 L50.9921 1310.4 Z\" fill=\"#000000\" fill-rule=\"evenodd\" fill-opacity=\"1\" /><path clip-path=\"url(#clip510)\" d=\"M 0 0 M103.608 1296.74 L91.8021 1315.19 L103.608 1315.19 L103.608 1296.74 M102.381 1292.67 L108.26 1292.67 L108.26 1315.19 L113.191 1315.19 L113.191 1319.08 L108.26 1319.08 L108.26 1327.23 L103.608 1327.23 L103.608 1319.08 L88.0058 1319.08 L88.0058 1314.57 L102.381 1292.67 Z\" fill=\"#000000\" fill-rule=\"evenodd\" fill-opacity=\"1\" /><path clip-path=\"url(#clip510)\" d=\"M 0 0 M53.0754 1038.85 L82.7512 1038.85 L82.7512 1042.79 L53.0754 1042.79 L53.0754 1038.85 Z\" fill=\"#000000\" fill-rule=\"evenodd\" fill-opacity=\"1\" /><path clip-path=\"url(#clip510)\" d=\"M 0 0 M96.8715 1051.74 L113.191 1051.74 L113.191 1055.68 L91.2465 1055.68 L91.2465 1051.74 Q93.9086 1048.99 98.4919 1044.36 Q103.098 1039.71 104.279 1038.36 Q106.524 1035.84 107.404 1034.1 Q108.307 1032.35 108.307 1030.66 Q108.307 1027.9 106.362 1026.17 Q104.441 1024.43 101.339 1024.43 Q99.14 1024.43 96.6863 1025.19 Q94.2558 1025.96 91.478 1027.51 L91.478 1022.79 Q94.3021 1021.65 96.7558 1021.07 Q99.2095 1020.49 101.246 1020.49 Q106.617 1020.49 109.811 1023.18 Q113.006 1025.86 113.006 1030.35 Q113.006 1032.48 112.196 1034.41 Q111.408 1036.3 109.302 1038.9 Q108.723 1039.57 105.621 1042.79 Q102.52 1045.98 96.8715 1051.74 Z\" fill=\"#000000\" fill-rule=\"evenodd\" fill-opacity=\"1\" /><path clip-path=\"url(#clip510)\" d=\"M 0 0 M101.246 752.648 Q97.6354 752.648 95.8067 756.213 Q94.0012 759.755 94.0012 766.884 Q94.0012 773.991 95.8067 777.556 Q97.6354 781.097 101.246 781.097 Q104.881 781.097 106.686 777.556 Q108.515 773.991 108.515 766.884 Q108.515 759.755 106.686 756.213 Q104.881 752.648 101.246 752.648 M101.246 748.945 Q107.057 748.945 110.112 753.551 Q113.191 758.134 113.191 766.884 Q113.191 775.611 110.112 780.218 Q107.057 784.801 101.246 784.801 Q95.4363 784.801 92.3576 780.218 Q89.3021 775.611 89.3021 766.884 Q89.3021 758.134 92.3576 753.551 Q95.4363 748.945 101.246 748.945 Z\" fill=\"#000000\" fill-rule=\"evenodd\" fill-opacity=\"1\" /><path clip-path=\"url(#clip510)\" d=\"M 0 0 M96.8715 508.645 L113.191 508.645 L113.191 512.58 L91.2465 512.58 L91.2465 508.645 Q93.9086 505.89 98.4919 501.261 Q103.098 496.608 104.279 495.265 Q106.524 492.742 107.404 491.006 Q108.307 489.247 108.307 487.557 Q108.307 484.803 106.362 483.066 Q104.441 481.33 101.339 481.33 Q99.14 481.33 96.6863 482.094 Q94.2558 482.858 91.478 484.409 L91.478 479.687 Q94.3021 478.553 96.7558 477.974 Q99.2095 477.395 101.246 477.395 Q106.617 477.395 109.811 480.08 Q113.006 482.766 113.006 487.256 Q113.006 489.386 112.196 491.307 Q111.408 493.205 109.302 495.798 Q108.723 496.469 105.621 499.687 Q102.52 502.881 96.8715 508.645 Z\" fill=\"#000000\" fill-rule=\"evenodd\" fill-opacity=\"1\" /><path clip-path=\"url(#clip510)\" d=\"M 0 0 M103.608 210.545 L91.8021 228.994 L103.608 228.994 L103.608 210.545 M102.381 206.471 L108.26 206.471 L108.26 228.994 L113.191 228.994 L113.191 232.883 L108.26 232.883 L108.26 241.031 L103.608 241.031 L103.608 232.883 L88.0058 232.883 L88.0058 228.369 L102.381 206.471 Z\" fill=\"#000000\" fill-rule=\"evenodd\" fill-opacity=\"1\" /><polyline clip-path=\"url(#clip512)\" style=\"stroke:#009af9; stroke-width:4; stroke-opacity:1; fill:none\" points=\"\n",
       "  211.556,106.67 216.631,152.605 221.707,215.169 226.782,279.739 231.857,331.223 234.791,350.076 237.724,358.938 240.657,357.105 243.59,344.725 249.456,292.992 \n",
       "  255.322,219.784 258.255,182.15 261.188,147.807 264.121,119.471 267.054,99.3833 269.987,89.1334 272.921,89.5319 275.854,100.547 278.787,121.308 284.653,184.857 \n",
       "  290.519,260.469 293.452,295.415 296.385,324.692 299.318,345.985 302.251,357.609 305.184,358.645 308.117,349.01 311.051,329.467 313.984,301.562 319.85,229.981 \n",
       "  325.716,156.468 328.649,126.291 331.582,103.822 334.515,90.8407 337.448,88.3723 340.381,96.6125 343.314,114.91 346.247,141.816 349.181,175.204 355.047,250.555 \n",
       "  360.913,317.592 363.846,341.204 366.779,355.525 369.712,359.423 372.645,352.589 375.578,335.563 378.511,309.694 381.444,277.025 384.377,240.143 390.244,165.509 \n",
       "  396.11,108.938 399.043,93.2977 401.976,87.9763 404.909,93.3948 407.842,109.125 413.708,165.824 419.574,240.489 423.1,284.363 426.625,321.331 430.15,347.182 \n",
       "  433.676,358.969 437.201,355.351 440.726,336.739 444.252,305.255 447.777,264.484 451.302,219.072 454.828,174.194 458.353,134.961 461.878,105.845 465.403,90.162 \n",
       "  468.929,89.6992 472.454,104.509 475.979,132.905 483.03,216.332 490.081,303.045 493.606,335.196 497.131,354.649 500.657,359.19 504.182,348.299 507.707,323.218 \n",
       "  511.233,286.805 514.758,243.207 518.283,197.393 521.808,154.582 525.334,119.652 528.859,96.5816 532.384,88.0001 535.365,92.8222 538.346,108.337 541.326,133.277 \n",
       "  544.307,165.607 550.268,241.482 556.229,311.684 559.21,337.354 562.19,353.747 565.171,359.523 568.152,354.211 571.132,338.244 574.113,312.927 577.094,280.327 \n",
       "  580.074,243.107 586.035,167.093 591.997,109.209 594.977,93.266 597.958,87.9792 600.938,93.7807 603.919,110.197 609.88,168.751 615.841,244.906 618.822,281.976 \n",
       "  621.803,314.291 624.783,339.212 627.764,354.703 631.002,359.393 634.239,351.027 637.477,330.411 640.715,299.529 647.191,219.558 653.666,141.163 656.904,112.108 \n",
       "  660.142,93.7987 663.379,87.9971 666.617,95.2618 669.855,114.894 673.093,145.003 676.33,182.691 679.568,224.332 682.806,265.917 686.044,303.443 689.282,333.299 \n",
       "  692.519,352.611 695.757,359.52 698.995,353.362 702.233,334.728 705.47,305.413 711.946,226.781 718.422,147.011 721.659,116.375 724.897,96.0743 728.135,88.0623 \n",
       "  731.373,93.1102 734.358,108.936 737.343,134.165 740.328,166.732 743.312,203.968 749.282,280.12 755.252,338.183 758.237,354.195 761.222,359.523 764.207,353.731 \n",
       "  767.192,337.293 773.162,278.627 779.132,202.35 782.117,165.25 785.102,132.941 788.087,108.07 791.072,92.6737 794.056,88.0132 797.041,94.4701 800.026,111.516 \n",
       "  803.011,137.754 808.981,208.634 814.951,284.366 817.936,316.296 820.921,340.646 823.906,355.422 826.891,359.413 830.091,351.36 833.291,331.307 836.491,301.138 \n",
       "  839.692,263.691 842.892,222.489 846.092,181.405 849.292,144.303 852.492,114.673 855.692,95.3011 858.893,88.0093 862.093,93.4833 865.293,111.208 868.493,139.517 \n",
       "  871.693,175.748 874.893,216.493 878.094,257.921 881.294,296.135 884.494,327.542 887.694,349.188 890.894,359.037 894.095,356.163 897.295,340.837 900.495,314.499 \n",
       "  903.695,279.627 906.895,239.5 910.095,197.892 913.296,158.716 916.496,125.656 919.696,101.821 922.896,89.4534 926.096,89.7154 929.296,102.583 933.004,131.603 \n",
       "  936.712,172.224 940.42,219.332 944.127,266.997 947.835,309.217 951.543,340.677 955.25,357.416 958.958,357.327 962.666,340.42 966.374,308.825 970.081,266.519 \n",
       "  973.789,218.829 977.497,171.758 981.204,131.233 984.912,102.356 988.62,88.7628 992.328,92.1641 996.035,112.132 999.743,146.153 1003.45,189.943 1007.16,237.99 \n",
       "  1010.87,284.244 1014.57,322.882 1018.28,349.039 1021.99,359.423 1025.7,352.726 1029.4,329.791 1033.11,293.505 1036.82,248.438 1040.53,200.263 1044.24,155.044 \n",
       "  1047.94,118.476 1049.59,106.262 1051.24,96.9935 1052.89,90.9027 1054.53,88.1425 1057.83,92.8051 1061.12,110.517 1067.71,176.903 1074.3,261.497 1077.6,300.272 \n",
       "  1080.89,331.421 1084.19,351.84 1087.48,359.495 1090.78,353.623 1094.07,334.809 1097.37,304.928 1100.66,266.957 1107.25,182.312 1113.84,113.773 1117.14,94.433 \n",
       "  1120.43,87.9798 1123.73,95.0565 1127.02,114.958 1133.61,184.221 1140.2,268.849 1143.5,306.523 1146.79,335.948 1150.09,354.193 1153.38,359.439 1156.27,352.896 \n",
       "  1159.16,336.438 1162.05,311.328 1164.94,279.494 1170.72,205.76 1176.5,137.444 1179.39,111.995 1182.28,95.1258 1185.17,88.1324 1188.06,91.5516 1190.94,105.121 \n",
       "  1193.83,127.798 1196.72,157.842 1199.61,192.947 1205.39,267.375 1211.17,328.662 1214.06,348.286 1216.95,358.349 1219.84,358.077 1222.73,347.492 1228.51,299.362 \n",
       "  1234.29,228.457 1240.06,156.134 1245.84,104.179 1248.99,90.4313 1252.14,88.8363 1255.29,99.5393 1258.44,121.565 1264.74,190.703 1271.05,271.616 1274.2,307.356 \n",
       "  1277.35,335.475 1280.5,353.409 1283.65,359.525 1286.8,353.265 1289.95,335.199 1293.1,306.974 1296.25,271.162 1302.55,190.233 1308.85,121.246 1312,99.3445 \n",
       "  1315.15,88.7827 1318.3,90.5238 1321.45,104.409 1327.75,162.558 1334.05,242.51 1337.2,281.789 1340.35,315.778 1343.5,341.378 1346.65,356.256 1349.82,359.035 \n",
       "  1352.99,349.337 1356.16,328.055 1359.33,297.153 1365.66,218.514 1372,141.762 1375.17,113.057 1378.34,94.5607 1381.51,87.9803 1384.68,93.9223 1387.85,111.839 \n",
       "  1391.02,140.077 1394.18,176.033 1397.35,216.39 1400.52,257.425 1403.69,295.355 1406.86,326.681 1410.03,348.513 1413.2,358.838 1416.37,356.704 1419.54,342.307 \n",
       "  1422.71,316.975 1429.04,243.647 1435.38,163.147 1438.55,129.471 1441.72,104.49 1444.89,90.5095 1448.06,88.8178 1451.56,101.403 1455.06,127.759 1458.57,164.919 \n",
       "  1462.07,208.701 1465.58,254.176 1469.08,296.227 1472.58,330.121 1476.09,352.043 1479.59,359.525 1483.09,351.727 1486.6,329.525 1490.1,295.421 1497.11,207.771 \n",
       "  1504.12,127.159 1507.62,101.124 1511.12,88.9458 1512.87,88.5581 1514.63,92.03 1516.38,99.2707 1518.13,110.084 1521.63,141.159 1525.14,181.882 1528.64,227.849 \n",
       "  1532.15,274.146 1535.65,315.922 1539.15,348.971 1542.66,370.235 1546.16,378.191 1549.66,373.064 1553.17,356.841 1556.67,333.09 1560.17,306.594 1563.51,283.847 \n",
       "  1566.84,268.415 1570.18,264.731 1573.51,276.375 1575.18,288.736 1576.84,305.699 1578.51,327.321 1580.18,353.561 1581.84,384.273 1583.51,419.214 1585.18,458.045 \n",
       "  1586.84,500.341 1593.51,693.212 1600.18,892.804 1603.51,981.914 1606.85,1058.01 1608.51,1090.18 1610.18,1118.1 1611.85,1141.63 1613.51,1160.73 1616.85,1185.99 \n",
       "  1620.18,1195.53 1623.51,1192.35 1626.85,1180.41 1633.51,1148.54 1640.18,1134.5 1643.52,1141.86 1646.85,1160.47 1650.18,1189.78 1653.52,1227.89 1660.18,1317.74 \n",
       "  1666.85,1399.07 1670.32,1427.73 1673.78,1442.93 1675.52,1444.94 1677.25,1443.15 1678.98,1437.6 1680.72,1428.48 1684.18,1400.62 1687.65,1362.69 1691.12,1318.89 \n",
       "  1694.58,1274.08 1698.05,1233.21 1701.51,1200.78 1704.98,1180.37 1708.45,1174.23 1711.91,1183.05 1715.38,1205.85 1718.84,1240.11 1722.31,1282.08 1725.78,1327.11 \n",
       "  1729.24,1370.25 1732.71,1406.75 1736.18,1432.58 1737.91,1440.55 1739.64,1444.9 1741.38,1445.51 1743.11,1442.35 1746.57,1425.21 1750.04,1395.38 1756.97,1311.79 \n",
       "  1763.91,1227.41 1767.37,1196.67 1770.84,1178.41 1772.57,1174.65 1774.3,1174.64 1776.04,1178.39 1777.77,1185.78 1783.61,1234.09 1789.44,1305.68 1795.28,1378.59 \n",
       "  1801.11,1430.42 1804.03,1443.05 1806.95,1445.27 1809.87,1436.88 1812.78,1418.57 1818.62,1358.52 1824.46,1283.56 1827.37,1247.69 1830.29,1216.7 1833.21,1193.01 \n",
       "  1836.13,1178.47 1839.05,1174.23 1841.96,1180.61 1844.88,1197.11 1847.8,1222.45 1853.63,1291.16 1859.47,1365.64 1862.39,1397.76 1865.31,1423.01 1868.22,1439.41 \n",
       "  1871.14,1445.68 1874.7,1438.94 1878.27,1417.2 1881.83,1382.98 1885.39,1340.27 1888.95,1294.03 1892.52,1249.64 1896.08,1212.27 1899.64,1186.26 1903.2,1174.63 \n",
       "  1906.76,1178.75 1910.33,1198.12 1913.89,1230.51 1921.01,1318.15 1928.14,1402.09 1931.7,1430.24 1935.26,1444.4 1938.83,1442.93 1942.39,1425.98 1945.95,1395.54 \n",
       "  1949.51,1355.14 1953.08,1309.49 1956.64,1263.89 1960.2,1223.65 1963.76,1193.44 1967.32,1176.79 1970.89,1175.62 1974.45,1190.08 1978.01,1218.48 1981.57,1257.52 \n",
       "  1985.14,1302.66 1988.48,1345.96 1991.83,1385.56 1995.18,1417.38 1998.53,1438.14 2001.88,1445.71 2005.23,1439.31 2008.58,1419.6 2011.93,1388.61 2015.27,1349.52 \n",
       "  2018.62,1306.36 2021.97,1263.57 2025.32,1225.55 2028.67,1196.22 2032.02,1178.59 2035.37,1174.47 2038.72,1184.3 2042.06,1207.05 2045.41,1240.4 2048.76,1280.9 \n",
       "  2052.11,1324.38 2055.46,1366.39 2058.81,1402.58 2062.16,1429.25 2065.5,1443.64 2068.85,1444.27 2072.2,1431.08 2075.55,1405.42 2078.9,1369.94 2085.6,1284.75 \n",
       "  2092.29,1209.67 2094.98,1189.63 2097.66,1177.56 2100.34,1174.25 2103.02,1179.94 2105.71,1194.24 2108.39,1216.2 2111.07,1244.37 2113.75,1276.88 2119.12,1346.18 \n",
       "  2124.48,1406.04 2127.17,1427.34 2129.85,1440.86 2132.53,1445.72 2135.21,1441.58 2137.9,1428.72 2140.58,1408 2143.26,1380.78 2145.94,1348.87 2151.31,1279.61 \n",
       "  2156.67,1218.25 2159.36,1195.73 2162.04,1180.78 2164.72,1174.38 2167.4,1176.96 2170.09,1188.35 2172.77,1207.8 2175.45,1234.01 2178.13,1265.25 2183.5,1334.34 \n",
       "  2188.86,1397.08 2191.54,1420.77 2194.23,1437.12 2196.91,1445.05 2199.59,1444.03 2202.27,1434.12 2204.96,1416 2207.64,1390.85 2210.32,1360.34 2215.69,1291.55 \n",
       "  2221.05,1227.56 2223.73,1202.74 2226.42,1185.03 2229.1,1175.59 2231.78,1175.05 2234.46,1183.44 2237.15,1200.21 2239.83,1224.25 2242.51,1253.97 2247.88,1322.31 \n",
       "  2253.24,1387.43 2255.92,1413.32 2258.61,1432.36 2261.29,1443.3 2263.97,1445.4 2267.27,1435.71 2270.58,1413.42 2273.88,1380.78 2277.18,1341.04 2280.48,1298.2 \n",
       "  2283.79,1256.53 2287.09,1220.21 2290.39,1192.87 \n",
       "  \"/>\n",
       "<path clip-path=\"url(#clip510)\" d=\"\n",
       "M1419.33 216.178 L2279.3 216.178 L2279.3 95.2176 L1419.33 95.2176  Z\n",
       "  \" fill=\"#ffffff\" fill-rule=\"evenodd\" fill-opacity=\"1\"/>\n",
       "<polyline clip-path=\"url(#clip510)\" style=\"stroke:#000000; stroke-width:4; stroke-opacity:1; fill:none\" points=\"\n",
       "  1419.33,216.178 2279.3,216.178 2279.3,95.2176 1419.33,95.2176 1419.33,216.178 \n",
       "  \"/>\n",
       "<polyline clip-path=\"url(#clip510)\" style=\"stroke:#009af9; stroke-width:4; stroke-opacity:1; fill:none\" points=\"\n",
       "  1443.81,155.698 1590.72,155.698 \n",
       "  \"/>\n",
       "<path clip-path=\"url(#clip510)\" d=\"M 0 0 M1635.71 148.047 L1635.71 152.029 Q1633.9 151.033 1632.07 150.547 Q1630.27 150.038 1628.42 150.038 Q1624.27 150.038 1621.98 152.677 Q1619.69 155.292 1619.69 160.038 Q1619.69 164.783 1621.98 167.422 Q1624.27 170.038 1628.42 170.038 Q1630.27 170.038 1632.07 169.552 Q1633.9 169.042 1635.71 168.047 L1635.71 171.982 Q1633.93 172.816 1632.01 173.232 Q1630.11 173.649 1627.95 173.649 Q1622.1 173.649 1618.65 169.968 Q1615.2 166.288 1615.2 160.038 Q1615.2 153.695 1618.67 150.061 Q1622.17 146.427 1628.23 146.427 Q1630.2 146.427 1632.07 146.843 Q1633.95 147.237 1635.71 148.047 Z\" fill=\"#000000\" fill-rule=\"evenodd\" fill-opacity=\"1\" /><path clip-path=\"url(#clip510)\" d=\"M 0 0 M1653.16 150.038 Q1649.74 150.038 1647.75 152.723 Q1645.76 155.385 1645.76 160.038 Q1645.76 164.691 1647.72 167.376 Q1649.71 170.038 1653.16 170.038 Q1656.57 170.038 1658.56 167.353 Q1660.55 164.667 1660.55 160.038 Q1660.55 155.431 1658.56 152.746 Q1656.57 150.038 1653.16 150.038 M1653.16 146.427 Q1658.72 146.427 1661.89 150.038 Q1665.06 153.649 1665.06 160.038 Q1665.06 166.404 1661.89 170.038 Q1658.72 173.649 1653.16 173.649 Q1647.58 173.649 1644.41 170.038 Q1641.26 166.404 1641.26 160.038 Q1641.26 153.649 1644.41 150.038 Q1647.58 146.427 1653.16 146.427 Z\" fill=\"#000000\" fill-rule=\"evenodd\" fill-opacity=\"1\" /><path clip-path=\"url(#clip510)\" d=\"M 0 0 M1688.65 147.816 L1688.65 151.843 Q1686.84 150.917 1684.9 150.455 Q1682.95 149.992 1680.87 149.992 Q1677.7 149.992 1676.1 150.964 Q1674.53 151.936 1674.53 153.88 Q1674.53 155.362 1675.66 156.218 Q1676.8 157.052 1680.22 157.816 L1681.68 158.14 Q1686.22 159.112 1688.12 160.894 Q1690.04 162.654 1690.04 165.825 Q1690.04 169.436 1687.17 171.542 Q1684.32 173.649 1679.32 173.649 Q1677.24 173.649 1674.97 173.232 Q1672.72 172.839 1670.22 172.028 L1670.22 167.63 Q1672.58 168.857 1674.88 169.482 Q1677.17 170.084 1679.41 170.084 Q1682.42 170.084 1684.04 169.066 Q1685.66 168.024 1685.66 166.149 Q1685.66 164.413 1684.48 163.487 Q1683.32 162.561 1679.37 161.704 L1677.88 161.357 Q1673.93 160.524 1672.17 158.811 Q1670.41 157.075 1670.41 154.066 Q1670.41 150.408 1673 148.418 Q1675.59 146.427 1680.36 146.427 Q1682.72 146.427 1684.81 146.774 Q1686.89 147.121 1688.65 147.816 Z\" fill=\"#000000\" fill-rule=\"evenodd\" fill-opacity=\"1\" /><path clip-path=\"url(#clip510)\" d=\"M 0 0 M1707.05 137.006 Q1703.95 142.33 1702.44 147.538 Q1700.94 152.746 1700.94 158.093 Q1700.94 163.441 1702.44 168.695 Q1703.97 173.927 1707.05 179.228 L1703.35 179.228 Q1699.88 173.788 1698.14 168.533 Q1696.43 163.279 1696.43 158.093 Q1696.43 152.931 1698.14 147.7 Q1699.85 142.468 1703.35 137.006 L1707.05 137.006 Z\" fill=\"#000000\" fill-rule=\"evenodd\" fill-opacity=\"1\" /><path clip-path=\"url(#clip510)\" d=\"M 0 0 M1716.73 169.042 L1724.37 169.042 L1724.37 142.677 L1716.06 144.343 L1716.06 140.084 L1724.32 138.418 L1729 138.418 L1729 169.042 L1736.63 169.042 L1736.63 172.978 L1716.73 172.978 L1716.73 169.042 Z\" fill=\"#000000\" fill-rule=\"evenodd\" fill-opacity=\"1\" /><path clip-path=\"url(#clip510)\" d=\"M 0 0 M1756.08 141.496 Q1752.47 141.496 1750.64 145.061 Q1748.83 148.603 1748.83 155.732 Q1748.83 162.839 1750.64 166.404 Q1752.47 169.945 1756.08 169.945 Q1759.71 169.945 1761.52 166.404 Q1763.35 162.839 1763.35 155.732 Q1763.35 148.603 1761.52 145.061 Q1759.71 141.496 1756.08 141.496 M1756.08 137.793 Q1761.89 137.793 1764.94 142.399 Q1768.02 146.982 1768.02 155.732 Q1768.02 164.459 1764.94 169.066 Q1761.89 173.649 1756.08 173.649 Q1750.27 173.649 1747.19 169.066 Q1744.13 164.459 1744.13 155.732 Q1744.13 146.982 1747.19 142.399 Q1750.27 137.793 1756.08 137.793 Z\" fill=\"#000000\" fill-rule=\"evenodd\" fill-opacity=\"1\" /><path clip-path=\"url(#clip510)\" d=\"M 0 0 M1786.24 141.496 Q1782.63 141.496 1780.8 145.061 Q1779 148.603 1779 155.732 Q1779 162.839 1780.8 166.404 Q1782.63 169.945 1786.24 169.945 Q1789.88 169.945 1791.68 166.404 Q1793.51 162.839 1793.51 155.732 Q1793.51 148.603 1791.68 145.061 Q1789.88 141.496 1786.24 141.496 M1786.24 137.793 Q1792.05 137.793 1795.11 142.399 Q1798.19 146.982 1798.19 155.732 Q1798.19 164.459 1795.11 169.066 Q1792.05 173.649 1786.24 173.649 Q1780.43 173.649 1777.35 169.066 Q1774.3 164.459 1774.3 155.732 Q1774.3 146.982 1777.35 142.399 Q1780.43 137.793 1786.24 137.793 Z\" fill=\"#000000\" fill-rule=\"evenodd\" fill-opacity=\"1\" /><path clip-path=\"url(#clip510)\" d=\"M 0 0 M1823.62 144.112 L1815.31 148.603 L1823.62 153.117 L1822.28 155.385 L1814.5 150.686 L1814.5 159.413 L1811.87 159.413 L1811.87 150.686 L1804.09 155.385 L1802.75 153.117 L1811.06 148.603 L1802.75 144.112 L1804.09 141.82 L1811.87 146.519 L1811.87 137.793 L1814.5 137.793 L1814.5 146.519 L1822.28 141.82 L1823.62 144.112 Z\" fill=\"#000000\" fill-rule=\"evenodd\" fill-opacity=\"1\" /><path clip-path=\"url(#clip510)\" d=\"M 0 0 M1851.06 147.052 L1841.68 159.667 L1851.54 172.978 L1846.52 172.978 L1838.97 162.792 L1831.43 172.978 L1826.4 172.978 L1836.47 159.413 L1827.26 147.052 L1832.28 147.052 L1839.16 156.288 L1846.03 147.052 L1851.06 147.052 Z\" fill=\"#000000\" fill-rule=\"evenodd\" fill-opacity=\"1\" /><path clip-path=\"url(#clip510)\" d=\"M 0 0 M1856.89 137.006 L1860.59 137.006 Q1864.06 142.468 1865.78 147.7 Q1867.51 152.931 1867.51 158.093 Q1867.51 163.279 1865.78 168.533 Q1864.06 173.788 1860.59 179.228 L1856.89 179.228 Q1859.97 173.927 1861.47 168.695 Q1863 163.441 1863 158.093 Q1863 152.746 1861.47 147.538 Q1859.97 142.33 1856.89 137.006 Z\" fill=\"#000000\" fill-rule=\"evenodd\" fill-opacity=\"1\" /><path clip-path=\"url(#clip510)\" d=\"M 0 0 M1873.9 158.093 L1886.38 158.093 L1886.38 161.89 L1873.9 161.89 L1873.9 158.093 Z\" fill=\"#000000\" fill-rule=\"evenodd\" fill-opacity=\"1\" /><path clip-path=\"url(#clip510)\" d=\"M 0 0 M1906.61 142.492 L1894.81 160.941 L1906.61 160.941 L1906.61 142.492 M1905.38 138.418 L1911.26 138.418 L1911.26 160.941 L1916.19 160.941 L1916.19 164.829 L1911.26 164.829 L1911.26 172.978 L1906.61 172.978 L1906.61 164.829 L1891.01 164.829 L1891.01 160.316 L1905.38 138.418 Z\" fill=\"#000000\" fill-rule=\"evenodd\" fill-opacity=\"1\" /><path clip-path=\"url(#clip510)\" d=\"M 0 0 M1941.15 144.112 L1932.84 148.603 L1941.15 153.117 L1939.8 155.385 L1932.03 150.686 L1932.03 159.413 L1929.39 159.413 L1929.39 150.686 L1921.61 155.385 L1920.27 153.117 L1928.58 148.603 L1920.27 144.112 L1921.61 141.82 L1929.39 146.519 L1929.39 137.793 L1932.03 137.793 L1932.03 146.519 L1939.8 141.82 L1941.15 144.112 Z\" fill=\"#000000\" fill-rule=\"evenodd\" fill-opacity=\"1\" /><path clip-path=\"url(#clip510)\" d=\"M 0 0 M1969.2 158.95 L1969.2 161.033 L1949.62 161.033 Q1949.9 165.431 1952.26 167.746 Q1954.64 170.038 1958.88 170.038 Q1961.33 170.038 1963.62 169.436 Q1965.94 168.834 1968.21 167.63 L1968.21 171.658 Q1965.92 172.63 1963.51 173.14 Q1961.1 173.649 1958.62 173.649 Q1952.42 173.649 1948.79 170.038 Q1945.18 166.427 1945.18 160.269 Q1945.18 153.904 1948.6 150.177 Q1952.05 146.427 1957.88 146.427 Q1963.11 146.427 1966.15 149.806 Q1969.2 153.163 1969.2 158.95 M1964.94 157.7 Q1964.9 154.205 1962.98 152.121 Q1961.08 150.038 1957.93 150.038 Q1954.36 150.038 1952.21 152.052 Q1950.08 154.066 1949.76 157.723 L1964.94 157.7 Z\" fill=\"#000000\" fill-rule=\"evenodd\" fill-opacity=\"1\" /><path clip-path=\"url(#clip510)\" d=\"M 0 0 M1991.22 151.033 Q1990.5 150.617 1989.64 150.431 Q1988.81 150.223 1987.79 150.223 Q1984.18 150.223 1982.24 152.584 Q1980.31 154.922 1980.31 159.32 L1980.31 172.978 L1976.03 172.978 L1976.03 147.052 L1980.31 147.052 L1980.31 151.08 Q1981.66 148.718 1983.81 147.584 Q1985.96 146.427 1989.04 146.427 Q1989.48 146.427 1990.01 146.496 Q1990.55 146.543 1991.19 146.658 L1991.22 151.033 Z\" fill=\"#000000\" fill-rule=\"evenodd\" fill-opacity=\"1\" /><path clip-path=\"url(#clip510)\" d=\"M 0 0 M2008.81 136.959 L2008.81 140.501 L2004.73 140.501 Q2002.44 140.501 2001.54 141.427 Q2000.66 142.353 2000.66 144.76 L2000.66 147.052 L2007.67 147.052 L2007.67 150.362 L2000.66 150.362 L2000.66 172.978 L1996.38 172.978 L1996.38 150.362 L1992.3 150.362 L1992.3 147.052 L1996.38 147.052 L1996.38 145.246 Q1996.38 140.918 1998.39 138.95 Q2000.41 136.959 2004.78 136.959 L2008.81 136.959 Z\" fill=\"#000000\" fill-rule=\"evenodd\" fill-opacity=\"1\" /><path clip-path=\"url(#clip510)\" d=\"M 0 0 M2022.61 137.006 Q2019.5 142.33 2018 147.538 Q2016.49 152.746 2016.49 158.093 Q2016.49 163.441 2018 168.695 Q2019.53 173.927 2022.61 179.228 L2018.9 179.228 Q2015.43 173.788 2013.69 168.533 Q2011.98 163.279 2011.98 158.093 Q2011.98 152.931 2013.69 147.7 Q2015.41 142.468 2018.9 137.006 L2022.61 137.006 Z\" fill=\"#000000\" fill-rule=\"evenodd\" fill-opacity=\"1\" /><path clip-path=\"url(#clip510)\" d=\"M 0 0 M2045.64 154.343 Q2048.99 155.061 2050.87 157.329 Q2052.77 159.598 2052.77 162.931 Q2052.77 168.047 2049.25 170.848 Q2045.73 173.649 2039.25 173.649 Q2037.07 173.649 2034.76 173.209 Q2032.47 172.792 2030.01 171.936 L2030.01 167.422 Q2031.96 168.556 2034.27 169.135 Q2036.59 169.714 2039.11 169.714 Q2043.51 169.714 2045.8 167.978 Q2048.11 166.241 2048.11 162.931 Q2048.11 159.876 2045.96 158.163 Q2043.83 156.427 2040.01 156.427 L2035.98 156.427 L2035.98 152.584 L2040.2 152.584 Q2043.65 152.584 2045.48 151.218 Q2047.3 149.83 2047.3 147.237 Q2047.3 144.575 2045.41 143.163 Q2043.53 141.728 2040.01 141.728 Q2038.09 141.728 2035.89 142.144 Q2033.69 142.561 2031.05 143.441 L2031.05 139.274 Q2033.72 138.533 2036.03 138.163 Q2038.37 137.793 2040.43 137.793 Q2045.75 137.793 2048.86 140.223 Q2051.96 142.63 2051.96 146.751 Q2051.96 149.621 2050.31 151.612 Q2048.67 153.58 2045.64 154.343 Z\" fill=\"#000000\" fill-rule=\"evenodd\" fill-opacity=\"1\" /><path clip-path=\"url(#clip510)\" d=\"M 0 0 M2071.63 141.496 Q2068.02 141.496 2066.19 145.061 Q2064.39 148.603 2064.39 155.732 Q2064.39 162.839 2066.19 166.404 Q2068.02 169.945 2071.63 169.945 Q2075.27 169.945 2077.07 166.404 Q2078.9 162.839 2078.9 155.732 Q2078.9 148.603 2077.07 145.061 Q2075.27 141.496 2071.63 141.496 M2071.63 137.793 Q2077.44 137.793 2080.5 142.399 Q2083.58 146.982 2083.58 155.732 Q2083.58 164.459 2080.5 169.066 Q2077.44 173.649 2071.63 173.649 Q2065.82 173.649 2062.74 169.066 Q2059.69 164.459 2059.69 155.732 Q2059.69 146.982 2062.74 142.399 Q2065.82 137.793 2071.63 137.793 Z\" fill=\"#000000\" fill-rule=\"evenodd\" fill-opacity=\"1\" /><path clip-path=\"url(#clip510)\" d=\"M 0 0 M2109.02 144.112 L2100.71 148.603 L2109.02 153.117 L2107.67 155.385 L2099.9 150.686 L2099.9 159.413 L2097.26 159.413 L2097.26 150.686 L2089.48 155.385 L2088.14 153.117 L2096.45 148.603 L2088.14 144.112 L2089.48 141.82 L2097.26 146.519 L2097.26 137.793 L2099.9 137.793 L2099.9 146.519 L2107.67 141.82 L2109.02 144.112 Z\" fill=\"#000000\" fill-rule=\"evenodd\" fill-opacity=\"1\" /><path clip-path=\"url(#clip510)\" d=\"M 0 0 M2136.45 147.052 L2127.07 159.667 L2136.93 172.978 L2131.91 172.978 L2124.36 162.792 L2116.82 172.978 L2111.79 172.978 L2121.86 159.413 L2112.65 147.052 L2117.67 147.052 L2124.55 156.288 L2131.42 147.052 L2136.45 147.052 Z\" fill=\"#000000\" fill-rule=\"evenodd\" fill-opacity=\"1\" /><path clip-path=\"url(#clip510)\" d=\"M 0 0 M2140.8 158.093 L2153.28 158.093 L2153.28 161.89 L2140.8 161.89 L2140.8 158.093 Z\" fill=\"#000000\" fill-rule=\"evenodd\" fill-opacity=\"1\" /><path clip-path=\"url(#clip510)\" d=\"M 0 0 M2161.47 169.042 L2169.11 169.042 L2169.11 142.677 L2160.8 144.343 L2160.8 140.084 L2169.06 138.418 L2173.74 138.418 L2173.74 169.042 L2181.38 169.042 L2181.38 172.978 L2161.47 172.978 L2161.47 169.042 Z\" fill=\"#000000\" fill-rule=\"evenodd\" fill-opacity=\"1\" /><path clip-path=\"url(#clip510)\" d=\"M 0 0 M2200.82 141.496 Q2197.21 141.496 2195.38 145.061 Q2193.58 148.603 2193.58 155.732 Q2193.58 162.839 2195.38 166.404 Q2197.21 169.945 2200.82 169.945 Q2204.46 169.945 2206.26 166.404 Q2208.09 162.839 2208.09 155.732 Q2208.09 148.603 2206.26 145.061 Q2204.46 141.496 2200.82 141.496 M2200.82 137.793 Q2206.63 137.793 2209.69 142.399 Q2212.77 146.982 2212.77 155.732 Q2212.77 164.459 2209.69 169.066 Q2206.63 173.649 2200.82 173.649 Q2195.01 173.649 2191.93 169.066 Q2188.88 164.459 2188.88 155.732 Q2188.88 146.982 2191.93 142.399 Q2195.01 137.793 2200.82 137.793 Z\" fill=\"#000000\" fill-rule=\"evenodd\" fill-opacity=\"1\" /><path clip-path=\"url(#clip510)\" d=\"M 0 0 M2219.71 137.006 L2223.41 137.006 Q2226.89 142.468 2228.6 147.7 Q2230.34 152.931 2230.34 158.093 Q2230.34 163.279 2228.6 168.533 Q2226.89 173.788 2223.41 179.228 L2219.71 179.228 Q2222.79 173.927 2224.29 168.695 Q2225.82 163.441 2225.82 158.093 Q2225.82 152.746 2224.29 147.538 Q2222.79 142.33 2219.71 137.006 Z\" fill=\"#000000\" fill-rule=\"evenodd\" fill-opacity=\"1\" /></svg>\n"
      ]
     },
     "execution_count": 61,
     "metadata": {},
     "output_type": "execute_result"
    }
   ],
   "source": [
    "plot(f6, -1,1, label=\"cos(100*x)-4*erf(30*x-10)\")"
   ]
  },
  {
   "cell_type": "code",
   "execution_count": 62,
   "metadata": {},
   "outputs": [
    {
     "ename": "LoadError",
     "evalue": "Roots.ConvergenceFailed(\"Stopped at: xn = 6146.32385196255. Too many steps taken. \")",
     "output_type": "error",
     "traceback": [
      "Roots.ConvergenceFailed(\"Stopped at: xn = 6146.32385196255. Too many steps taken. \")",
      "",
      "Stacktrace:",
      " [1] find_zero(fs::Function, x0::Int64, method::Order2, N::Nothing; tracks::Roots.NullTracks, verbose::Bool, p::Nothing, kwargs::Base.Iterators.Pairs{Union{}, Union{}, Tuple{}, NamedTuple{(), Tuple{}}})",
      "   @ Roots ~\\.julia\\packages\\Roots\\AV3zx\\src\\find_zero.jl:715",
      " [2] find_zero (repeats 2 times)",
      "   @ ~\\.julia\\packages\\Roots\\AV3zx\\src\\find_zero.jl:698 [inlined]",
      " [3] top-level scope",
      "   @ In[62]:1",
      " [4] eval",
      "   @ .\\boot.jl:360 [inlined]",
      " [5] include_string(mapexpr::typeof(REPL.softscope), mod::Module, code::String, filename::String)",
      "   @ Base .\\loading.jl:1094"
     ]
    }
   ],
   "source": [
    "r3 = find_zero(f6, 0, Order2())"
   ]
  },
  {
   "cell_type": "code",
   "execution_count": 65,
   "metadata": {},
   "outputs": [
    {
     "name": "stdout",
     "output_type": "stream",
     "text": [
      "Results of univariate zero finding:\n",
      "\n",
      "* Converged to: 8.131358829909187e16\n",
      "* Algorithm: Roots.Secant()\n",
      "* iterations: 39\n",
      "* function evaluations: 41\n",
      "* stopped as |f(x_n)| ≤ max(δ, max(1,|x|)⋅ϵ) using δ = atol, ϵ = rtol\n",
      "\n",
      "Trace:\n",
      "x_0 =  0.0000000000000000,\t fx_0 =  5.0000000000000000\n",
      "x_1 =  165.1403773036418272,\t fx_1 = -4.2531614494766874\n",
      "x_2 =  89.2345703710710296,\t fx_2 = -3.7653141158628265\n",
      "x_3 = -496.6233130818492896,\t fx_3 =  4.9994000869660455\n",
      "x_4 = -162.4495013973863138,\t fx_4 =  3.0253113019438125\n",
      "x_5 =  349.6752910502152076,\t fx_5 = -4.0320687411803142\n",
      "x_6 =  57.0847893918490286,\t fx_6 = -4.9790431457853757\n",
      "x_7 =  1595.4798344105834076,\t fx_7 = -3.4110716740428684\n",
      "x_8 =  4942.2089402147903456,\t fx_8 = -4.3193792201145218\n",
      "x_9 = -10972.8764485206847894,\t fx_9 =  4.0167870709513380\n",
      "x_10 = -3304.1823521622191038,\t fx_10 =  3.6637601606358352\n",
      "x_11 =  76282.5434564497700194,\t fx_11 = -4.7553708760108488\n",
      "x_12 =  31329.6384143546310952,\t fx_12 = -4.4149894849206763\n",
      "x_13 = -551741.6112853996455669,\t fx_13 =  3.0127520710652953\n",
      "x_14 = -315243.1949268105672672,\t fx_14 =  3.8443823973776050\n",
      "x_15 = -1408505.8142546238377690,\t fx_15 =  3.8670042185515729\n",
      "x_16 =  185475261.3419620990753174,\t fx_16 = -4.7435894535091228\n",
      "x_17 =  82520703.1921839863061905,\t fx_17 = -3.0406280751955075\n",
      "x_18 = -101304088.1190335899591446,\t fx_18 =  4.9622230320790495\n",
      "x_19 =  12677741.7418870180845261,\t fx_19 = -4.9578431448860245\n",
      "x_20 = -44288010.6771575510501862,\t fx_20 =  4.8001611136634379\n",
      "x_21 = -16265396.3876732662320137,\t fx_21 =  3.3857328384072800\n",
      "x_22 =  50812649.9704889804124832,\t fx_22 = -4.9301392695378228\n",
      "x_23 =  11044829.3280460983514786,\t fx_23 = -4.4057069908502582\n",
      "x_24 = -323040947.8742188811302185,\t fx_24 =  3.0147001744928210\n",
      "x_25 = -187311407.9196991324424744,\t fx_25 =  4.2623631220005436\n",
      "x_26 = -651001210.3810834884643555,\t fx_26 =  4.8248378601520212\n",
      "x_27 =  3326471843.1369237899780273,\t fx_27 = -3.2925822904650870\n",
      "x_28 =  1713132001.9288918972015381,\t fx_28 = -4.8451611685276523\n",
      "x_29 =  6747911014.2611227035522461,\t fx_29 = -4.7716230877286057\n",
      "x_30 =  333436716539.4569702148437500,\t fx_30 = -4.9027701413624225\n",
      "x_31 = -11879419591452.2402343750000000,\t fx_31 =  4.1852319873917887\n",
      "x_32 = -6255121076390.9189453125000000,\t fx_32 =  4.4422151418049785\n",
      "x_33 = -103476840074616.1406250000000000,\t fx_33 =  3.3978426733796829\n",
      "x_34 = -419785547531823.0625000000000000,\t fx_34 =  4.9587635073039920\n",
      "x_35 =  585070074542185.5000000000000000,\t fx_35 = -3.4227323450230287\n",
      "x_36 =  174719475991683.1875000000000000,\t fx_36 = -3.0020297756499859\n",
      "x_37 = -2753441189012652.5000000000000000,\t fx_37 =  3.0905719484613239\n",
      "x_38 = -1268083763458912.0000000000000000,\t fx_38 =  3.0359654752600234\n",
      "x_39 =  81313588299091872.0000000000000000,\t fx_39 = -3.0308108163444212\n",
      "\n"
     ]
    },
    {
     "data": {
      "text/plain": [
       "8.131358829909187e16"
      ]
     },
     "execution_count": 65,
     "metadata": {},
     "output_type": "execute_result"
    }
   ],
   "source": [
    "r4 = find_zero(f6, 0, Order1(), verbose=true)"
   ]
  },
  {
   "cell_type": "code",
   "execution_count": 64,
   "metadata": {},
   "outputs": [
    {
     "data": {
      "text/plain": [
       "false"
      ]
     },
     "execution_count": 64,
     "metadata": {},
     "output_type": "execute_result"
    }
   ],
   "source": [
    "check_zero(f6, r4)"
   ]
  },
  {
   "cell_type": "markdown",
   "metadata": {},
   "source": [
    "### Zadanie B"
   ]
  },
  {
   "cell_type": "markdown",
   "metadata": {},
   "source": [
    "#### Wstęga Newtona"
   ]
  },
  {
   "cell_type": "markdown",
   "metadata": {},
   "source": [
    "Wstęga Newtona to fraktal tworzony na płaszczyźnie liczb zespolonych. Powstaje on przez kolejne iteracje metody Newtona stosowanej na pewnej funkcji o N pierwiastkach zespolonych. Każdy z N pierwiastków stanowi punkt startowy dla iteracji Newtona. Jeśli ciąg puntków generowanych iteracyjnie zbiega do jednego z N pierwiastków, ciąg ten kolorowany jest swoistym dla tego pierwiastka kolorem. Jednak każdy wielomian stopnia co najmniej drugiego, podlegający iteracji Newtona, posiada punkty niezbiegające do żadnego z pierwiastków, wyznaczany jest dla nich kolor N+1."
   ]
  },
  {
   "cell_type": "markdown",
   "metadata": {},
   "source": [
    "#### $f(z)=z^3-1$"
   ]
  },
  {
   "cell_type": "markdown",
   "metadata": {},
   "source": [
    "- Dzięki pakietowi Fatou wygenerować można wzory na wartości $z$ w kolejnych iteracjach:"
   ]
  },
  {
   "cell_type": "code",
   "execution_count": 53,
   "metadata": {},
   "outputs": [
    {
     "data": {
      "text/latex": [
       "$\\displaystyle D_1(\\epsilon) = \\left\\{z\\in\\mathbb{C}:\\left|\\,\\left(2 z^{3}+1\\right)/\\left(3 z^{2}\\right) - r_i\\,\\right|<\\epsilon,\\,\\forall r_i(\\,f(r_i)=0 )\\right\\}$"
      ],
      "text/plain": [
       "L\"$\\displaystyle D_1(\\epsilon) = \\left\\{z\\in\\mathbb{C}:\\left|\\,\\left(2 z^{3}+1\\right)/\\left(3 z^{2}\\right) - r_i\\,\\right|<\\epsilon,\\,\\forall r_i(\\,f(r_i)=0 )\\right\\}$\""
      ]
     },
     "metadata": {},
     "output_type": "display_data"
    },
    {
     "data": {
      "text/latex": [
       "$\\displaystyle D_2(\\epsilon) = \\left\\{z\\in\\mathbb{C}:\\left|\\,\\left(2 \\left(2 z^{3}+1\\right)^{3}+27 z^{6}\\right)/\\left(9 \\left(2 z^{3}+1\n",
       "\\right)^{2} z^{2}\\right) - r_i\\,\\right|<\\epsilon,\\,\\forall r_i(\\,f(r_i)=0 )\\right\\}$"
      ],
      "text/plain": [
       "L\"$\\displaystyle D_2(\\epsilon) = \\left\\{z\\in\\mathbb{C}:\\left|\\,\\left(2 \\left(2 z^{3}+1\\right)^{3}+27 z^{6}\\right)/\\left(9 \\left(2 z^{3}+1\n",
       "\\right)^{2} z^{2}\\right) - r_i\\,\\right|<\\epsilon,\\,\\forall r_i(\\,f(r_i)=0 )\\right\\}$\""
      ]
     },
     "metadata": {},
     "output_type": "display_data"
    },
    {
     "data": {
      "text/latex": [
       "$\\displaystyle D_3(\\epsilon) = \\left\\{z\\in\\mathbb{C}:\\left|\\,\\left(2 \\left(2 \\left(2 z^{3}+1\\right)^{3}+27 z^{6}\\right)^{3}+729 \\left(2 z^{\n",
       "3}+1\\right)^{6} z^{6}\\right)/\\left(27 \\left(2 \\left(2 z^{3}+1\\right)^{3}+27 z\n",
       "^{6}\\right)^{2} \\left(2 z^{3}+1\\right)^{2} z^{2}\\right) - r_i\\,\\right|<\\epsilon,\\,\\forall r_i(\\,f(r_i)=0 )\\right\\}$"
      ],
      "text/plain": [
       "L\"$\\displaystyle D_3(\\epsilon) = \\left\\{z\\in\\mathbb{C}:\\left|\\,\\left(2 \\left(2 \\left(2 z^{3}+1\\right)^{3}+27 z^{6}\\right)^{3}+729 \\left(2 z^{\n",
       "3}+1\\right)^{6} z^{6}\\right)/\\left(27 \\left(2 \\left(2 z^{3}+1\\right)^{3}+27 z\n",
       "^{6}\\right)^{2} \\left(2 z^{3}+1\\right)^{2} z^{2}\\right) - r_i\\,\\right|<\\epsilon,\\,\\forall r_i(\\,f(r_i)=0 )\\right\\}$\""
      ]
     },
     "metadata": {},
     "output_type": "display_data"
    },
    {
     "data": {
      "text/plain": [
       "3-element Vector{Nothing}:\n",
       " nothing\n",
       " nothing\n",
       " nothing"
      ]
     },
     "execution_count": 53,
     "metadata": {},
     "output_type": "execute_result"
    }
   ],
   "source": [
    "using Fatou\n",
    "map(display,[basin(newton(:(z^3-1)),i) for i ∈ 1:3])"
   ]
  },
  {
   "cell_type": "markdown",
   "metadata": {},
   "source": [
    "- Wstęgę wygenerowałam przy pomocy następującego kodu w MATLAB:"
   ]
  },
  {
   "cell_type": "code",
   "execution_count": null,
   "metadata": {},
   "outputs": [],
   "source": [
    "close all; clear all; clc;\n",
    "\n",
    "% Define function and its' derivative\n",
    "f = @(Z) Z.^3-1;\n",
    "fd = @(Z) 3*Z.^2;\n",
    "\n",
    "roots = [1, -1/2 + 1i*sqrt(3)/2, -1/2 - 1i*sqrt(3)/2];\n",
    "\n",
    "nx = 1000;\n",
    "ny = 1000;\n",
    "xmin = -2;\n",
    "xmax = 2;\n",
    "ymin= xmin;\n",
    "ymax = xmax;\n",
    "\n",
    "x = linspace(xmin,xmax,nx); y = linspace(ymin,ymax,ny);\n",
    "[X,Y] = meshgrid(x,y);\n",
    "Z = X + 1i*Y;\n",
    "\n",
    "% Number of iterations\n",
    "n_it = 40;\n",
    "for n=1:n_it\n",
    "    Z = Z - f(Z) ./ fd(Z);\n",
    "end\n",
    "\n",
    "eps = 0.001;\n",
    "% Colour points\n",
    "Z1 = abs(Z-roots(1)) < eps;\n",
    "Z2 = abs(Z-roots(2)) < eps;\n",
    "Z3 = abs(Z-roots(3)) < eps;\n",
    "Z4 = ~(Z1+Z2+Z3);\n",
    "\n",
    "figure;\n",
    "map = [1 0 0; 0 1 0; 0 0 1; 0 0 0]; colormap(map);\n",
    "Z=(Z1+2*Z2+3*Z3+4*Z4);\n",
    "image([xmin xmax], [ymin ymax], Z);\n",
    "set(gca,'YDir','normal');\n",
    "\n",
    "axis equal; axis tight;\n",
    "set(gca,'XTick',linspace(xmin,xmax,5),'YTick',linspace(ymin,ymax,5));\n",
    "xlabel('$x$','Interpreter','latex','FontSize',14);\n",
    "xlabel('$y$','Interpreter','latex','FontSize',14);\n",
    "title('Fractal from $f(z)=z^3-1$','Interpreter','latex','FontSize',16);"
   ]
  },
  {
   "attachments": {
    "12572602-806b-4f8d-a844-e4fcaf1bfaf2.jpg": {
     "image/jpeg": "[encoded data removed]"
    }
   },
   "cell_type": "markdown",
   "metadata": {},
   "source": [
    "![newton_fractal_1.jpg](attachment:12572602-806b-4f8d-a844-e4fcaf1bfaf2.jpg)"
   ]
  }
 ],
 "metadata": {
  "kernelspec": {
   "display_name": "Julia 1.6.0",
   "language": "julia",
   "name": "julia-1.6"
  },
  "language_info": {
   "file_extension": ".jl",
   "mimetype": "application/julia",
   "name": "julia",
   "version": "1.6.0"
  }
 },
 "nbformat": 4,
 "nbformat_minor": 4
}
