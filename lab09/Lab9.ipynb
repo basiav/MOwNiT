{
 "cells": [
  {
   "cell_type": "markdown",
   "metadata": {},
   "source": [
    "# Laboratorium 9"
   ]
  },
  {
   "cell_type": "markdown",
   "metadata": {},
   "source": [
    "## Wybrane zagadnienia algebry liniowej, faktoryzacja"
   ]
  },
  {
   "cell_type": "code",
   "execution_count": 40,
   "metadata": {},
   "outputs": [
    {
     "data": {
      "text/html": [
       "# 11 methods for generic function <b>factorize</b>:<ul><li> factorize(A::<b>StridedMatrix{T}</b>)<i> where T</i> in LinearAlgebra at <a href=\"file://C:/buildbot/worker/package_win64/build/usr/share/julia/stdlib/v1.6/LinearAlgebra/src/dense.jl\" target=\"_blank\">C:\\Users\\basia\\AppData\\Local\\Programs\\Julia-1.6.0\\share\\julia\\stdlib\\v1.6\\LinearAlgebra\\src\\dense.jl:1241</a></li> <li> factorize(A::<b>Adjoint</b>) in LinearAlgebra at <a href=\"file://C:/buildbot/worker/package_win64/build/usr/share/julia/stdlib/v1.6/LinearAlgebra/src/dense.jl\" target=\"_blank\">C:\\Users\\basia\\AppData\\Local\\Programs\\Julia-1.6.0\\share\\julia\\stdlib\\v1.6\\LinearAlgebra\\src\\dense.jl:1315</a></li> <li> factorize(A::<b>Transpose</b>) in LinearAlgebra at <a href=\"file://C:/buildbot/worker/package_win64/build/usr/share/julia/stdlib/v1.6/LinearAlgebra/src/dense.jl\" target=\"_blank\">C:\\Users\\basia\\AppData\\Local\\Programs\\Julia-1.6.0\\share\\julia\\stdlib\\v1.6\\LinearAlgebra\\src\\dense.jl:1316</a></li> <li> factorize(A::<b>LinearAlgebra.AbstractTriangular</b>) in LinearAlgebra at <a href=\"file://C:/buildbot/worker/package_win64/build/usr/share/julia/stdlib/v1.6/LinearAlgebra/src/triangular.jl\" target=\"_blank\">C:\\Users\\basia\\AppData\\Local\\Programs\\Julia-1.6.0\\share\\julia\\stdlib\\v1.6\\LinearAlgebra\\src\\triangular.jl:2216</a></li> <li> factorize(A::<b>Tridiagonal</b>) in LinearAlgebra at <a href=\"file://C:/buildbot/worker/package_win64/build/usr/share/julia/stdlib/v1.6/LinearAlgebra/src/lu.jl\" target=\"_blank\">C:\\Users\\basia\\AppData\\Local\\Programs\\Julia-1.6.0\\share\\julia\\stdlib\\v1.6\\LinearAlgebra\\src\\lu.jl:555</a></li> <li> factorize(D::<b>Diagonal</b>) in LinearAlgebra at <a href=\"file://C:/buildbot/worker/package_win64/build/usr/share/julia/stdlib/v1.6/LinearAlgebra/src/diagonal.jl\" target=\"_blank\">C:\\Users\\basia\\AppData\\Local\\Programs\\Julia-1.6.0\\share\\julia\\stdlib\\v1.6\\LinearAlgebra\\src\\diagonal.jl:121</a></li> <li> factorize(A::<b>Bidiagonal</b>) in LinearAlgebra at <a href=\"file://C:/buildbot/worker/package_win64/build/usr/share/julia/stdlib/v1.6/LinearAlgebra/src/bidiag.jl\" target=\"_blank\">C:\\Users\\basia\\AppData\\Local\\Programs\\Julia-1.6.0\\share\\julia\\stdlib\\v1.6\\LinearAlgebra\\src\\bidiag.jl:882</a></li> <li> factorize(S::<b>SymTridiagonal</b>) in LinearAlgebra at <a href=\"file://C:/buildbot/worker/package_win64/build/usr/share/julia/stdlib/v1.6/LinearAlgebra/src/ldlt.jl\" target=\"_blank\">C:\\Users\\basia\\AppData\\Local\\Programs\\Julia-1.6.0\\share\\julia\\stdlib\\v1.6\\LinearAlgebra\\src\\ldlt.jl:167</a></li> <li> factorize(A::<b>SparseArrays.AbstractSparseMatrixCSC</b>) in SparseArrays at <a href=\"file://C:/buildbot/worker/package_win64/build/usr/share/julia/stdlib/v1.6/SparseArrays/src/linalg.jl\" target=\"_blank\">C:\\Users\\basia\\AppData\\Local\\Programs\\Julia-1.6.0\\share\\julia\\stdlib\\v1.6\\SparseArrays\\src\\linalg.jl:1599</a></li> <li> factorize(A::<b>Union{Hermitian{ComplexF64, var\"#s832\"}, Hermitian{Float64, var\"#s832\"}, Symmetric{Float64, var\"#s832\"}} where var\"#s832\"<:SparseArrays.AbstractSparseMatrixCSC</b>) in SparseArrays at <a href=\"file://C:/buildbot/worker/package_win64/build/usr/share/julia/stdlib/v1.6/SparseArrays/src/linalg.jl\" target=\"_blank\">C:\\Users\\basia\\AppData\\Local\\Programs\\Julia-1.6.0\\share\\julia\\stdlib\\v1.6\\SparseArrays\\src\\linalg.jl:1629</a></li> <li> factorize(A::<b>Union{Hermitian{T, S}, Symmetric{T, S}} where {T, S}</b>) in LinearAlgebra at <a href=\"file://C:/buildbot/worker/package_win64/build/usr/share/julia/stdlib/v1.6/LinearAlgebra/src/symmetric.jl\" target=\"_blank\">C:\\Users\\basia\\AppData\\Local\\Programs\\Julia-1.6.0\\share\\julia\\stdlib\\v1.6\\LinearAlgebra\\src\\symmetric.jl:637</a></li> </ul>"
      ],
      "text/plain": [
       "# 11 methods for generic function \"factorize\":\n",
       "[1] factorize(A::StridedMatrix{T}) where T in LinearAlgebra at C:\\Users\\basia\\AppData\\Local\\Programs\\Julia-1.6.0\\share\\julia\\stdlib\\v1.6\\LinearAlgebra\\src\\dense.jl:1241\n",
       "[2] factorize(A::Adjoint) in LinearAlgebra at C:\\Users\\basia\\AppData\\Local\\Programs\\Julia-1.6.0\\share\\julia\\stdlib\\v1.6\\LinearAlgebra\\src\\dense.jl:1315\n",
       "[3] factorize(A::Transpose) in LinearAlgebra at C:\\Users\\basia\\AppData\\Local\\Programs\\Julia-1.6.0\\share\\julia\\stdlib\\v1.6\\LinearAlgebra\\src\\dense.jl:1316\n",
       "[4] factorize(A::LinearAlgebra.AbstractTriangular) in LinearAlgebra at C:\\Users\\basia\\AppData\\Local\\Programs\\Julia-1.6.0\\share\\julia\\stdlib\\v1.6\\LinearAlgebra\\src\\triangular.jl:2216\n",
       "[5] factorize(A::Tridiagonal) in LinearAlgebra at C:\\Users\\basia\\AppData\\Local\\Programs\\Julia-1.6.0\\share\\julia\\stdlib\\v1.6\\LinearAlgebra\\src\\lu.jl:555\n",
       "[6] factorize(D::Diagonal) in LinearAlgebra at C:\\Users\\basia\\AppData\\Local\\Programs\\Julia-1.6.0\\share\\julia\\stdlib\\v1.6\\LinearAlgebra\\src\\diagonal.jl:121\n",
       "[7] factorize(A::Bidiagonal) in LinearAlgebra at C:\\Users\\basia\\AppData\\Local\\Programs\\Julia-1.6.0\\share\\julia\\stdlib\\v1.6\\LinearAlgebra\\src\\bidiag.jl:882\n",
       "[8] factorize(S::SymTridiagonal) in LinearAlgebra at C:\\Users\\basia\\AppData\\Local\\Programs\\Julia-1.6.0\\share\\julia\\stdlib\\v1.6\\LinearAlgebra\\src\\ldlt.jl:167\n",
       "[9] factorize(A::SparseArrays.AbstractSparseMatrixCSC) in SparseArrays at C:\\Users\\basia\\AppData\\Local\\Programs\\Julia-1.6.0\\share\\julia\\stdlib\\v1.6\\SparseArrays\\src\\linalg.jl:1599\n",
       "[10] factorize(A::Union{Hermitian{ComplexF64, var\"#s832\"}, Hermitian{Float64, var\"#s832\"}, Symmetric{Float64, var\"#s832\"}} where var\"#s832\"<:SparseArrays.AbstractSparseMatrixCSC) in SparseArrays at C:\\Users\\basia\\AppData\\Local\\Programs\\Julia-1.6.0\\share\\julia\\stdlib\\v1.6\\SparseArrays\\src\\linalg.jl:1629\n",
       "[11] factorize(A::Union{Hermitian{T, S}, Symmetric{T, S}} where {T, S}) in LinearAlgebra at C:\\Users\\basia\\AppData\\Local\\Programs\\Julia-1.6.0\\share\\julia\\stdlib\\v1.6\\LinearAlgebra\\src\\symmetric.jl:637"
      ]
     },
     "execution_count": 40,
     "metadata": {},
     "output_type": "execute_result"
    }
   ],
   "source": [
    "using(LinearAlgebra)\n",
    "methods(factorize)"
   ]
  },
  {
   "cell_type": "markdown",
   "metadata": {},
   "source": [
    "Zadania\n",
    "Zadanie 1 (1pkt)\n",
    "\n",
    "Ustal losowe (referencyjne) x rozmiaru 1000 oraz losowe A rozmiaru 1000x1000, policz b=A*x. Nastepnie rozwiąż równanie Ax=b trzema metodami:\n",
    "\n",
    "- inv()\n",
    "- \\\n",
    "- factorize()\n",
    "\n",
    "Porównaj jakość wyniku (zmierzoną jako długość różnicy wektorów wyniku oraz referencyjnego x) oraz czas wykonania (@time). UWAGA: pierwsze wykonanie funkcji w Julii zawiera czas kompilacji tej funkcji, dlatego czas mierzymy od drugiego wywołania !\n",
    "\n",
    "Zadanie 2 (1pkt)\n",
    "\n",
    "Policz współczynniki wielomianu aproksymującego dowolne dane z poprzednich laboratoriów tworząc wprost układ równań i rozwiązujac go (metoda z użyciem faktoryzacji QR zaprezentowana na tym laboratorium). Porównaj wyniki z tymi otrzymanymi poprzednio.\n",
    "\n",
    "Zadanie 3 (2 pkt)\n",
    "\n",
    "Znajdź i zaprezentuj działanie innego zastosowania wybranej faktoryzacji. Przykładowe (ale nie jedyne!) tematy:\n",
    "\n",
    "- tworzenie pseudoinversji macierzy (http://buzzard.ups.edu/courses/2014spring/420projects/math420-UPS-spring-2014-macausland-pseudo-inverse-present.pdf).\n",
    "\n",
    "- uzycie faktoryzacji QR do znajdowania wartości własnych (https://en.wikipedia.org/wiki/QR_algorithm)\n",
    "\n",
    "- zastosowanie faktoryzacji SVD - przykład zastosowania w uczeniu maszynowym https://blog.statsbot.co/singular-value-decomposition-tutorial-52c695315254"
   ]
  },
  {
   "cell_type": "markdown",
   "metadata": {},
   "source": [
    "### Zadanie 1"
   ]
  },
  {
   "cell_type": "code",
   "execution_count": 41,
   "metadata": {},
   "outputs": [],
   "source": [
    "using Statistics"
   ]
  },
  {
   "cell_type": "code",
   "execution_count": 44,
   "metadata": {},
   "outputs": [
    {
     "data": {
      "text/plain": [
       "1000-element Vector{Float64}:\n",
       " 0.5049585985669289\n",
       " 0.8092757083332709\n",
       " 0.6372650339946078\n",
       " 0.865262853210349\n",
       " 0.1318326610147651\n",
       " 0.38936600007841915\n",
       " 0.40714702338361297\n",
       " 0.31005412490494666\n",
       " 0.22773225307835854\n",
       " 0.4990858380331211\n",
       " 0.04281875536865121\n",
       " 0.9909162991304434\n",
       " 0.21953971148484897\n",
       " ⋮\n",
       " 0.7205056662455727\n",
       " 0.21722709122789485\n",
       " 0.3111189512928587\n",
       " 0.13069385450577897\n",
       " 0.5901526504883825\n",
       " 0.7841160275155741\n",
       " 0.6766674298274973\n",
       " 0.7428657646569614\n",
       " 0.5355457955399427\n",
       " 0.6798695888013755\n",
       " 0.9478715451922832\n",
       " 0.5836776969995705"
      ]
     },
     "execution_count": 44,
     "metadata": {},
     "output_type": "execute_result"
    }
   ],
   "source": [
    "x = rand(1000)\n",
    "A = rand(1000, 1000)\n",
    "b = A*x\n",
    "x"
   ]
  },
  {
   "cell_type": "code",
   "execution_count": 45,
   "metadata": {},
   "outputs": [],
   "source": [
    "x_inv = []\n",
    "x_slash = []\n",
    "x_fact = []\n",
    "\n",
    "iters = 50\n",
    "time_inv = zeros(iters);\n",
    "time_slash = zeros(iters);\n",
    "time_fact = zeros(iters);"
   ]
  },
  {
   "cell_type": "code",
   "execution_count": 46,
   "metadata": {},
   "outputs": [
    {
     "data": {
      "text/plain": [
       "factorizeA (generic function with 1 method)"
      ]
     },
     "execution_count": 46,
     "metadata": {},
     "output_type": "execute_result"
    }
   ],
   "source": [
    "function invA()\n",
    "    global x_inv = inv(A)*b\n",
    "end\n",
    "\n",
    "function slash()\n",
    "    global x_slash = A\\b\n",
    "end\n",
    "\n",
    "function factorizeA()\n",
    "    global x_fact = factorize(A)\\b\n",
    "end"
   ]
  },
  {
   "cell_type": "code",
   "execution_count": 47,
   "metadata": {},
   "outputs": [
    {
     "data": {
      "text/plain": [
       "measure_time (generic function with 1 method)"
      ]
     },
     "execution_count": 47,
     "metadata": {},
     "output_type": "execute_result"
    }
   ],
   "source": [
    "function measure_time()\n",
    "    # inv(A)*b\n",
    "    for i = -10:iters\n",
    "        if i > 0\n",
    "            time_inv[i] = @elapsed invA()\n",
    "        end\n",
    "    end\n",
    "    \n",
    "    # A\\b\n",
    "    for i = -10:iters\n",
    "        if i > 0\n",
    "            time_slash[i] = @elapsed slash()\n",
    "        end\n",
    "    end   \n",
    "    \n",
    "    # factorize(A)\\b\n",
    "    for i = -10:iters\n",
    "        if i > 0\n",
    "            time_fact[i] = @elapsed factorizeA()\n",
    "        end\n",
    "    end\n",
    "    println(\"TIMES (MEAN):\")\n",
    "    println(\"inv(A)*b:\\t\", mean(time_inv))\n",
    "    println(\"A\\\\b:\\t\\t\", mean(time_slash))\n",
    "    println(\"factorize(A)\\\\b:\\t\", mean(time_fact))\n",
    "end"
   ]
  },
  {
   "cell_type": "code",
   "execution_count": 48,
   "metadata": {},
   "outputs": [
    {
     "name": "stdout",
     "output_type": "stream",
     "text": [
      "TIMES (MEAN):\n",
      "inv(A)*b:\t0.230682688\n",
      "A\\b:\t\t0.09489047599999999\n",
      "factorize(A)\\b:\t0.083514012\n"
     ]
    }
   ],
   "source": [
    "measure_time()"
   ]
  },
  {
   "cell_type": "code",
   "execution_count": 49,
   "metadata": {},
   "outputs": [
    {
     "name": "stdout",
     "output_type": "stream",
     "text": [
      "PRECISION (vector length):\n",
      "inv(A)*b:\t3.665430380039976e-11\n",
      "A\\b:\t\t2.6078253846699892e-11\n",
      "factorize(A)\\b:\t2.6078253846699892e-11\n"
     ]
    }
   ],
   "source": [
    "diff_1 = x - x_inv\n",
    "diff_2 = x - x_slash\n",
    "diff_3 = x - x_fact\n",
    "\n",
    "function vec_len(vec)\n",
    "    return sqrt(dot(vec, vec))\n",
    "end\n",
    "\n",
    "println(\"PRECISION (vector length):\")\n",
    "println(\"inv(A)*b:\\t\", vec_len(diff_1))\n",
    "println(\"A\\\\b:\\t\\t\", vec_len(diff_2))\n",
    "println(\"factorize(A)\\\\b:\\t\", vec_len(diff_3))"
   ]
  },
  {
   "cell_type": "markdown",
   "metadata": {},
   "source": [
    "### Zadanie 2"
   ]
  },
  {
   "cell_type": "code",
   "execution_count": 67,
   "metadata": {},
   "outputs": [],
   "source": [
    "using CSV\n",
    "using DataFrames\n",
    "using Plots\n",
    "using Statistics\n",
    "using Polynomials"
   ]
  },
  {
   "cell_type": "code",
   "execution_count": 61,
   "metadata": {},
   "outputs": [
    {
     "data": {
      "text/html": [
       "<table class=\"data-frame\"><thead><tr><th></th><th>size</th><th>sample_nr</th><th>naive_mult_time</th><th>better_mult_time</th><th>BLAS_time</th></tr><tr><th></th><th>Int64</th><th>Int64</th><th>Int64</th><th>Int64</th><th>Int64</th></tr></thead><tbody><p>100 rows × 5 columns</p><tr><th>1</th><td>50</td><td>1</td><td>0</td><td>0</td><td>0</td></tr><tr><th>2</th><td>50</td><td>2</td><td>0</td><td>0</td><td>0</td></tr><tr><th>3</th><td>50</td><td>3</td><td>0</td><td>1</td><td>0</td></tr><tr><th>4</th><td>50</td><td>4</td><td>0</td><td>0</td><td>0</td></tr><tr><th>5</th><td>50</td><td>5</td><td>0</td><td>0</td><td>0</td></tr><tr><th>6</th><td>50</td><td>6</td><td>0</td><td>0</td><td>0</td></tr><tr><th>7</th><td>50</td><td>7</td><td>1</td><td>0</td><td>0</td></tr><tr><th>8</th><td>50</td><td>8</td><td>0</td><td>0</td><td>0</td></tr><tr><th>9</th><td>50</td><td>9</td><td>0</td><td>0</td><td>0</td></tr><tr><th>10</th><td>50</td><td>10</td><td>0</td><td>0</td><td>0</td></tr><tr><th>11</th><td>100</td><td>1</td><td>0</td><td>1</td><td>0</td></tr><tr><th>12</th><td>100</td><td>2</td><td>1</td><td>0</td><td>0</td></tr><tr><th>13</th><td>100</td><td>3</td><td>0</td><td>1</td><td>0</td></tr><tr><th>14</th><td>100</td><td>4</td><td>0</td><td>1</td><td>0</td></tr><tr><th>15</th><td>100</td><td>5</td><td>0</td><td>1</td><td>0</td></tr><tr><th>16</th><td>100</td><td>6</td><td>0</td><td>1</td><td>0</td></tr><tr><th>17</th><td>100</td><td>7</td><td>0</td><td>0</td><td>0</td></tr><tr><th>18</th><td>100</td><td>8</td><td>1</td><td>0</td><td>0</td></tr><tr><th>19</th><td>100</td><td>9</td><td>1</td><td>0</td><td>0</td></tr><tr><th>20</th><td>100</td><td>10</td><td>0</td><td>1</td><td>0</td></tr><tr><th>21</th><td>150</td><td>1</td><td>1</td><td>1</td><td>1</td></tr><tr><th>22</th><td>150</td><td>2</td><td>1</td><td>1</td><td>0</td></tr><tr><th>23</th><td>150</td><td>3</td><td>2</td><td>1</td><td>1</td></tr><tr><th>24</th><td>150</td><td>4</td><td>1</td><td>1</td><td>0</td></tr><tr><th>25</th><td>150</td><td>5</td><td>2</td><td>1</td><td>0</td></tr><tr><th>26</th><td>150</td><td>6</td><td>1</td><td>1</td><td>0</td></tr><tr><th>27</th><td>150</td><td>7</td><td>2</td><td>1</td><td>1</td></tr><tr><th>28</th><td>150</td><td>8</td><td>1</td><td>1</td><td>0</td></tr><tr><th>29</th><td>150</td><td>9</td><td>3</td><td>1</td><td>1</td></tr><tr><th>30</th><td>150</td><td>10</td><td>1</td><td>2</td><td>0</td></tr><tr><th>&vellip;</th><td>&vellip;</td><td>&vellip;</td><td>&vellip;</td><td>&vellip;</td><td>&vellip;</td></tr></tbody></table>"
      ],
      "text/latex": [
       "\\begin{tabular}{r|ccccc}\n",
       "\t& size & sample\\_nr & naive\\_mult\\_time & better\\_mult\\_time & BLAS\\_time\\\\\n",
       "\t\\hline\n",
       "\t& Int64 & Int64 & Int64 & Int64 & Int64\\\\\n",
       "\t\\hline\n",
       "\t1 & 50 & 1 & 0 & 0 & 0 \\\\\n",
       "\t2 & 50 & 2 & 0 & 0 & 0 \\\\\n",
       "\t3 & 50 & 3 & 0 & 1 & 0 \\\\\n",
       "\t4 & 50 & 4 & 0 & 0 & 0 \\\\\n",
       "\t5 & 50 & 5 & 0 & 0 & 0 \\\\\n",
       "\t6 & 50 & 6 & 0 & 0 & 0 \\\\\n",
       "\t7 & 50 & 7 & 1 & 0 & 0 \\\\\n",
       "\t8 & 50 & 8 & 0 & 0 & 0 \\\\\n",
       "\t9 & 50 & 9 & 0 & 0 & 0 \\\\\n",
       "\t10 & 50 & 10 & 0 & 0 & 0 \\\\\n",
       "\t11 & 100 & 1 & 0 & 1 & 0 \\\\\n",
       "\t12 & 100 & 2 & 1 & 0 & 0 \\\\\n",
       "\t13 & 100 & 3 & 0 & 1 & 0 \\\\\n",
       "\t14 & 100 & 4 & 0 & 1 & 0 \\\\\n",
       "\t15 & 100 & 5 & 0 & 1 & 0 \\\\\n",
       "\t16 & 100 & 6 & 0 & 1 & 0 \\\\\n",
       "\t17 & 100 & 7 & 0 & 0 & 0 \\\\\n",
       "\t18 & 100 & 8 & 1 & 0 & 0 \\\\\n",
       "\t19 & 100 & 9 & 1 & 0 & 0 \\\\\n",
       "\t20 & 100 & 10 & 0 & 1 & 0 \\\\\n",
       "\t21 & 150 & 1 & 1 & 1 & 1 \\\\\n",
       "\t22 & 150 & 2 & 1 & 1 & 0 \\\\\n",
       "\t23 & 150 & 3 & 2 & 1 & 1 \\\\\n",
       "\t24 & 150 & 4 & 1 & 1 & 0 \\\\\n",
       "\t25 & 150 & 5 & 2 & 1 & 0 \\\\\n",
       "\t26 & 150 & 6 & 1 & 1 & 0 \\\\\n",
       "\t27 & 150 & 7 & 2 & 1 & 1 \\\\\n",
       "\t28 & 150 & 8 & 1 & 1 & 0 \\\\\n",
       "\t29 & 150 & 9 & 3 & 1 & 1 \\\\\n",
       "\t30 & 150 & 10 & 1 & 2 & 0 \\\\\n",
       "\t$\\dots$ & $\\dots$ & $\\dots$ & $\\dots$ & $\\dots$ & $\\dots$ \\\\\n",
       "\\end{tabular}\n"
      ],
      "text/plain": [
       "\u001b[1m100×5 DataFrame\u001b[0m\n",
       "\u001b[1m Row \u001b[0m│\u001b[1m size  \u001b[0m\u001b[1m sample_nr \u001b[0m\u001b[1m naive_mult_time \u001b[0m\u001b[1m better_mult_time \u001b[0m\u001b[1m BLAS_time \u001b[0m\n",
       "\u001b[1m     \u001b[0m│\u001b[90m Int64 \u001b[0m\u001b[90m Int64     \u001b[0m\u001b[90m Int64           \u001b[0m\u001b[90m Int64            \u001b[0m\u001b[90m Int64     \u001b[0m\n",
       "─────┼────────────────────────────────────────────────────────────────\n",
       "   1 │    50          1                0                 0          0\n",
       "   2 │    50          2                0                 0          0\n",
       "   3 │    50          3                0                 1          0\n",
       "   4 │    50          4                0                 0          0\n",
       "   5 │    50          5                0                 0          0\n",
       "   6 │    50          6                0                 0          0\n",
       "   7 │    50          7                1                 0          0\n",
       "   8 │    50          8                0                 0          0\n",
       "   9 │    50          9                0                 0          0\n",
       "  10 │    50         10                0                 0          0\n",
       "  11 │   100          1                0                 1          0\n",
       "  ⋮  │   ⋮        ⋮             ⋮                ⋮              ⋮\n",
       "  91 │   500          1               57                44          8\n",
       "  92 │   500          2               57                44          8\n",
       "  93 │   500          3               58                44          8\n",
       "  94 │   500          4               59                45          8\n",
       "  95 │   500          5               62                50         10\n",
       "  96 │   500          6               63                44          8\n",
       "  97 │   500          7               67                45          8\n",
       "  98 │   500          8               60                44          9\n",
       "  99 │   500          9               59                44          8\n",
       " 100 │   500         10               63                49          9\n",
       "\u001b[36m                                                       79 rows omitted\u001b[0m"
      ]
     },
     "execution_count": 61,
     "metadata": {},
     "output_type": "execute_result"
    }
   ],
   "source": [
    "data=CSV.read(\"results.csv\", DataFrame)\n",
    "data"
   ]
  },
  {
   "cell_type": "code",
   "execution_count": 62,
   "metadata": {},
   "outputs": [
    {
     "data": {
      "text/html": [
       "<table class=\"data-frame\"><thead><tr><th></th><th>size</th><th>naive_mult_time_mean</th></tr><tr><th></th><th>Int64</th><th>Float64</th></tr></thead><tbody><p>10 rows × 2 columns</p><tr><th>1</th><td>50</td><td>0.1</td></tr><tr><th>2</th><td>100</td><td>0.3</td></tr><tr><th>3</th><td>150</td><td>1.5</td></tr><tr><th>4</th><td>200</td><td>3.2</td></tr><tr><th>5</th><td>250</td><td>6.3</td></tr><tr><th>6</th><td>300</td><td>11.1</td></tr><tr><th>7</th><td>350</td><td>19.1</td></tr><tr><th>8</th><td>400</td><td>28.3</td></tr><tr><th>9</th><td>450</td><td>41.8</td></tr><tr><th>10</th><td>500</td><td>60.5</td></tr></tbody></table>"
      ],
      "text/latex": [
       "\\begin{tabular}{r|cc}\n",
       "\t& size & naive\\_mult\\_time\\_mean\\\\\n",
       "\t\\hline\n",
       "\t& Int64 & Float64\\\\\n",
       "\t\\hline\n",
       "\t1 & 50 & 0.1 \\\\\n",
       "\t2 & 100 & 0.3 \\\\\n",
       "\t3 & 150 & 1.5 \\\\\n",
       "\t4 & 200 & 3.2 \\\\\n",
       "\t5 & 250 & 6.3 \\\\\n",
       "\t6 & 300 & 11.1 \\\\\n",
       "\t7 & 350 & 19.1 \\\\\n",
       "\t8 & 400 & 28.3 \\\\\n",
       "\t9 & 450 & 41.8 \\\\\n",
       "\t10 & 500 & 60.5 \\\\\n",
       "\\end{tabular}\n"
      ],
      "text/plain": [
       "\u001b[1m10×2 DataFrame\u001b[0m\n",
       "\u001b[1m Row \u001b[0m│\u001b[1m size  \u001b[0m\u001b[1m naive_mult_time_mean \u001b[0m\n",
       "\u001b[1m     \u001b[0m│\u001b[90m Int64 \u001b[0m\u001b[90m Float64              \u001b[0m\n",
       "─────┼─────────────────────────────\n",
       "   1 │    50                   0.1\n",
       "   2 │   100                   0.3\n",
       "   3 │   150                   1.5\n",
       "   4 │   200                   3.2\n",
       "   5 │   250                   6.3\n",
       "   6 │   300                  11.1\n",
       "   7 │   350                  19.1\n",
       "   8 │   400                  28.3\n",
       "   9 │   450                  41.8\n",
       "  10 │   500                  60.5"
      ]
     },
     "execution_count": 62,
     "metadata": {},
     "output_type": "execute_result"
    }
   ],
   "source": [
    "data_grouped = combine(groupby(data, :size), \"naive_mult_time\" => mean)"
   ]
  },
  {
   "cell_type": "code",
   "execution_count": 68,
   "metadata": {},
   "outputs": [
    {
     "data": {
      "text/html": [
       "&#45;1.1299999999999681 &#43; 0.027282439782439362&#8729;x &#45; 0.00017258741258741113&#8729;x<sup>2</sup> &#43; 7.261849261849247e-7&#8729;x<sup>3</sup>"
      ],
      "text/latex": [
       "$-1.1299999999999681 + 0.027282439782439362\\cdot x - 0.00017258741258741113\\cdot x^{2} + 7.261849261849247e-7\\cdot x^{3}$"
      ],
      "text/plain": [
       "Polynomial(-1.1299999999999681 + 0.027282439782439362*x - 0.00017258741258741113*x^2 + 7.261849261849247e-7*x^3)"
      ]
     },
     "execution_count": 68,
     "metadata": {},
     "output_type": "execute_result"
    }
   ],
   "source": [
    "x = data_grouped[:,1]\n",
    "y = data_grouped[:,2]\n",
    "fit_poly_3=fit(x, y, 3)"
   ]
  },
  {
   "cell_type": "markdown",
   "metadata": {},
   "source": [
    "#### 1. Tworzymy macierz A na podstawie $(x_{i}, y_{i})$"
   ]
  },
  {
   "cell_type": "code",
   "execution_count": 71,
   "metadata": {},
   "outputs": [
    {
     "data": {
      "text/plain": [
       "10×4 Matrix{Float64}:\n",
       " 125000.0         2500.0   50.0  1.0\n",
       "      1.0e6      10000.0  100.0  1.0\n",
       "      3.375e6    22500.0  150.0  1.0\n",
       "      8.0e6      40000.0  200.0  1.0\n",
       "      1.5625e7   62500.0  250.0  1.0\n",
       "      2.7e7      90000.0  300.0  1.0\n",
       "      4.2875e7  122500.0  350.0  1.0\n",
       "      6.4e7     160000.0  400.0  1.0\n",
       "      9.1125e7  202500.0  450.0  1.0\n",
       "      1.25e8    250000.0  500.0  1.0"
      ]
     },
     "execution_count": 71,
     "metadata": {},
     "output_type": "execute_result"
    }
   ],
   "source": [
    "A=zeros(10,4)\n",
    "A[:,1]=x.^3\n",
    "A[:,2]=x.^2\n",
    "A[:,3]=x\n",
    "A[:,4]=ones(10)\n",
    "A"
   ]
  },
  {
   "cell_type": "markdown",
   "metadata": {},
   "source": [
    "#### 2. Dokonujemy faktoryzacji QR macierzy A"
   ]
  },
  {
   "cell_type": "code",
   "execution_count": 73,
   "metadata": {},
   "outputs": [
    {
     "data": {
      "text/plain": [
       "QRPivoted{Float64, Matrix{Float64}}\n",
       "Q factor:\n",
       "10×10 LinearAlgebra.QRPackedQ{Float64, Matrix{Float64}}:\n",
       " -0.000710955  -0.0339428  -0.378124   …  -0.0960535  -0.207478   -0.282764\n",
       " -0.00568764   -0.118713   -0.518293      -0.0634765   0.220747    0.678134\n",
       " -0.0191958    -0.228722   -0.48057        0.497687    0.316026   -0.144889\n",
       " -0.0455012    -0.338383   -0.325016      -0.168339   -0.252272   -0.533898\n",
       " -0.0888694    -0.422107   -0.111694      -0.128003   -0.0471947   0.0717579\n",
       " -0.153566     -0.454308    0.0993344  …  -0.218805   -0.0870957   0.158386\n",
       " -0.243858     -0.409397    0.248007      -0.273819   -0.128876    0.1746\n",
       " -0.364009     -0.261787    0.274262       0.723252   -0.183053    0.0511814\n",
       " -0.518287      0.0141099   0.118037      -0.211292    0.739858   -0.281087\n",
       " -0.710955      0.443882   -0.280731      -0.0611514  -0.370663    0.108578\n",
       "R factor:\n",
       "4×4 Matrix{Float64}:\n",
       " -1.7582e8      -3.92492e5  -900.532  -2.15064\n",
       "  0.0       -65432.4        -377.086  -1.80937\n",
       "  0.0            0.0         -96.689  -1.35479\n",
       "  0.0            0.0           0.0     0.515254\n",
       "permutation:\n",
       "4-element Vector{Int64}:\n",
       " 1\n",
       " 2\n",
       " 3\n",
       " 4"
      ]
     },
     "execution_count": 73,
     "metadata": {},
     "output_type": "execute_result"
    }
   ],
   "source": [
    "# QR Factorization\n",
    "AF=factorize(A)"
   ]
  },
  {
   "cell_type": "code",
   "execution_count": 74,
   "metadata": {},
   "outputs": [
    {
     "data": {
      "text/plain": [
       "10×10 Matrix{Float64}:\n",
       "  1.0           0.0          -1.11022e-16  …   0.0          -5.55112e-17\n",
       "  0.0           1.0           2.77556e-17      2.77556e-17   1.59595e-16\n",
       " -1.11022e-16   2.77556e-17   1.0             -1.38778e-17   1.49186e-16\n",
       "  2.498e-16    -2.77556e-17   1.11022e-16      8.32667e-17   2.67147e-16\n",
       "  2.77556e-17  -3.1225e-17    2.08167e-17      3.46945e-18   9.28077e-17\n",
       "  1.38778e-17   4.85723e-17  -1.52656e-16  …   2.77556e-17  -1.21431e-17\n",
       "  2.08167e-17  -6.245e-17    -1.2837e-16       4.16334e-17   6.93889e-18\n",
       "  4.16334e-17   7.28584e-17  -8.32667e-17     -2.42861e-17  -2.77556e-17\n",
       "  0.0           2.77556e-17  -1.38778e-17      1.0           9.71445e-17\n",
       " -5.55112e-17   1.59595e-16   1.49186e-16      9.71445e-17   1.0"
      ]
     },
     "execution_count": 74,
     "metadata": {},
     "output_type": "execute_result"
    }
   ],
   "source": [
    "# Orthogonal check\n",
    "Transpose(AF.Q)*AF.Q"
   ]
  },
  {
   "cell_type": "code",
   "execution_count": 121,
   "metadata": {},
   "outputs": [
    {
     "data": {
      "text/plain": [
       "4-element Vector{Float64}:\n",
       "  7.261849261849285e-7\n",
       " -0.00017258741258741487\n",
       "  0.02728243978244043\n",
       " -1.1300000000000523"
      ]
     },
     "execution_count": 121,
     "metadata": {},
     "output_type": "execute_result"
    }
   ],
   "source": [
    "# Solve\n",
    "solution1 = AF.R\\((Transpose(AF.Q)*y)[1:4])"
   ]
  },
  {
   "cell_type": "code",
   "execution_count": 122,
   "metadata": {},
   "outputs": [
    {
     "data": {
      "text/plain": [
       "4-element Vector{Float64}:\n",
       "  7.261849261849268e-7\n",
       " -0.00017258741258741316\n",
       "  0.027282439782439966\n",
       " -1.1300000000000152"
      ]
     },
     "execution_count": 122,
     "metadata": {},
     "output_type": "execute_result"
    }
   ],
   "source": [
    "# Equivalent to\n",
    "solution2 = A\\y"
   ]
  },
  {
   "cell_type": "code",
   "execution_count": 127,
   "metadata": {},
   "outputs": [
    {
     "data": {
      "text/plain": [
       "compare_results (generic function with 1 method)"
      ]
     },
     "execution_count": 127,
     "metadata": {},
     "output_type": "execute_result"
    }
   ],
   "source": [
    "function digitss(vec, digs)\n",
    "    return [round(xs, digits=digs) for xs in vec]\n",
    "end\n",
    "\n",
    "function compare_results(sol1, sol2, sol3, digits)\n",
    "    s1 = digitss(sol1, digits)\n",
    "    s2 = digitss(sol2, digits)\n",
    "    s3 = digitss(sol3, digits)\n",
    "    for i in eachindex(s1)\n",
    "        if s1[i] != s2[i] || s2[i] != s3[i] || s1[i] != s3[i]\n",
    "            return false\n",
    "        end\n",
    "    end\n",
    "    return true\n",
    "end"
   ]
  },
  {
   "cell_type": "code",
   "execution_count": 120,
   "metadata": {},
   "outputs": [
    {
     "data": {
      "text/plain": [
       "4-element Vector{Float64}:\n",
       "  7.261849261849247e-7\n",
       " -0.00017258741258741113\n",
       "  0.027282439782439362\n",
       " -1.1299999999999681"
      ]
     },
     "execution_count": 120,
     "metadata": {},
     "output_type": "execute_result"
    }
   ],
   "source": [
    "solution3 = reverse(coeffs(fit_poly_3))"
   ]
  },
  {
   "cell_type": "code",
   "execution_count": 133,
   "metadata": {},
   "outputs": [
    {
     "data": {
      "text/plain": [
       "true"
      ]
     },
     "execution_count": 133,
     "metadata": {},
     "output_type": "execute_result"
    }
   ],
   "source": [
    "compare_results(solution1, solution2, solution3, 12)"
   ]
  },
  {
   "cell_type": "code",
   "execution_count": 134,
   "metadata": {},
   "outputs": [
    {
     "data": {
      "text/plain": [
       "false"
      ]
     },
     "execution_count": 134,
     "metadata": {},
     "output_type": "execute_result"
    }
   ],
   "source": [
    "compare_results(solution1, solution2, solution3, 13)"
   ]
  },
  {
   "cell_type": "markdown",
   "metadata": {},
   "source": [
    "#### Uzyskane trzema metodami wartości współczynników wielomianu aproksymującego są takie same z dokładnością do 12 miesjc po przecinku."
   ]
  },
  {
   "cell_type": "markdown",
   "metadata": {},
   "source": [
    "### Zadanie 3"
   ]
  },
  {
   "cell_type": "code",
   "execution_count": null,
   "metadata": {},
   "outputs": [],
   "source": []
  },
  {
   "cell_type": "code",
   "execution_count": 345,
   "metadata": {},
   "outputs": [],
   "source": [
    "A = rand(100,100)*10\n",
    "A += Transpose(A)\n",
    "\n",
    "# initialize\n",
    "X = A\n",
    "U = zeros(size(A)[1], size(A)[2])\n",
    "U[diagind(U)] .= 1\n",
    "\n",
    "# Run algorithm\n",
    "for i in 1:10000\n",
    "    dec = qr(X) # QR factorization\n",
    "    X = (dec.R)*(dec.Q)\n",
    "    U = U*(dec.Q) # Update transformation matrix\n",
    "end"
   ]
  },
  {
   "cell_type": "code",
   "execution_count": 346,
   "metadata": {},
   "outputs": [
    {
     "data": {
      "text/plain": [
       "100×100 Matrix{Float64}:\n",
       " -0.09886   0.07329  -0.11277  -0.01398  …  -0.11271   0.00937   0.01519\n",
       " -0.0983   -0.02447  -0.0466    0.11698      0.0087    0.08681  -0.09439\n",
       " -0.09419   0.21598  -0.12684  -0.09368      0.16724   0.13444   0.00737\n",
       " -0.10171  -0.11212  -0.17777  -0.01341     -0.0269   -0.04435  -0.11263\n",
       " -0.10231  -0.11017   0.07383  -0.04795     -0.0999    0.07726   0.26602\n",
       " -0.0965    0.08106  -0.0875   -0.02466  …  -0.13391   0.05052   0.02388\n",
       " -0.0983   -0.01299   0.04834   0.02558      0.04805   0.04686  -0.03027\n",
       " -0.10382  -0.07835   0.01543   0.09457      0.18877  -0.00368  -0.06348\n",
       " -0.09537   0.0489    0.06442  -0.11911     -0.03779  -0.08497  -0.06099\n",
       " -0.09997   0.17744   0.00813  -0.01503      0.04573   0.11918  -0.08727\n",
       " -0.09727   0.06716  -0.026    -0.18014  …   0.09047  -0.05445  -0.13044\n",
       " -0.09911  -0.03613   0.03056   0.03392      0.0283    0.18069   0.0095\n",
       " -0.10018  -0.25788  -0.03734  -0.04877     -0.11896  -0.22734   0.06329\n",
       "  ⋮                                      ⋱                      \n",
       " -0.09906   0.06515   0.03826  -0.04127     -0.00243   0.16592  -0.12018\n",
       " -0.09864   0.07065  -0.0499    0.2123      -0.07145  -0.12056   0.05894\n",
       " -0.09942  -0.14254   0.02437  -0.06999  …   0.06767  -0.09038   0.09696\n",
       " -0.09995  -0.03012   0.00054  -0.08225      0.12296  -0.03225  -0.03996\n",
       " -0.09542  -0.3066    0.02641  -0.01669      0.25056  -0.00437  -0.10949\n",
       " -0.10083   0.15027  -0.05661   0.16686     -0.00623  -0.24139  -0.13876\n",
       " -0.09232   0.00877   0.0765   -0.03017      0.12063   0.08978  -0.03293\n",
       " -0.10141   0.01909   0.0865   -0.07799  …  -0.08515  -0.07807  -0.00492\n",
       " -0.09019   0.05762   0.13368   0.08438     -0.06744  -0.14791  -0.10483\n",
       " -0.09908   0.04408   0.01175  -0.03007     -0.00263   0.02685  -0.01176\n",
       " -0.1043    0.09877  -0.02372   0.04867      0.02613   0.00109   0.17627\n",
       " -0.09845   0.09255   0.0368    0.16043      0.21238  -0.08142   0.16246"
      ]
     },
     "execution_count": 346,
     "metadata": {},
     "output_type": "execute_result"
    }
   ],
   "source": [
    "[round(q, digits=5) for q in U]"
   ]
  },
  {
   "cell_type": "code",
   "execution_count": 347,
   "metadata": {},
   "outputs": [
    {
     "data": {
      "text/plain": [
       "100×100 Matrix{Float64}:\n",
       "  0.0732941    0.112767     …   0.0127454    0.0139757  -0.0988619\n",
       " -0.0244725    0.046603         0.239681    -0.116985   -0.0983026\n",
       "  0.215981     0.126836         0.0411595    0.0936762  -0.0941907\n",
       " -0.112124     0.177771         0.0646035    0.0134118  -0.10171\n",
       " -0.110174    -0.0738265       -0.00148012   0.0479515  -0.102311\n",
       "  0.0810633    0.0874973    …   0.0619738    0.024662   -0.0965048\n",
       " -0.012993    -0.0483449        0.124312    -0.0255779  -0.0982996\n",
       " -0.0783452   -0.0154261       -0.146715    -0.0945698  -0.103817\n",
       "  0.0489042   -0.0644229        0.0568462    0.119111   -0.0953667\n",
       "  0.177442    -0.00812654      -0.135539     0.0150325  -0.099973\n",
       "  0.0671573    0.0259987    …   0.0523239    0.180141   -0.0972745\n",
       " -0.0361344   -0.0305611        0.0324408   -0.0339241  -0.0991066\n",
       " -0.25788      0.0373363        0.0445209    0.0487716  -0.100178\n",
       "  ⋮                         ⋱                           \n",
       "  0.0651521   -0.0382566        0.0441808    0.0412724  -0.0990576\n",
       "  0.0706515    0.0499035        0.193841    -0.212302   -0.0986408\n",
       " -0.142537    -0.024371     …  -0.0803264    0.0699916  -0.0994237\n",
       " -0.0301188   -0.000541668      0.142689     0.0822485  -0.0999489\n",
       " -0.306603    -0.0264111        0.181995     0.0166909  -0.0954211\n",
       "  0.150267     0.0566104       -0.0402685   -0.166859   -0.100829\n",
       "  0.00877069  -0.0765018       -0.15848      0.0301712  -0.0923207\n",
       "  0.0190885   -0.0865013    …  -0.118425     0.0779919  -0.101411\n",
       "  0.0576226   -0.133682        -0.0734888   -0.0843809  -0.0901945\n",
       "  0.0440757   -0.0117453       -0.00455584   0.0300705  -0.0990826\n",
       "  0.0987684    0.023717        -0.147353    -0.0486688  -0.104298\n",
       "  0.0925546   -0.0367984        0.119981    -0.160433   -0.0984482"
      ]
     },
     "execution_count": 347,
     "metadata": {},
     "output_type": "execute_result"
    }
   ],
   "source": [
    "eigen(A).vectors"
   ]
  },
  {
   "cell_type": "code",
   "execution_count": 348,
   "metadata": {},
   "outputs": [
    {
     "data": {
      "text/plain": [
       "100×100 Matrix{Float64}:\n",
       "  1.5959   12.0176   11.8247   14.6326   …  16.3583     5.0345    9.99396\n",
       " 12.0176   13.2815   10.6839    4.95763      8.05686    8.0712   16.8731\n",
       " 11.8247   10.6839    2.46742  11.4073       5.63194   15.5873    6.95631\n",
       " 14.6326    4.95763  11.4073    6.67492     13.9363    13.0124   10.926\n",
       "  7.0467    3.6051    9.52558   9.68739      8.7363    15.1671   15.3574\n",
       "  5.81819   9.95663   8.82047   3.20999  …  14.3261    13.2612    3.06215\n",
       "  8.10204  16.0012    5.02591  13.4805      10.0352    16.1976    9.94964\n",
       " 15.1257    5.55522   4.02356  12.6783       5.26661   19.0386    7.06025\n",
       " 17.8849    7.13823   9.19982  17.7248       9.03958    9.01341   9.01138\n",
       " 13.292    16.8421    7.5416    8.53457      5.35833   11.7726   13.1394\n",
       "  9.08536  10.015     7.78167  12.2051   …  10.6323     8.36688   8.40922\n",
       " 18.2125    6.41725  11.4428   17.0084       5.27665    8.23443  16.1306\n",
       " 15.1123    9.16379  15.0673    8.16437     10.1316     8.57195  11.3988\n",
       "  ⋮                                      ⋱                       \n",
       "  7.55182   6.47865   8.62184   6.69362     16.3138     2.59919   7.00151\n",
       " 10.0238   17.4042    8.426     9.38235     10.5799     6.80505   9.84714\n",
       "  4.36659  15.5825    8.73768  13.7146   …   6.39732   14.7788    6.39043\n",
       "  9.14306  17.9255   18.4683   12.067        4.84202   11.9002   17.7068\n",
       "  8.1384   15.3186   18.2153    1.25152      6.89629   10.0035   16.2063\n",
       "  7.06654  11.7166    7.25686   7.71902      9.9108     9.27865  15.6225\n",
       "  4.3446    6.63445  17.5175    6.85928     12.7673    14.1127    2.21283\n",
       " 16.8627    7.40997   8.52251  12.9401   …  12.1453    17.6642    0.614398\n",
       "  5.60105  18.1536    8.54587  14.1209       3.86229    6.34199   9.83262\n",
       " 16.3583    8.05686   5.63194  13.9363       0.240855  10.7931   12.0719\n",
       "  5.0345    8.0712   15.5873   13.0124      10.7931    19.0736    5.99879\n",
       "  9.99396  16.8731    6.95631  10.926       12.0719     5.99879   0.660336"
      ]
     },
     "execution_count": 348,
     "metadata": {},
     "output_type": "execute_result"
    }
   ],
   "source": [
    "A"
   ]
  },
  {
   "cell_type": "code",
   "execution_count": 276,
   "metadata": {},
   "outputs": [],
   "source": [
    "using PrettyTables"
   ]
  },
  {
   "cell_type": "code",
   "execution_count": 331,
   "metadata": {},
   "outputs": [
    {
     "data": {
      "text/plain": [
       "compare_vals (generic function with 1 method)"
      ]
     },
     "execution_count": 331,
     "metadata": {},
     "output_type": "execute_result"
    }
   ],
   "source": [
    "function compare_vals(vals1, vals2)\n",
    "    table = Array{Any}\n",
    "    for i in 1:length(vals1)\n",
    "        tab = []\n",
    "        push!(tab, vals1[i])\n",
    "        push!(tab, vals2[i])\n",
    "        table = [table; tab']\n",
    "    end\n",
    "    return table\n",
    "end"
   ]
  },
  {
   "cell_type": "code",
   "execution_count": 349,
   "metadata": {},
   "outputs": [
    {
     "name": "stdout",
     "output_type": "stream",
     "text": [
      "┌─────────────┬────────────────────┐\n",
      "│\u001b[1m Julia eigen \u001b[0m│\u001b[1m Basic QR Algorithm \u001b[0m│\n",
      "├─────────────┼────────────────────┤\n",
      "│    -79.4512 │           -79.4512 │\n",
      "│    -76.5665 │           -76.5665 │\n",
      "│    -74.2609 │           -74.2609 │\n",
      "│    -72.2519 │           -72.2519 │\n",
      "│    -68.0768 │           -68.0768 │\n",
      "│    -65.6345 │           -65.6345 │\n",
      "│    -63.3959 │           -63.3959 │\n",
      "│    -62.4594 │           -62.4594 │\n",
      "│    -61.6281 │           -61.6281 │\n",
      "│     -58.455 │            -58.455 │\n",
      "│    -56.4229 │           -56.4229 │\n",
      "│    -55.7708 │           -55.7708 │\n",
      "│    -53.1272 │           -53.1272 │\n",
      "│    -52.8041 │           -52.8041 │\n",
      "│    -51.9581 │           -51.9581 │\n",
      "│    -48.7278 │           -48.7278 │\n",
      "│    -47.0473 │           -47.0473 │\n",
      "│     -45.394 │            -45.394 │\n",
      "│    -43.4096 │           -43.4096 │\n",
      "│     -41.727 │            -41.727 │\n",
      "│    -40.6037 │           -40.6037 │\n",
      "│    -39.1777 │           -39.1777 │\n",
      "│    -37.7688 │           -37.7688 │\n",
      "│    -36.0452 │           -36.0452 │\n",
      "│    -33.9278 │           -33.9278 │\n",
      "│    -32.5238 │           -32.5238 │\n",
      "│    -31.7641 │           -31.7641 │\n",
      "│    -28.9388 │           -28.9388 │\n",
      "│    -28.0282 │           -28.0282 │\n",
      "│    -26.0678 │           -26.0678 │\n",
      "│     -24.144 │            -24.144 │\n",
      "│    -23.8705 │           -23.8705 │\n",
      "│    -22.9814 │           -22.9814 │\n",
      "│    -20.6992 │           -20.6992 │\n",
      "│    -18.9383 │           -18.9383 │\n",
      "│    -18.0146 │           -18.0146 │\n",
      "│    -17.5651 │           -17.5651 │\n",
      "│    -16.3903 │           -16.3903 │\n",
      "│    -13.5219 │           -13.5219 │\n",
      "│    -13.0719 │           -13.0719 │\n",
      "│    -12.0772 │           -12.0772 │\n",
      "│     -11.089 │            -11.089 │\n",
      "│    -10.3206 │           -10.3206 │\n",
      "│    -8.55004 │           -8.55004 │\n",
      "│    -7.01065 │           -7.01065 │\n",
      "│    -5.39717 │           -5.39717 │\n",
      "│    -5.07596 │           -5.07596 │\n",
      "│    -3.85509 │           -3.85509 │\n",
      "│    -2.44844 │           -2.44844 │\n",
      "│   -0.554152 │          -0.554152 │\n",
      "│    0.927582 │           0.927582 │\n",
      "│    0.942199 │           0.942199 │\n",
      "│     2.04614 │            2.04614 │\n",
      "│        3.83 │               3.83 │\n",
      "│     5.04085 │            5.04085 │\n",
      "│     7.45045 │            7.45045 │\n",
      "│     8.68767 │            8.68767 │\n",
      "│     10.0527 │            10.0527 │\n",
      "│     11.4671 │            11.4671 │\n",
      "│      11.926 │             11.926 │\n",
      "│     13.0469 │            13.0469 │\n",
      "│     14.0025 │            14.0025 │\n",
      "│     15.9841 │            15.9841 │\n",
      "│     16.9388 │            16.9388 │\n",
      "│     18.4624 │            18.4624 │\n",
      "│     20.9043 │            20.9043 │\n",
      "│     21.6174 │            21.6174 │\n",
      "│     23.0551 │            23.0551 │\n",
      "│     23.9433 │            23.9433 │\n",
      "│     26.6994 │            26.6994 │\n",
      "│     28.0907 │            28.0907 │\n",
      "│     29.0141 │            29.0141 │\n",
      "│     29.8419 │            29.8419 │\n",
      "│     30.6189 │            30.6189 │\n",
      "│     30.9384 │            30.9384 │\n",
      "│     33.1305 │            33.1305 │\n",
      "│     35.3998 │            35.3998 │\n",
      "│     36.0785 │            36.0784 │\n",
      "│     38.3673 │            38.3673 │\n",
      "│     40.1905 │            40.1905 │\n",
      "│      41.188 │             41.188 │\n",
      "│     42.8468 │            42.8468 │\n",
      "│     43.1424 │            43.1424 │\n",
      "│     46.0635 │            46.0635 │\n",
      "│     48.2516 │            48.2516 │\n",
      "│     51.1454 │            51.1454 │\n",
      "│     52.7528 │            52.7528 │\n",
      "│      54.545 │             54.545 │\n",
      "│     56.9779 │            56.9779 │\n",
      "│     57.8194 │            57.8194 │\n",
      "│     59.0978 │            59.0978 │\n",
      "│     60.4543 │            60.4543 │\n",
      "│      60.848 │             60.848 │\n",
      "│     64.5334 │            64.5334 │\n",
      "│     66.3199 │            66.3199 │\n",
      "│     69.2245 │            69.2245 │\n",
      "│     71.6021 │            71.6021 │\n",
      "│     74.8514 │            74.8514 │\n",
      "│     76.2898 │            76.2898 │\n",
      "│     1005.19 │            1005.19 │\n",
      "└─────────────┴────────────────────┘\n"
     ]
    }
   ],
   "source": [
    "vals1 = sort(eigen(A).values)\n",
    "vals2 = sort(diag(X))\n",
    "table = compare_vals(vals1, vals2)\n",
    "table = table[2:end, 1:end]\n",
    "pretty_table(table, [\"Julia eigen\" \"Basic QR Algorithm\"])"
   ]
  }
 ],
 "metadata": {
  "kernelspec": {
   "display_name": "Julia 1.6.0",
   "language": "julia",
   "name": "julia-1.6"
  },
  "language_info": {
   "file_extension": ".jl",
   "mimetype": "application/julia",
   "name": "julia",
   "version": "1.6.0"
  }
 },
 "nbformat": 4,
 "nbformat_minor": 4
}
