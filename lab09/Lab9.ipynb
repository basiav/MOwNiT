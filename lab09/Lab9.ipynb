{
 "cells": [
  {
   "cell_type": "markdown",
   "metadata": {},
   "source": [
    "# Laboratorium 9"
   ]
  },
  {
   "cell_type": "markdown",
   "metadata": {},
   "source": [
    "## Wybrane zagadnienia algebry liniowej, faktoryzacja"
   ]
  },
  {
   "cell_type": "code",
   "execution_count": 40,
   "metadata": {},
   "outputs": [
    {
     "data": {
      "text/html": [
       "# 11 methods for generic function <b>factorize</b>:<ul><li> factorize(A::<b>StridedMatrix{T}</b>)<i> where T</i> in LinearAlgebra at <a href=\"file://C:/buildbot/worker/package_win64/build/usr/share/julia/stdlib/v1.6/LinearAlgebra/src/dense.jl\" target=\"_blank\">C:\\Users\\basia\\AppData\\Local\\Programs\\Julia-1.6.0\\share\\julia\\stdlib\\v1.6\\LinearAlgebra\\src\\dense.jl:1241</a></li> <li> factorize(A::<b>Adjoint</b>) in LinearAlgebra at <a href=\"file://C:/buildbot/worker/package_win64/build/usr/share/julia/stdlib/v1.6/LinearAlgebra/src/dense.jl\" target=\"_blank\">C:\\Users\\basia\\AppData\\Local\\Programs\\Julia-1.6.0\\share\\julia\\stdlib\\v1.6\\LinearAlgebra\\src\\dense.jl:1315</a></li> <li> factorize(A::<b>Transpose</b>) in LinearAlgebra at <a href=\"file://C:/buildbot/worker/package_win64/build/usr/share/julia/stdlib/v1.6/LinearAlgebra/src/dense.jl\" target=\"_blank\">C:\\Users\\basia\\AppData\\Local\\Programs\\Julia-1.6.0\\share\\julia\\stdlib\\v1.6\\LinearAlgebra\\src\\dense.jl:1316</a></li> <li> factorize(A::<b>LinearAlgebra.AbstractTriangular</b>) in LinearAlgebra at <a href=\"file://C:/buildbot/worker/package_win64/build/usr/share/julia/stdlib/v1.6/LinearAlgebra/src/triangular.jl\" target=\"_blank\">C:\\Users\\basia\\AppData\\Local\\Programs\\Julia-1.6.0\\share\\julia\\stdlib\\v1.6\\LinearAlgebra\\src\\triangular.jl:2216</a></li> <li> factorize(A::<b>Tridiagonal</b>) in LinearAlgebra at <a href=\"file://C:/buildbot/worker/package_win64/build/usr/share/julia/stdlib/v1.6/LinearAlgebra/src/lu.jl\" target=\"_blank\">C:\\Users\\basia\\AppData\\Local\\Programs\\Julia-1.6.0\\share\\julia\\stdlib\\v1.6\\LinearAlgebra\\src\\lu.jl:555</a></li> <li> factorize(D::<b>Diagonal</b>) in LinearAlgebra at <a href=\"file://C:/buildbot/worker/package_win64/build/usr/share/julia/stdlib/v1.6/LinearAlgebra/src/diagonal.jl\" target=\"_blank\">C:\\Users\\basia\\AppData\\Local\\Programs\\Julia-1.6.0\\share\\julia\\stdlib\\v1.6\\LinearAlgebra\\src\\diagonal.jl:121</a></li> <li> factorize(A::<b>Bidiagonal</b>) in LinearAlgebra at <a href=\"file://C:/buildbot/worker/package_win64/build/usr/share/julia/stdlib/v1.6/LinearAlgebra/src/bidiag.jl\" target=\"_blank\">C:\\Users\\basia\\AppData\\Local\\Programs\\Julia-1.6.0\\share\\julia\\stdlib\\v1.6\\LinearAlgebra\\src\\bidiag.jl:882</a></li> <li> factorize(S::<b>SymTridiagonal</b>) in LinearAlgebra at <a href=\"file://C:/buildbot/worker/package_win64/build/usr/share/julia/stdlib/v1.6/LinearAlgebra/src/ldlt.jl\" target=\"_blank\">C:\\Users\\basia\\AppData\\Local\\Programs\\Julia-1.6.0\\share\\julia\\stdlib\\v1.6\\LinearAlgebra\\src\\ldlt.jl:167</a></li> <li> factorize(A::<b>SparseArrays.AbstractSparseMatrixCSC</b>) in SparseArrays at <a href=\"file://C:/buildbot/worker/package_win64/build/usr/share/julia/stdlib/v1.6/SparseArrays/src/linalg.jl\" target=\"_blank\">C:\\Users\\basia\\AppData\\Local\\Programs\\Julia-1.6.0\\share\\julia\\stdlib\\v1.6\\SparseArrays\\src\\linalg.jl:1599</a></li> <li> factorize(A::<b>Union{Hermitian{ComplexF64, var\"#s832\"}, Hermitian{Float64, var\"#s832\"}, Symmetric{Float64, var\"#s832\"}} where var\"#s832\"<:SparseArrays.AbstractSparseMatrixCSC</b>) in SparseArrays at <a href=\"file://C:/buildbot/worker/package_win64/build/usr/share/julia/stdlib/v1.6/SparseArrays/src/linalg.jl\" target=\"_blank\">C:\\Users\\basia\\AppData\\Local\\Programs\\Julia-1.6.0\\share\\julia\\stdlib\\v1.6\\SparseArrays\\src\\linalg.jl:1629</a></li> <li> factorize(A::<b>Union{Hermitian{T, S}, Symmetric{T, S}} where {T, S}</b>) in LinearAlgebra at <a href=\"file://C:/buildbot/worker/package_win64/build/usr/share/julia/stdlib/v1.6/LinearAlgebra/src/symmetric.jl\" target=\"_blank\">C:\\Users\\basia\\AppData\\Local\\Programs\\Julia-1.6.0\\share\\julia\\stdlib\\v1.6\\LinearAlgebra\\src\\symmetric.jl:637</a></li> </ul>"
      ],
      "text/plain": [
       "# 11 methods for generic function \"factorize\":\n",
       "[1] factorize(A::StridedMatrix{T}) where T in LinearAlgebra at C:\\Users\\basia\\AppData\\Local\\Programs\\Julia-1.6.0\\share\\julia\\stdlib\\v1.6\\LinearAlgebra\\src\\dense.jl:1241\n",
       "[2] factorize(A::Adjoint) in LinearAlgebra at C:\\Users\\basia\\AppData\\Local\\Programs\\Julia-1.6.0\\share\\julia\\stdlib\\v1.6\\LinearAlgebra\\src\\dense.jl:1315\n",
       "[3] factorize(A::Transpose) in LinearAlgebra at C:\\Users\\basia\\AppData\\Local\\Programs\\Julia-1.6.0\\share\\julia\\stdlib\\v1.6\\LinearAlgebra\\src\\dense.jl:1316\n",
       "[4] factorize(A::LinearAlgebra.AbstractTriangular) in LinearAlgebra at C:\\Users\\basia\\AppData\\Local\\Programs\\Julia-1.6.0\\share\\julia\\stdlib\\v1.6\\LinearAlgebra\\src\\triangular.jl:2216\n",
       "[5] factorize(A::Tridiagonal) in LinearAlgebra at C:\\Users\\basia\\AppData\\Local\\Programs\\Julia-1.6.0\\share\\julia\\stdlib\\v1.6\\LinearAlgebra\\src\\lu.jl:555\n",
       "[6] factorize(D::Diagonal) in LinearAlgebra at C:\\Users\\basia\\AppData\\Local\\Programs\\Julia-1.6.0\\share\\julia\\stdlib\\v1.6\\LinearAlgebra\\src\\diagonal.jl:121\n",
       "[7] factorize(A::Bidiagonal) in LinearAlgebra at C:\\Users\\basia\\AppData\\Local\\Programs\\Julia-1.6.0\\share\\julia\\stdlib\\v1.6\\LinearAlgebra\\src\\bidiag.jl:882\n",
       "[8] factorize(S::SymTridiagonal) in LinearAlgebra at C:\\Users\\basia\\AppData\\Local\\Programs\\Julia-1.6.0\\share\\julia\\stdlib\\v1.6\\LinearAlgebra\\src\\ldlt.jl:167\n",
       "[9] factorize(A::SparseArrays.AbstractSparseMatrixCSC) in SparseArrays at C:\\Users\\basia\\AppData\\Local\\Programs\\Julia-1.6.0\\share\\julia\\stdlib\\v1.6\\SparseArrays\\src\\linalg.jl:1599\n",
       "[10] factorize(A::Union{Hermitian{ComplexF64, var\"#s832\"}, Hermitian{Float64, var\"#s832\"}, Symmetric{Float64, var\"#s832\"}} where var\"#s832\"<:SparseArrays.AbstractSparseMatrixCSC) in SparseArrays at C:\\Users\\basia\\AppData\\Local\\Programs\\Julia-1.6.0\\share\\julia\\stdlib\\v1.6\\SparseArrays\\src\\linalg.jl:1629\n",
       "[11] factorize(A::Union{Hermitian{T, S}, Symmetric{T, S}} where {T, S}) in LinearAlgebra at C:\\Users\\basia\\AppData\\Local\\Programs\\Julia-1.6.0\\share\\julia\\stdlib\\v1.6\\LinearAlgebra\\src\\symmetric.jl:637"
      ]
     },
     "execution_count": 40,
     "metadata": {},
     "output_type": "execute_result"
    }
   ],
   "source": [
    "using(LinearAlgebra)\n",
    "methods(factorize)"
   ]
  },
  {
   "cell_type": "markdown",
   "metadata": {},
   "source": [
    "Zadania\n",
    "Zadanie 1 (1pkt)\n",
    "\n",
    "Ustal losowe (referencyjne) x rozmiaru 1000 oraz losowe A rozmiaru 1000x1000, policz b=A*x. Nastepnie rozwiąż równanie Ax=b trzema metodami:\n",
    "\n",
    "- inv()\n",
    "- \\\n",
    "- factorize()\n",
    "\n",
    "Porównaj jakość wyniku (zmierzoną jako długość różnicy wektorów wyniku oraz referencyjnego x) oraz czas wykonania (@time). UWAGA: pierwsze wykonanie funkcji w Julii zawiera czas kompilacji tej funkcji, dlatego czas mierzymy od drugiego wywołania !\n",
    "\n",
    "Zadanie 2 (1pkt)\n",
    "\n",
    "Policz współczynniki wielomianu aproksymującego dowolne dane z poprzednich laboratoriów tworząc wprost układ równań i rozwiązujac go (metoda z użyciem faktoryzacji QR zaprezentowana na tym laboratorium). Porównaj wyniki z tymi otrzymanymi poprzednio.\n",
    "\n",
    "Zadanie 3 (2 pkt)\n",
    "\n",
    "Znajdź i zaprezentuj działanie innego zastosowania wybranej faktoryzacji. Przykładowe (ale nie jedyne!) tematy:\n",
    "\n",
    "- tworzenie pseudoinversji macierzy (http://buzzard.ups.edu/courses/2014spring/420projects/math420-UPS-spring-2014-macausland-pseudo-inverse-present.pdf).\n",
    "\n",
    "- uzycie faktoryzacji QR do znajdowania wartości własnych (https://en.wikipedia.org/wiki/QR_algorithm)\n",
    "\n",
    "- zastosowanie faktoryzacji SVD - przykład zastosowania w uczeniu maszynowym https://blog.statsbot.co/singular-value-decomposition-tutorial-52c695315254"
   ]
  },
  {
   "cell_type": "markdown",
   "metadata": {},
   "source": [
    "### Zadanie 1"
   ]
  },
  {
   "cell_type": "code",
   "execution_count": 41,
   "metadata": {},
   "outputs": [],
   "source": [
    "using Statistics"
   ]
  },
  {
   "cell_type": "code",
   "execution_count": 44,
   "metadata": {},
   "outputs": [
    {
     "data": {
      "text/plain": [
       "1000-element Vector{Float64}:\n",
       " 0.5049585985669289\n",
       " 0.8092757083332709\n",
       " 0.6372650339946078\n",
       " 0.865262853210349\n",
       " 0.1318326610147651\n",
       " 0.38936600007841915\n",
       " 0.40714702338361297\n",
       " 0.31005412490494666\n",
       " 0.22773225307835854\n",
       " 0.4990858380331211\n",
       " 0.04281875536865121\n",
       " 0.9909162991304434\n",
       " 0.21953971148484897\n",
       " ⋮\n",
       " 0.7205056662455727\n",
       " 0.21722709122789485\n",
       " 0.3111189512928587\n",
       " 0.13069385450577897\n",
       " 0.5901526504883825\n",
       " 0.7841160275155741\n",
       " 0.6766674298274973\n",
       " 0.7428657646569614\n",
       " 0.5355457955399427\n",
       " 0.6798695888013755\n",
       " 0.9478715451922832\n",
       " 0.5836776969995705"
      ]
     },
     "execution_count": 44,
     "metadata": {},
     "output_type": "execute_result"
    }
   ],
   "source": [
    "x = rand(1000)\n",
    "A = rand(1000, 1000)\n",
    "b = A*x\n",
    "x"
   ]
  },
  {
   "cell_type": "code",
   "execution_count": 45,
   "metadata": {},
   "outputs": [],
   "source": [
    "x_inv = []\n",
    "x_slash = []\n",
    "x_fact = []\n",
    "\n",
    "iters = 50\n",
    "time_inv = zeros(iters);\n",
    "time_slash = zeros(iters);\n",
    "time_fact = zeros(iters);"
   ]
  },
  {
   "cell_type": "code",
   "execution_count": 46,
   "metadata": {},
   "outputs": [
    {
     "data": {
      "text/plain": [
       "factorizeA (generic function with 1 method)"
      ]
     },
     "execution_count": 46,
     "metadata": {},
     "output_type": "execute_result"
    }
   ],
   "source": [
    "function invA()\n",
    "    global x_inv = inv(A)*b\n",
    "end\n",
    "\n",
    "function slash()\n",
    "    global x_slash = A\\b\n",
    "end\n",
    "\n",
    "function factorizeA()\n",
    "    global x_fact = factorize(A)\\b\n",
    "end"
   ]
  },
  {
   "cell_type": "code",
   "execution_count": 47,
   "metadata": {},
   "outputs": [
    {
     "data": {
      "text/plain": [
       "measure_time (generic function with 1 method)"
      ]
     },
     "execution_count": 47,
     "metadata": {},
     "output_type": "execute_result"
    }
   ],
   "source": [
    "function measure_time()\n",
    "    # inv(A)*b\n",
    "    for i = -10:iters\n",
    "        if i > 0\n",
    "            time_inv[i] = @elapsed invA()\n",
    "        end\n",
    "    end\n",
    "    \n",
    "    # A\\b\n",
    "    for i = -10:iters\n",
    "        if i > 0\n",
    "            time_slash[i] = @elapsed slash()\n",
    "        end\n",
    "    end   \n",
    "    \n",
    "    # factorize(A)\\b\n",
    "    for i = -10:iters\n",
    "        if i > 0\n",
    "            time_fact[i] = @elapsed factorizeA()\n",
    "        end\n",
    "    end\n",
    "    println(\"TIMES (MEAN):\")\n",
    "    println(\"inv(A)*b:\\t\", mean(time_inv))\n",
    "    println(\"A\\\\b:\\t\\t\", mean(time_slash))\n",
    "    println(\"factorize(A)\\\\b:\\t\", mean(time_fact))\n",
    "end"
   ]
  },
  {
   "cell_type": "code",
   "execution_count": 48,
   "metadata": {},
   "outputs": [
    {
     "name": "stdout",
     "output_type": "stream",
     "text": [
      "TIMES (MEAN):\n",
      "inv(A)*b:\t0.230682688\n",
      "A\\b:\t\t0.09489047599999999\n",
      "factorize(A)\\b:\t0.083514012\n"
     ]
    }
   ],
   "source": [
    "measure_time()"
   ]
  },
  {
   "cell_type": "code",
   "execution_count": 49,
   "metadata": {},
   "outputs": [
    {
     "name": "stdout",
     "output_type": "stream",
     "text": [
      "PRECISION (vector length):\n",
      "inv(A)*b:\t3.665430380039976e-11\n",
      "A\\b:\t\t2.6078253846699892e-11\n",
      "factorize(A)\\b:\t2.6078253846699892e-11\n"
     ]
    }
   ],
   "source": [
    "diff_1 = x - x_inv\n",
    "diff_2 = x - x_slash\n",
    "diff_3 = x - x_fact\n",
    "\n",
    "function vec_len(vec)\n",
    "    return sqrt(dot(vec, vec))\n",
    "end\n",
    "\n",
    "println(\"PRECISION (vector length):\")\n",
    "println(\"inv(A)*b:\\t\", vec_len(diff_1))\n",
    "println(\"A\\\\b:\\t\\t\", vec_len(diff_2))\n",
    "println(\"factorize(A)\\\\b:\\t\", vec_len(diff_3))"
   ]
  },
  {
   "cell_type": "markdown",
   "metadata": {},
   "source": [
    "### Zadanie 2"
   ]
  },
  {
   "cell_type": "code",
   "execution_count": 67,
   "metadata": {},
   "outputs": [],
   "source": [
    "using CSV\n",
    "using DataFrames\n",
    "using Plots\n",
    "using Statistics\n",
    "using Polynomials"
   ]
  },
  {
   "cell_type": "code",
   "execution_count": 61,
   "metadata": {},
   "outputs": [
    {
     "data": {
      "text/html": [
       "<table class=\"data-frame\"><thead><tr><th></th><th>size</th><th>sample_nr</th><th>naive_mult_time</th><th>better_mult_time</th><th>BLAS_time</th></tr><tr><th></th><th>Int64</th><th>Int64</th><th>Int64</th><th>Int64</th><th>Int64</th></tr></thead><tbody><p>100 rows × 5 columns</p><tr><th>1</th><td>50</td><td>1</td><td>0</td><td>0</td><td>0</td></tr><tr><th>2</th><td>50</td><td>2</td><td>0</td><td>0</td><td>0</td></tr><tr><th>3</th><td>50</td><td>3</td><td>0</td><td>1</td><td>0</td></tr><tr><th>4</th><td>50</td><td>4</td><td>0</td><td>0</td><td>0</td></tr><tr><th>5</th><td>50</td><td>5</td><td>0</td><td>0</td><td>0</td></tr><tr><th>6</th><td>50</td><td>6</td><td>0</td><td>0</td><td>0</td></tr><tr><th>7</th><td>50</td><td>7</td><td>1</td><td>0</td><td>0</td></tr><tr><th>8</th><td>50</td><td>8</td><td>0</td><td>0</td><td>0</td></tr><tr><th>9</th><td>50</td><td>9</td><td>0</td><td>0</td><td>0</td></tr><tr><th>10</th><td>50</td><td>10</td><td>0</td><td>0</td><td>0</td></tr><tr><th>11</th><td>100</td><td>1</td><td>0</td><td>1</td><td>0</td></tr><tr><th>12</th><td>100</td><td>2</td><td>1</td><td>0</td><td>0</td></tr><tr><th>13</th><td>100</td><td>3</td><td>0</td><td>1</td><td>0</td></tr><tr><th>14</th><td>100</td><td>4</td><td>0</td><td>1</td><td>0</td></tr><tr><th>15</th><td>100</td><td>5</td><td>0</td><td>1</td><td>0</td></tr><tr><th>16</th><td>100</td><td>6</td><td>0</td><td>1</td><td>0</td></tr><tr><th>17</th><td>100</td><td>7</td><td>0</td><td>0</td><td>0</td></tr><tr><th>18</th><td>100</td><td>8</td><td>1</td><td>0</td><td>0</td></tr><tr><th>19</th><td>100</td><td>9</td><td>1</td><td>0</td><td>0</td></tr><tr><th>20</th><td>100</td><td>10</td><td>0</td><td>1</td><td>0</td></tr><tr><th>21</th><td>150</td><td>1</td><td>1</td><td>1</td><td>1</td></tr><tr><th>22</th><td>150</td><td>2</td><td>1</td><td>1</td><td>0</td></tr><tr><th>23</th><td>150</td><td>3</td><td>2</td><td>1</td><td>1</td></tr><tr><th>24</th><td>150</td><td>4</td><td>1</td><td>1</td><td>0</td></tr><tr><th>25</th><td>150</td><td>5</td><td>2</td><td>1</td><td>0</td></tr><tr><th>26</th><td>150</td><td>6</td><td>1</td><td>1</td><td>0</td></tr><tr><th>27</th><td>150</td><td>7</td><td>2</td><td>1</td><td>1</td></tr><tr><th>28</th><td>150</td><td>8</td><td>1</td><td>1</td><td>0</td></tr><tr><th>29</th><td>150</td><td>9</td><td>3</td><td>1</td><td>1</td></tr><tr><th>30</th><td>150</td><td>10</td><td>1</td><td>2</td><td>0</td></tr><tr><th>&vellip;</th><td>&vellip;</td><td>&vellip;</td><td>&vellip;</td><td>&vellip;</td><td>&vellip;</td></tr></tbody></table>"
      ],
      "text/latex": [
       "\\begin{tabular}{r|ccccc}\n",
       "\t& size & sample\\_nr & naive\\_mult\\_time & better\\_mult\\_time & BLAS\\_time\\\\\n",
       "\t\\hline\n",
       "\t& Int64 & Int64 & Int64 & Int64 & Int64\\\\\n",
       "\t\\hline\n",
       "\t1 & 50 & 1 & 0 & 0 & 0 \\\\\n",
       "\t2 & 50 & 2 & 0 & 0 & 0 \\\\\n",
       "\t3 & 50 & 3 & 0 & 1 & 0 \\\\\n",
       "\t4 & 50 & 4 & 0 & 0 & 0 \\\\\n",
       "\t5 & 50 & 5 & 0 & 0 & 0 \\\\\n",
       "\t6 & 50 & 6 & 0 & 0 & 0 \\\\\n",
       "\t7 & 50 & 7 & 1 & 0 & 0 \\\\\n",
       "\t8 & 50 & 8 & 0 & 0 & 0 \\\\\n",
       "\t9 & 50 & 9 & 0 & 0 & 0 \\\\\n",
       "\t10 & 50 & 10 & 0 & 0 & 0 \\\\\n",
       "\t11 & 100 & 1 & 0 & 1 & 0 \\\\\n",
       "\t12 & 100 & 2 & 1 & 0 & 0 \\\\\n",
       "\t13 & 100 & 3 & 0 & 1 & 0 \\\\\n",
       "\t14 & 100 & 4 & 0 & 1 & 0 \\\\\n",
       "\t15 & 100 & 5 & 0 & 1 & 0 \\\\\n",
       "\t16 & 100 & 6 & 0 & 1 & 0 \\\\\n",
       "\t17 & 100 & 7 & 0 & 0 & 0 \\\\\n",
       "\t18 & 100 & 8 & 1 & 0 & 0 \\\\\n",
       "\t19 & 100 & 9 & 1 & 0 & 0 \\\\\n",
       "\t20 & 100 & 10 & 0 & 1 & 0 \\\\\n",
       "\t21 & 150 & 1 & 1 & 1 & 1 \\\\\n",
       "\t22 & 150 & 2 & 1 & 1 & 0 \\\\\n",
       "\t23 & 150 & 3 & 2 & 1 & 1 \\\\\n",
       "\t24 & 150 & 4 & 1 & 1 & 0 \\\\\n",
       "\t25 & 150 & 5 & 2 & 1 & 0 \\\\\n",
       "\t26 & 150 & 6 & 1 & 1 & 0 \\\\\n",
       "\t27 & 150 & 7 & 2 & 1 & 1 \\\\\n",
       "\t28 & 150 & 8 & 1 & 1 & 0 \\\\\n",
       "\t29 & 150 & 9 & 3 & 1 & 1 \\\\\n",
       "\t30 & 150 & 10 & 1 & 2 & 0 \\\\\n",
       "\t$\\dots$ & $\\dots$ & $\\dots$ & $\\dots$ & $\\dots$ & $\\dots$ \\\\\n",
       "\\end{tabular}\n"
      ],
      "text/plain": [
       "\u001b[1m100×5 DataFrame\u001b[0m\n",
       "\u001b[1m Row \u001b[0m│\u001b[1m size  \u001b[0m\u001b[1m sample_nr \u001b[0m\u001b[1m naive_mult_time \u001b[0m\u001b[1m better_mult_time \u001b[0m\u001b[1m BLAS_time \u001b[0m\n",
       "\u001b[1m     \u001b[0m│\u001b[90m Int64 \u001b[0m\u001b[90m Int64     \u001b[0m\u001b[90m Int64           \u001b[0m\u001b[90m Int64            \u001b[0m\u001b[90m Int64     \u001b[0m\n",
       "─────┼────────────────────────────────────────────────────────────────\n",
       "   1 │    50          1                0                 0          0\n",
       "   2 │    50          2                0                 0          0\n",
       "   3 │    50          3                0                 1          0\n",
       "   4 │    50          4                0                 0          0\n",
       "   5 │    50          5                0                 0          0\n",
       "   6 │    50          6                0                 0          0\n",
       "   7 │    50          7                1                 0          0\n",
       "   8 │    50          8                0                 0          0\n",
       "   9 │    50          9                0                 0          0\n",
       "  10 │    50         10                0                 0          0\n",
       "  11 │   100          1                0                 1          0\n",
       "  ⋮  │   ⋮        ⋮             ⋮                ⋮              ⋮\n",
       "  91 │   500          1               57                44          8\n",
       "  92 │   500          2               57                44          8\n",
       "  93 │   500          3               58                44          8\n",
       "  94 │   500          4               59                45          8\n",
       "  95 │   500          5               62                50         10\n",
       "  96 │   500          6               63                44          8\n",
       "  97 │   500          7               67                45          8\n",
       "  98 │   500          8               60                44          9\n",
       "  99 │   500          9               59                44          8\n",
       " 100 │   500         10               63                49          9\n",
       "\u001b[36m                                                       79 rows omitted\u001b[0m"
      ]
     },
     "execution_count": 61,
     "metadata": {},
     "output_type": "execute_result"
    }
   ],
   "source": [
    "data=CSV.read(\"results.csv\", DataFrame)\n",
    "data"
   ]
  },
  {
   "cell_type": "code",
   "execution_count": 62,
   "metadata": {},
   "outputs": [
    {
     "data": {
      "text/html": [
       "<table class=\"data-frame\"><thead><tr><th></th><th>size</th><th>naive_mult_time_mean</th></tr><tr><th></th><th>Int64</th><th>Float64</th></tr></thead><tbody><p>10 rows × 2 columns</p><tr><th>1</th><td>50</td><td>0.1</td></tr><tr><th>2</th><td>100</td><td>0.3</td></tr><tr><th>3</th><td>150</td><td>1.5</td></tr><tr><th>4</th><td>200</td><td>3.2</td></tr><tr><th>5</th><td>250</td><td>6.3</td></tr><tr><th>6</th><td>300</td><td>11.1</td></tr><tr><th>7</th><td>350</td><td>19.1</td></tr><tr><th>8</th><td>400</td><td>28.3</td></tr><tr><th>9</th><td>450</td><td>41.8</td></tr><tr><th>10</th><td>500</td><td>60.5</td></tr></tbody></table>"
      ],
      "text/latex": [
       "\\begin{tabular}{r|cc}\n",
       "\t& size & naive\\_mult\\_time\\_mean\\\\\n",
       "\t\\hline\n",
       "\t& Int64 & Float64\\\\\n",
       "\t\\hline\n",
       "\t1 & 50 & 0.1 \\\\\n",
       "\t2 & 100 & 0.3 \\\\\n",
       "\t3 & 150 & 1.5 \\\\\n",
       "\t4 & 200 & 3.2 \\\\\n",
       "\t5 & 250 & 6.3 \\\\\n",
       "\t6 & 300 & 11.1 \\\\\n",
       "\t7 & 350 & 19.1 \\\\\n",
       "\t8 & 400 & 28.3 \\\\\n",
       "\t9 & 450 & 41.8 \\\\\n",
       "\t10 & 500 & 60.5 \\\\\n",
       "\\end{tabular}\n"
      ],
      "text/plain": [
       "\u001b[1m10×2 DataFrame\u001b[0m\n",
       "\u001b[1m Row \u001b[0m│\u001b[1m size  \u001b[0m\u001b[1m naive_mult_time_mean \u001b[0m\n",
       "\u001b[1m     \u001b[0m│\u001b[90m Int64 \u001b[0m\u001b[90m Float64              \u001b[0m\n",
       "─────┼─────────────────────────────\n",
       "   1 │    50                   0.1\n",
       "   2 │   100                   0.3\n",
       "   3 │   150                   1.5\n",
       "   4 │   200                   3.2\n",
       "   5 │   250                   6.3\n",
       "   6 │   300                  11.1\n",
       "   7 │   350                  19.1\n",
       "   8 │   400                  28.3\n",
       "   9 │   450                  41.8\n",
       "  10 │   500                  60.5"
      ]
     },
     "execution_count": 62,
     "metadata": {},
     "output_type": "execute_result"
    }
   ],
   "source": [
    "data_grouped = combine(groupby(data, :size), \"naive_mult_time\" => mean)"
   ]
  },
  {
   "cell_type": "code",
   "execution_count": 68,
   "metadata": {},
   "outputs": [
    {
     "data": {
      "text/html": [
       "&#45;1.1299999999999681 &#43; 0.027282439782439362&#8729;x &#45; 0.00017258741258741113&#8729;x<sup>2</sup> &#43; 7.261849261849247e-7&#8729;x<sup>3</sup>"
      ],
      "text/latex": [
       "$-1.1299999999999681 + 0.027282439782439362\\cdot x - 0.00017258741258741113\\cdot x^{2} + 7.261849261849247e-7\\cdot x^{3}$"
      ],
      "text/plain": [
       "Polynomial(-1.1299999999999681 + 0.027282439782439362*x - 0.00017258741258741113*x^2 + 7.261849261849247e-7*x^3)"
      ]
     },
     "execution_count": 68,
     "metadata": {},
     "output_type": "execute_result"
    }
   ],
   "source": [
    "x = data_grouped[:,1]\n",
    "y = data_grouped[:,2]\n",
    "fit_poly_3=fit(x, y, 3)"
   ]
  },
  {
   "cell_type": "markdown",
   "metadata": {},
   "source": [
    "#### 1. Tworzymy macierz A na podstawie $(x_{i}, y_{i})$"
   ]
  },
  {
   "cell_type": "code",
   "execution_count": 71,
   "metadata": {},
   "outputs": [
    {
     "data": {
      "text/plain": [
       "10×4 Matrix{Float64}:\n",
       " 125000.0         2500.0   50.0  1.0\n",
       "      1.0e6      10000.0  100.0  1.0\n",
       "      3.375e6    22500.0  150.0  1.0\n",
       "      8.0e6      40000.0  200.0  1.0\n",
       "      1.5625e7   62500.0  250.0  1.0\n",
       "      2.7e7      90000.0  300.0  1.0\n",
       "      4.2875e7  122500.0  350.0  1.0\n",
       "      6.4e7     160000.0  400.0  1.0\n",
       "      9.1125e7  202500.0  450.0  1.0\n",
       "      1.25e8    250000.0  500.0  1.0"
      ]
     },
     "execution_count": 71,
     "metadata": {},
     "output_type": "execute_result"
    }
   ],
   "source": [
    "A=zeros(10,4)\n",
    "A[:,1]=x.^3\n",
    "A[:,2]=x.^2\n",
    "A[:,3]=x\n",
    "A[:,4]=ones(10)\n",
    "A"
   ]
  },
  {
   "cell_type": "markdown",
   "metadata": {},
   "source": [
    "#### 2. Dokonujemy faktoryzacji QR macierzy A"
   ]
  },
  {
   "cell_type": "code",
   "execution_count": 73,
   "metadata": {},
   "outputs": [
    {
     "data": {
      "text/plain": [
       "QRPivoted{Float64, Matrix{Float64}}\n",
       "Q factor:\n",
       "10×10 LinearAlgebra.QRPackedQ{Float64, Matrix{Float64}}:\n",
       " -0.000710955  -0.0339428  -0.378124   …  -0.0960535  -0.207478   -0.282764\n",
       " -0.00568764   -0.118713   -0.518293      -0.0634765   0.220747    0.678134\n",
       " -0.0191958    -0.228722   -0.48057        0.497687    0.316026   -0.144889\n",
       " -0.0455012    -0.338383   -0.325016      -0.168339   -0.252272   -0.533898\n",
       " -0.0888694    -0.422107   -0.111694      -0.128003   -0.0471947   0.0717579\n",
       " -0.153566     -0.454308    0.0993344  …  -0.218805   -0.0870957   0.158386\n",
       " -0.243858     -0.409397    0.248007      -0.273819   -0.128876    0.1746\n",
       " -0.364009     -0.261787    0.274262       0.723252   -0.183053    0.0511814\n",
       " -0.518287      0.0141099   0.118037      -0.211292    0.739858   -0.281087\n",
       " -0.710955      0.443882   -0.280731      -0.0611514  -0.370663    0.108578\n",
       "R factor:\n",
       "4×4 Matrix{Float64}:\n",
       " -1.7582e8      -3.92492e5  -900.532  -2.15064\n",
       "  0.0       -65432.4        -377.086  -1.80937\n",
       "  0.0            0.0         -96.689  -1.35479\n",
       "  0.0            0.0           0.0     0.515254\n",
       "permutation:\n",
       "4-element Vector{Int64}:\n",
       " 1\n",
       " 2\n",
       " 3\n",
       " 4"
      ]
     },
     "execution_count": 73,
     "metadata": {},
     "output_type": "execute_result"
    }
   ],
   "source": [
    "# QR Factorization\n",
    "AF=factorize(A)"
   ]
  },
  {
   "cell_type": "code",
   "execution_count": 74,
   "metadata": {},
   "outputs": [
    {
     "data": {
      "text/plain": [
       "10×10 Matrix{Float64}:\n",
       "  1.0           0.0          -1.11022e-16  …   0.0          -5.55112e-17\n",
       "  0.0           1.0           2.77556e-17      2.77556e-17   1.59595e-16\n",
       " -1.11022e-16   2.77556e-17   1.0             -1.38778e-17   1.49186e-16\n",
       "  2.498e-16    -2.77556e-17   1.11022e-16      8.32667e-17   2.67147e-16\n",
       "  2.77556e-17  -3.1225e-17    2.08167e-17      3.46945e-18   9.28077e-17\n",
       "  1.38778e-17   4.85723e-17  -1.52656e-16  …   2.77556e-17  -1.21431e-17\n",
       "  2.08167e-17  -6.245e-17    -1.2837e-16       4.16334e-17   6.93889e-18\n",
       "  4.16334e-17   7.28584e-17  -8.32667e-17     -2.42861e-17  -2.77556e-17\n",
       "  0.0           2.77556e-17  -1.38778e-17      1.0           9.71445e-17\n",
       " -5.55112e-17   1.59595e-16   1.49186e-16      9.71445e-17   1.0"
      ]
     },
     "execution_count": 74,
     "metadata": {},
     "output_type": "execute_result"
    }
   ],
   "source": [
    "# Orthogonal check\n",
    "Transpose(AF.Q)*AF.Q"
   ]
  },
  {
   "cell_type": "code",
   "execution_count": 121,
   "metadata": {},
   "outputs": [
    {
     "data": {
      "text/plain": [
       "4-element Vector{Float64}:\n",
       "  7.261849261849285e-7\n",
       " -0.00017258741258741487\n",
       "  0.02728243978244043\n",
       " -1.1300000000000523"
      ]
     },
     "execution_count": 121,
     "metadata": {},
     "output_type": "execute_result"
    }
   ],
   "source": [
    "# Solve\n",
    "solution1 = AF.R\\((Transpose(AF.Q)*y)[1:4])"
   ]
  },
  {
   "cell_type": "code",
   "execution_count": 122,
   "metadata": {},
   "outputs": [
    {
     "data": {
      "text/plain": [
       "4-element Vector{Float64}:\n",
       "  7.261849261849268e-7\n",
       " -0.00017258741258741316\n",
       "  0.027282439782439966\n",
       " -1.1300000000000152"
      ]
     },
     "execution_count": 122,
     "metadata": {},
     "output_type": "execute_result"
    }
   ],
   "source": [
    "# Equivalent to\n",
    "solution2 = A\\y"
   ]
  },
  {
   "cell_type": "code",
   "execution_count": 127,
   "metadata": {},
   "outputs": [
    {
     "data": {
      "text/plain": [
       "compare_results (generic function with 1 method)"
      ]
     },
     "execution_count": 127,
     "metadata": {},
     "output_type": "execute_result"
    }
   ],
   "source": [
    "function digitss(vec, digs)\n",
    "    return [round(xs, digits=digs) for xs in vec]\n",
    "end\n",
    "\n",
    "function compare_results(sol1, sol2, sol3, digits)\n",
    "    s1 = digitss(sol1, digits)\n",
    "    s2 = digitss(sol2, digits)\n",
    "    s3 = digitss(sol3, digits)\n",
    "    for i in eachindex(s1)\n",
    "        if s1[i] != s2[i] || s2[i] != s3[i] || s1[i] != s3[i]\n",
    "            return false\n",
    "        end\n",
    "    end\n",
    "    return true\n",
    "end"
   ]
  },
  {
   "cell_type": "code",
   "execution_count": 120,
   "metadata": {},
   "outputs": [
    {
     "data": {
      "text/plain": [
       "4-element Vector{Float64}:\n",
       "  7.261849261849247e-7\n",
       " -0.00017258741258741113\n",
       "  0.027282439782439362\n",
       " -1.1299999999999681"
      ]
     },
     "execution_count": 120,
     "metadata": {},
     "output_type": "execute_result"
    }
   ],
   "source": [
    "solution3 = reverse(coeffs(fit_poly_3))"
   ]
  },
  {
   "cell_type": "code",
   "execution_count": 133,
   "metadata": {},
   "outputs": [
    {
     "data": {
      "text/plain": [
       "true"
      ]
     },
     "execution_count": 133,
     "metadata": {},
     "output_type": "execute_result"
    }
   ],
   "source": [
    "compare_results(solution1, solution2, solution3, 12)"
   ]
  },
  {
   "cell_type": "code",
   "execution_count": 134,
   "metadata": {},
   "outputs": [
    {
     "data": {
      "text/plain": [
       "false"
      ]
     },
     "execution_count": 134,
     "metadata": {},
     "output_type": "execute_result"
    }
   ],
   "source": [
    "compare_results(solution1, solution2, solution3, 13)"
   ]
  },
  {
   "cell_type": "markdown",
   "metadata": {},
   "source": [
    "#### Uzyskane trzema metodami wartości współczynników wielomianu aproksymującego są takie same z dokładnością do 12 miesjc po przecinku."
   ]
  },
  {
   "cell_type": "markdown",
   "metadata": {},
   "source": [
    "### Zadanie 3"
   ]
  }
 ],
 "metadata": {
  "kernelspec": {
   "display_name": "Julia 1.6.0",
   "language": "julia",
   "name": "julia-1.6"
  },
  "language_info": {
   "file_extension": ".jl",
   "mimetype": "application/julia",
   "name": "julia",
   "version": "1.6.0"
  }
 },
 "nbformat": 4,
 "nbformat_minor": 4
}
